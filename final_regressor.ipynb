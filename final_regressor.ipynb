{
 "cells": [
  {
   "cell_type": "code",
   "execution_count": 1,
   "metadata": {},
   "outputs": [
    {
     "data": {
      "text/html": [
       "<div>\n",
       "<style scoped>\n",
       "    .dataframe tbody tr th:only-of-type {\n",
       "        vertical-align: middle;\n",
       "    }\n",
       "\n",
       "    .dataframe tbody tr th {\n",
       "        vertical-align: top;\n",
       "    }\n",
       "\n",
       "    .dataframe thead th {\n",
       "        text-align: right;\n",
       "    }\n",
       "</style>\n",
       "<table border=\"1\" class=\"dataframe\">\n",
       "  <thead>\n",
       "    <tr style=\"text-align: right;\">\n",
       "      <th></th>\n",
       "      <th>name</th>\n",
       "      <th>finetune_result</th>\n",
       "    </tr>\n",
       "  </thead>\n",
       "  <tbody>\n",
       "    <tr>\n",
       "      <th>0</th>\n",
       "      <td>bert-base-uncased</td>\n",
       "      <td>0.93900</td>\n",
       "    </tr>\n",
       "    <tr>\n",
       "      <th>1</th>\n",
       "      <td>finetuned-scrumbled-wikitext2-3e-4-checkpoint-80</td>\n",
       "      <td>0.93484</td>\n",
       "    </tr>\n",
       "    <tr>\n",
       "      <th>2</th>\n",
       "      <td>finetuned-scrumbled-wikitext2-3e-4-checkpoint-160</td>\n",
       "      <td>0.93164</td>\n",
       "    </tr>\n",
       "    <tr>\n",
       "      <th>3</th>\n",
       "      <td>finetuned-scrumbled-wikitext2-3e-4-checkpoint-240</td>\n",
       "      <td>0.92928</td>\n",
       "    </tr>\n",
       "    <tr>\n",
       "      <th>4</th>\n",
       "      <td>finetuned-scrumbled-wikitext2-3e-4-checkpoint-320</td>\n",
       "      <td>0.92856</td>\n",
       "    </tr>\n",
       "    <tr>\n",
       "      <th>...</th>\n",
       "      <td>...</td>\n",
       "      <td>...</td>\n",
       "    </tr>\n",
       "    <tr>\n",
       "      <th>69</th>\n",
       "      <td>finetuned-scrumbled-wikitext2-3e-4-checkpoint-...</td>\n",
       "      <td>0.87840</td>\n",
       "    </tr>\n",
       "    <tr>\n",
       "      <th>70</th>\n",
       "      <td>finetuned-scrumbled-wikitext2-3e-4-checkpoint-...</td>\n",
       "      <td>0.87900</td>\n",
       "    </tr>\n",
       "    <tr>\n",
       "      <th>71</th>\n",
       "      <td>finetuned-scrumbled-wikitext2-3e-4-checkpoint-...</td>\n",
       "      <td>0.87840</td>\n",
       "    </tr>\n",
       "    <tr>\n",
       "      <th>72</th>\n",
       "      <td>finetuned-scrumbled-wikitext2-3e-4-checkpoint-...</td>\n",
       "      <td>0.87824</td>\n",
       "    </tr>\n",
       "    <tr>\n",
       "      <th>73</th>\n",
       "      <td>finetuned-scrumbled-wikitext2-3e-4-checkpoint-...</td>\n",
       "      <td>0.88028</td>\n",
       "    </tr>\n",
       "  </tbody>\n",
       "</table>\n",
       "<p>74 rows × 2 columns</p>\n",
       "</div>"
      ],
      "text/plain": [
       "                                                 name  finetune_result\n",
       "0                                   bert-base-uncased          0.93900\n",
       "1    finetuned-scrumbled-wikitext2-3e-4-checkpoint-80          0.93484\n",
       "2   finetuned-scrumbled-wikitext2-3e-4-checkpoint-160          0.93164\n",
       "3   finetuned-scrumbled-wikitext2-3e-4-checkpoint-240          0.92928\n",
       "4   finetuned-scrumbled-wikitext2-3e-4-checkpoint-320          0.92856\n",
       "..                                                ...              ...\n",
       "69  finetuned-scrumbled-wikitext2-3e-4-checkpoint-...          0.87840\n",
       "70  finetuned-scrumbled-wikitext2-3e-4-checkpoint-...          0.87900\n",
       "71  finetuned-scrumbled-wikitext2-3e-4-checkpoint-...          0.87840\n",
       "72  finetuned-scrumbled-wikitext2-3e-4-checkpoint-...          0.87824\n",
       "73  finetuned-scrumbled-wikitext2-3e-4-checkpoint-...          0.88028\n",
       "\n",
       "[74 rows x 2 columns]"
      ]
     },
     "execution_count": 1,
     "metadata": {},
     "output_type": "execute_result"
    }
   ],
   "source": [
    "import sklearn\n",
    "import pandas as pd\n",
    "\n",
    "def rename_checkpoint(df: pd.DataFrame, column_name: str):\n",
    "    df[\"name\"] = df[\"name\"].str.replace(\"./\", \"\", regex=False)\n",
    "    df[\"name\"] = df[\"name\"].str.replace(\"/\", \"-\", regex=False)\n",
    "    df[\"name\"] = df[\"name\"].str.replace(\"_\", \"-\", regex=False)\n",
    "\n",
    "\n",
    "finetune_from_scratch_result = 0.77912\n",
    "\n",
    "data_finetune = pd.read_csv(\"data_imdb_new.csv\", sep=\"\\t\", header=None, names=[\"name\", \"finetune_result\"])\n",
    "rename_checkpoint(data_finetune, \"name\")\n",
    "data_finetune"
   ]
  },
  {
   "cell_type": "code",
   "execution_count": 2,
   "metadata": {},
   "outputs": [
    {
     "data": {
      "text/html": [
       "<div>\n",
       "<style scoped>\n",
       "    .dataframe tbody tr th:only-of-type {\n",
       "        vertical-align: middle;\n",
       "    }\n",
       "\n",
       "    .dataframe tbody tr th {\n",
       "        vertical-align: top;\n",
       "    }\n",
       "\n",
       "    .dataframe thead th {\n",
       "        text-align: right;\n",
       "    }\n",
       "</style>\n",
       "<table border=\"1\" class=\"dataframe\">\n",
       "  <thead>\n",
       "    <tr style=\"text-align: right;\">\n",
       "      <th></th>\n",
       "      <th>name</th>\n",
       "      <th>CR_results</th>\n",
       "      <th>MR_results</th>\n",
       "      <th>MPQA_results</th>\n",
       "      <th>SUBJ_results</th>\n",
       "      <th>SST2_results</th>\n",
       "      <th>SST5_results</th>\n",
       "    </tr>\n",
       "  </thead>\n",
       "  <tbody>\n",
       "    <tr>\n",
       "      <th>0</th>\n",
       "      <td>bert-base-uncased</td>\n",
       "      <td>0.8665</td>\n",
       "      <td>0.8194</td>\n",
       "      <td>0.8796</td>\n",
       "      <td>0.9570</td>\n",
       "      <td>0.8666</td>\n",
       "      <td>0.4584</td>\n",
       "    </tr>\n",
       "    <tr>\n",
       "      <th>1</th>\n",
       "      <td>finetuned-scrumbled-wikitext2-3e-4-checkpoint-80</td>\n",
       "      <td>0.8379</td>\n",
       "      <td>0.7878</td>\n",
       "      <td>0.8827</td>\n",
       "      <td>0.9436</td>\n",
       "      <td>0.8429</td>\n",
       "      <td>0.4385</td>\n",
       "    </tr>\n",
       "    <tr>\n",
       "      <th>2</th>\n",
       "      <td>finetuned-scrumbled-wikitext2-3e-4-checkpoint-160</td>\n",
       "      <td>0.8450</td>\n",
       "      <td>0.7896</td>\n",
       "      <td>0.8663</td>\n",
       "      <td>0.9426</td>\n",
       "      <td>0.8342</td>\n",
       "      <td>0.4584</td>\n",
       "    </tr>\n",
       "    <tr>\n",
       "      <th>3</th>\n",
       "      <td>finetuned-scrumbled-wikitext2-3e-4-checkpoint-240</td>\n",
       "      <td>0.8220</td>\n",
       "      <td>0.7720</td>\n",
       "      <td>0.8601</td>\n",
       "      <td>0.9356</td>\n",
       "      <td>0.8072</td>\n",
       "      <td>0.4330</td>\n",
       "    </tr>\n",
       "    <tr>\n",
       "      <th>4</th>\n",
       "      <td>finetuned-scrumbled-wikitext2-3e-4-checkpoint-320</td>\n",
       "      <td>0.8212</td>\n",
       "      <td>0.7619</td>\n",
       "      <td>0.8576</td>\n",
       "      <td>0.9285</td>\n",
       "      <td>0.8127</td>\n",
       "      <td>0.4285</td>\n",
       "    </tr>\n",
       "    <tr>\n",
       "      <th>...</th>\n",
       "      <td>...</td>\n",
       "      <td>...</td>\n",
       "      <td>...</td>\n",
       "      <td>...</td>\n",
       "      <td>...</td>\n",
       "      <td>...</td>\n",
       "      <td>...</td>\n",
       "    </tr>\n",
       "    <tr>\n",
       "      <th>88</th>\n",
       "      <td>finetuned-scrumbled-wikitext2-3e-4-checkpoint-...</td>\n",
       "      <td>0.7478</td>\n",
       "      <td>0.6926</td>\n",
       "      <td>0.8410</td>\n",
       "      <td>0.8989</td>\n",
       "      <td>0.7457</td>\n",
       "      <td>0.3638</td>\n",
       "    </tr>\n",
       "    <tr>\n",
       "      <th>89</th>\n",
       "      <td>finetuned-scrumbled-wikitext2-3e-4-checkpoint-...</td>\n",
       "      <td>0.7367</td>\n",
       "      <td>0.6926</td>\n",
       "      <td>0.8302</td>\n",
       "      <td>0.9021</td>\n",
       "      <td>0.7386</td>\n",
       "      <td>0.3624</td>\n",
       "    </tr>\n",
       "    <tr>\n",
       "      <th>90</th>\n",
       "      <td>finetuned-scrumbled-wikitext2-3e-4-checkpoint-...</td>\n",
       "      <td>0.7410</td>\n",
       "      <td>0.6971</td>\n",
       "      <td>0.8310</td>\n",
       "      <td>0.8964</td>\n",
       "      <td>0.7392</td>\n",
       "      <td>0.3715</td>\n",
       "    </tr>\n",
       "    <tr>\n",
       "      <th>91</th>\n",
       "      <td>finetuned-scrumbled-wikitext2-3e-4-checkpoint-...</td>\n",
       "      <td>0.7428</td>\n",
       "      <td>0.6959</td>\n",
       "      <td>0.8341</td>\n",
       "      <td>0.9019</td>\n",
       "      <td>0.7364</td>\n",
       "      <td>0.3729</td>\n",
       "    </tr>\n",
       "    <tr>\n",
       "      <th>92</th>\n",
       "      <td>finetuned-scrumbled-wikitext2-3e-4-checkpoint-...</td>\n",
       "      <td>0.7452</td>\n",
       "      <td>0.6955</td>\n",
       "      <td>0.8358</td>\n",
       "      <td>0.9002</td>\n",
       "      <td>0.7414</td>\n",
       "      <td>0.3910</td>\n",
       "    </tr>\n",
       "  </tbody>\n",
       "</table>\n",
       "<p>93 rows × 7 columns</p>\n",
       "</div>"
      ],
      "text/plain": [
       "                                                 name  CR_results  MR_results  \\\n",
       "0                                   bert-base-uncased      0.8665      0.8194   \n",
       "1    finetuned-scrumbled-wikitext2-3e-4-checkpoint-80      0.8379      0.7878   \n",
       "2   finetuned-scrumbled-wikitext2-3e-4-checkpoint-160      0.8450      0.7896   \n",
       "3   finetuned-scrumbled-wikitext2-3e-4-checkpoint-240      0.8220      0.7720   \n",
       "4   finetuned-scrumbled-wikitext2-3e-4-checkpoint-320      0.8212      0.7619   \n",
       "..                                                ...         ...         ...   \n",
       "88  finetuned-scrumbled-wikitext2-3e-4-checkpoint-...      0.7478      0.6926   \n",
       "89  finetuned-scrumbled-wikitext2-3e-4-checkpoint-...      0.7367      0.6926   \n",
       "90  finetuned-scrumbled-wikitext2-3e-4-checkpoint-...      0.7410      0.6971   \n",
       "91  finetuned-scrumbled-wikitext2-3e-4-checkpoint-...      0.7428      0.6959   \n",
       "92  finetuned-scrumbled-wikitext2-3e-4-checkpoint-...      0.7452      0.6955   \n",
       "\n",
       "    MPQA_results  SUBJ_results  SST2_results  SST5_results  \n",
       "0         0.8796        0.9570        0.8666        0.4584  \n",
       "1         0.8827        0.9436        0.8429        0.4385  \n",
       "2         0.8663        0.9426        0.8342        0.4584  \n",
       "3         0.8601        0.9356        0.8072        0.4330  \n",
       "4         0.8576        0.9285        0.8127        0.4285  \n",
       "..           ...           ...           ...           ...  \n",
       "88        0.8410        0.8989        0.7457        0.3638  \n",
       "89        0.8302        0.9021        0.7386        0.3624  \n",
       "90        0.8310        0.8964        0.7392        0.3715  \n",
       "91        0.8341        0.9019        0.7364        0.3729  \n",
       "92        0.8358        0.9002        0.7414        0.3910  \n",
       "\n",
       "[93 rows x 7 columns]"
      ]
     },
     "execution_count": 2,
     "metadata": {},
     "output_type": "execute_result"
    }
   ],
   "source": [
    "from functools import partial\n",
    "import json\n",
    "\n",
    "\n",
    "def extract(name, data):\n",
    "    data_dict = json.loads(data.replace(\"'\", \"\\\"\"))\n",
    "    return data_dict[name][\"acc\"] / 100\n",
    "\n",
    "\n",
    "data_probing = pd.read_csv(\"probing_res.txt\", sep=\"\\t\", header=None, names=[\"name\", \"probing_result\"])\n",
    "for probing_ds in [\"CR\", \"MR\", \"MPQA\", \"SUBJ\", \"SST2\", \"SST5\"]:\n",
    "    data_probing[f\"{probing_ds}_results\"] = data_probing[\"probing_result\"].map(partial(extract, probing_ds))\n",
    "data_probing.drop(\"probing_result\", axis=1, inplace=True)\n",
    "rename_checkpoint(data_probing, \"name\")\n",
    "data_probing"
   ]
  },
  {
   "cell_type": "code",
   "execution_count": 3,
   "metadata": {},
   "outputs": [
    {
     "data": {
      "text/html": [
       "<div>\n",
       "<style scoped>\n",
       "    .dataframe tbody tr th:only-of-type {\n",
       "        vertical-align: middle;\n",
       "    }\n",
       "\n",
       "    .dataframe tbody tr th {\n",
       "        vertical-align: top;\n",
       "    }\n",
       "\n",
       "    .dataframe thead th {\n",
       "        text-align: right;\n",
       "    }\n",
       "</style>\n",
       "<table border=\"1\" class=\"dataframe\">\n",
       "  <thead>\n",
       "    <tr style=\"text-align: right;\">\n",
       "      <th></th>\n",
       "      <th>name</th>\n",
       "      <th>attention_features</th>\n",
       "    </tr>\n",
       "  </thead>\n",
       "  <tbody>\n",
       "    <tr>\n",
       "      <th>0</th>\n",
       "      <td>finetuned-scrumbled-wikitext2-3e-4-checkpoint-...</td>\n",
       "      <td>[[[[264.75, 270.5, 270.75, 270.75, 270.75, 270...</td>\n",
       "    </tr>\n",
       "    <tr>\n",
       "      <th>1</th>\n",
       "      <td>finetuned-scrumbled-wikitext2-3e-4-checkpoint-720</td>\n",
       "      <td>[[[[264.0, 270.5, 270.75, 270.75, 270.75, 270....</td>\n",
       "    </tr>\n",
       "    <tr>\n",
       "      <th>2</th>\n",
       "      <td>finetuned-scrumbled-wikitext2-3e-4-checkpoint-...</td>\n",
       "      <td>[[[[266.0, 270.5, 270.75, 270.75, 270.75, 270....</td>\n",
       "    </tr>\n",
       "    <tr>\n",
       "      <th>3</th>\n",
       "      <td>finetuned-scrumbled-wikitext2-3e-4-checkpoint-...</td>\n",
       "      <td>[[[[264.75, 270.5, 270.75, 270.75, 270.75, 270...</td>\n",
       "    </tr>\n",
       "    <tr>\n",
       "      <th>4</th>\n",
       "      <td>finetuned-scrumbled-wikitext2-3e-4-checkpoint-560</td>\n",
       "      <td>[[[[265.0, 270.5, 270.75, 270.75, 270.75, 270....</td>\n",
       "    </tr>\n",
       "    <tr>\n",
       "      <th>...</th>\n",
       "      <td>...</td>\n",
       "      <td>...</td>\n",
       "    </tr>\n",
       "    <tr>\n",
       "      <th>67</th>\n",
       "      <td>finetuned-scrumbled-wikitext2-3e-4-checkpoint-...</td>\n",
       "      <td>[[[[264.5, 270.5, 270.75, 270.75, 270.75, 270....</td>\n",
       "    </tr>\n",
       "    <tr>\n",
       "      <th>68</th>\n",
       "      <td>finetuned-scrumbled-wikitext2-3e-4-checkpoint-...</td>\n",
       "      <td>[[[[266.75, 270.75, 270.75, 270.75, 270.75, 27...</td>\n",
       "    </tr>\n",
       "    <tr>\n",
       "      <th>69</th>\n",
       "      <td>finetuned-scrumbled-wikitext2-3e-4-checkpoint-...</td>\n",
       "      <td>[[[[266.25, 270.5, 270.75, 270.75, 270.75, 270...</td>\n",
       "    </tr>\n",
       "    <tr>\n",
       "      <th>70</th>\n",
       "      <td>finetuned-scrumbled-wikitext2-3e-4-checkpoint-...</td>\n",
       "      <td>[[[[266.25, 270.5, 270.75, 270.75, 270.75, 270...</td>\n",
       "    </tr>\n",
       "    <tr>\n",
       "      <th>71</th>\n",
       "      <td>finetuned-scrumbled-wikitext2-3e-4-checkpoint-...</td>\n",
       "      <td>[[[[266.5, 270.75, 270.75, 270.75, 270.75, 270...</td>\n",
       "    </tr>\n",
       "  </tbody>\n",
       "</table>\n",
       "<p>72 rows × 2 columns</p>\n",
       "</div>"
      ],
      "text/plain": [
       "                                                 name  \\\n",
       "0   finetuned-scrumbled-wikitext2-3e-4-checkpoint-...   \n",
       "1   finetuned-scrumbled-wikitext2-3e-4-checkpoint-720   \n",
       "2   finetuned-scrumbled-wikitext2-3e-4-checkpoint-...   \n",
       "3   finetuned-scrumbled-wikitext2-3e-4-checkpoint-...   \n",
       "4   finetuned-scrumbled-wikitext2-3e-4-checkpoint-560   \n",
       "..                                                ...   \n",
       "67  finetuned-scrumbled-wikitext2-3e-4-checkpoint-...   \n",
       "68  finetuned-scrumbled-wikitext2-3e-4-checkpoint-...   \n",
       "69  finetuned-scrumbled-wikitext2-3e-4-checkpoint-...   \n",
       "70  finetuned-scrumbled-wikitext2-3e-4-checkpoint-...   \n",
       "71  finetuned-scrumbled-wikitext2-3e-4-checkpoint-...   \n",
       "\n",
       "                                   attention_features  \n",
       "0   [[[[264.75, 270.5, 270.75, 270.75, 270.75, 270...  \n",
       "1   [[[[264.0, 270.5, 270.75, 270.75, 270.75, 270....  \n",
       "2   [[[[266.0, 270.5, 270.75, 270.75, 270.75, 270....  \n",
       "3   [[[[264.75, 270.5, 270.75, 270.75, 270.75, 270...  \n",
       "4   [[[[265.0, 270.5, 270.75, 270.75, 270.75, 270....  \n",
       "..                                                ...  \n",
       "67  [[[[264.5, 270.5, 270.75, 270.75, 270.75, 270....  \n",
       "68  [[[[266.75, 270.75, 270.75, 270.75, 270.75, 27...  \n",
       "69  [[[[266.25, 270.5, 270.75, 270.75, 270.75, 270...  \n",
       "70  [[[[266.25, 270.5, 270.75, 270.75, 270.75, 270...  \n",
       "71  [[[[266.5, 270.75, 270.75, 270.75, 270.75, 270...  \n",
       "\n",
       "[72 rows x 2 columns]"
      ]
     },
     "execution_count": 3,
     "metadata": {},
     "output_type": "execute_result"
    }
   ],
   "source": [
    "import os\n",
    "import pickle\n",
    "import numpy as np\n",
    "\n",
    "features_path = \"attention_features\"\n",
    "\n",
    "names = os.listdir(features_path)\n",
    "features = []\n",
    "for name in names:\n",
    "    file_path = f\"{features_path}/{name}\"\n",
    "    with open(file_path, \"rb\") as file:\n",
    "        model_features = np.load(file)\n",
    "    features.append(model_features)\n",
    "\n",
    "features = np.array(features)\n",
    "features = features.mean(axis=-2)\n",
    "data_attentions = pd.DataFrame({\"name\": names, \"attention_features\": features.tolist()})\n",
    "rename_checkpoint(data_attentions, \"name\")\n",
    "data_attentions"
   ]
  },
  {
   "cell_type": "code",
   "execution_count": 4,
   "metadata": {},
   "outputs": [
    {
     "data": {
      "text/plain": [
       "array([[2.648e+02, 2.705e+02, 2.708e+02, 2.708e+02, 2.708e+02, 2.708e+02],\n",
       "       [1.821e+02, 1.948e+01, 1.332e+00, 1.221e-02, 0.000e+00, 0.000e+00],\n",
       "       [2.557e+00, 3.215e-01, 2.940e-02, 3.343e-04, 0.000e+00, 0.000e+00],\n",
       "       [7.725e+01, 1.744e+00, 2.002e-02, 4.883e-04, 0.000e+00, 0.000e+00],\n",
       "       [1.786e+02, 2.556e+02, 2.712e+02, 2.725e+02, 2.725e+02, 2.725e+02],\n",
       "       [8.356e+01, 2.486e+00, 4.150e-02, 4.883e-04, 0.000e+00, 0.000e+00]],\n",
       "      dtype=float16)"
      ]
     },
     "execution_count": 4,
     "metadata": {},
     "output_type": "execute_result"
    }
   ],
   "source": [
    "features[0, 0, 0]"
   ]
  },
  {
   "cell_type": "code",
   "execution_count": 5,
   "metadata": {},
   "outputs": [
    {
     "data": {
      "text/html": [
       "<div>\n",
       "<style scoped>\n",
       "    .dataframe tbody tr th:only-of-type {\n",
       "        vertical-align: middle;\n",
       "    }\n",
       "\n",
       "    .dataframe tbody tr th {\n",
       "        vertical-align: top;\n",
       "    }\n",
       "\n",
       "    .dataframe thead th {\n",
       "        text-align: right;\n",
       "    }\n",
       "</style>\n",
       "<table border=\"1\" class=\"dataframe\">\n",
       "  <thead>\n",
       "    <tr style=\"text-align: right;\">\n",
       "      <th></th>\n",
       "      <th>name</th>\n",
       "      <th>finetune_result</th>\n",
       "      <th>CR_results</th>\n",
       "      <th>MR_results</th>\n",
       "      <th>MPQA_results</th>\n",
       "      <th>SUBJ_results</th>\n",
       "      <th>SST2_results</th>\n",
       "      <th>SST5_results</th>\n",
       "      <th>attention_features</th>\n",
       "    </tr>\n",
       "  </thead>\n",
       "  <tbody>\n",
       "    <tr>\n",
       "      <th>0</th>\n",
       "      <td>bert-base-uncased</td>\n",
       "      <td>0.93900</td>\n",
       "      <td>0.8665</td>\n",
       "      <td>0.8194</td>\n",
       "      <td>0.8796</td>\n",
       "      <td>0.9570</td>\n",
       "      <td>0.8666</td>\n",
       "      <td>0.4584</td>\n",
       "      <td>[[[[267.0, 270.75, 270.75, 270.75, 270.75, 270...</td>\n",
       "    </tr>\n",
       "    <tr>\n",
       "      <th>1</th>\n",
       "      <td>finetuned-scrumbled-wikitext2-3e-4-checkpoint-80</td>\n",
       "      <td>0.93484</td>\n",
       "      <td>0.8379</td>\n",
       "      <td>0.7878</td>\n",
       "      <td>0.8827</td>\n",
       "      <td>0.9436</td>\n",
       "      <td>0.8429</td>\n",
       "      <td>0.4385</td>\n",
       "      <td>[[[[263.75, 270.5, 270.75, 270.75, 270.75, 270...</td>\n",
       "    </tr>\n",
       "    <tr>\n",
       "      <th>2</th>\n",
       "      <td>finetuned-scrumbled-wikitext2-3e-4-checkpoint-160</td>\n",
       "      <td>0.93164</td>\n",
       "      <td>0.8450</td>\n",
       "      <td>0.7896</td>\n",
       "      <td>0.8663</td>\n",
       "      <td>0.9426</td>\n",
       "      <td>0.8342</td>\n",
       "      <td>0.4584</td>\n",
       "      <td>[[[[264.0, 270.5, 270.75, 270.75, 270.75, 270....</td>\n",
       "    </tr>\n",
       "    <tr>\n",
       "      <th>3</th>\n",
       "      <td>finetuned-scrumbled-wikitext2-3e-4-checkpoint-240</td>\n",
       "      <td>0.92928</td>\n",
       "      <td>0.8220</td>\n",
       "      <td>0.7720</td>\n",
       "      <td>0.8601</td>\n",
       "      <td>0.9356</td>\n",
       "      <td>0.8072</td>\n",
       "      <td>0.4330</td>\n",
       "      <td>[[[[265.25, 270.5, 270.75, 270.75, 270.75, 270...</td>\n",
       "    </tr>\n",
       "    <tr>\n",
       "      <th>4</th>\n",
       "      <td>finetuned-scrumbled-wikitext2-3e-4-checkpoint-320</td>\n",
       "      <td>0.92856</td>\n",
       "      <td>0.8212</td>\n",
       "      <td>0.7619</td>\n",
       "      <td>0.8576</td>\n",
       "      <td>0.9285</td>\n",
       "      <td>0.8127</td>\n",
       "      <td>0.4285</td>\n",
       "      <td>[[[[265.75, 270.5, 270.75, 270.75, 270.75, 270...</td>\n",
       "    </tr>\n",
       "    <tr>\n",
       "      <th>...</th>\n",
       "      <td>...</td>\n",
       "      <td>...</td>\n",
       "      <td>...</td>\n",
       "      <td>...</td>\n",
       "      <td>...</td>\n",
       "      <td>...</td>\n",
       "      <td>...</td>\n",
       "      <td>...</td>\n",
       "      <td>...</td>\n",
       "    </tr>\n",
       "    <tr>\n",
       "      <th>67</th>\n",
       "      <td>finetuned-scrumbled-wikitext2-3e-4-checkpoint-...</td>\n",
       "      <td>0.87888</td>\n",
       "      <td>0.7571</td>\n",
       "      <td>0.7063</td>\n",
       "      <td>0.8341</td>\n",
       "      <td>0.9065</td>\n",
       "      <td>0.7474</td>\n",
       "      <td>0.3910</td>\n",
       "      <td>[[[[266.0, 270.5, 270.75, 270.75, 270.75, 270....</td>\n",
       "    </tr>\n",
       "    <tr>\n",
       "      <th>68</th>\n",
       "      <td>finetuned-scrumbled-wikitext2-3e-4-checkpoint-...</td>\n",
       "      <td>0.87884</td>\n",
       "      <td>0.7558</td>\n",
       "      <td>0.7053</td>\n",
       "      <td>0.8336</td>\n",
       "      <td>0.9063</td>\n",
       "      <td>0.7446</td>\n",
       "      <td>0.3796</td>\n",
       "      <td>[[[[264.75, 270.5, 270.75, 270.75, 270.75, 270...</td>\n",
       "    </tr>\n",
       "    <tr>\n",
       "      <th>69</th>\n",
       "      <td>finetuned-scrumbled-wikitext2-3e-4-checkpoint-...</td>\n",
       "      <td>0.87840</td>\n",
       "      <td>0.7597</td>\n",
       "      <td>0.7051</td>\n",
       "      <td>0.8332</td>\n",
       "      <td>0.9039</td>\n",
       "      <td>0.7386</td>\n",
       "      <td>0.3706</td>\n",
       "      <td>[[[[266.25, 270.75, 270.75, 270.75, 270.75, 27...</td>\n",
       "    </tr>\n",
       "    <tr>\n",
       "      <th>70</th>\n",
       "      <td>finetuned-scrumbled-wikitext2-3e-4-checkpoint-...</td>\n",
       "      <td>0.87900</td>\n",
       "      <td>0.7526</td>\n",
       "      <td>0.7044</td>\n",
       "      <td>0.8328</td>\n",
       "      <td>0.8992</td>\n",
       "      <td>0.7463</td>\n",
       "      <td>0.3805</td>\n",
       "      <td>[[[[265.25, 270.5, 270.75, 270.75, 270.75, 270...</td>\n",
       "    </tr>\n",
       "    <tr>\n",
       "      <th>71</th>\n",
       "      <td>finetuned-scrumbled-wikitext2-3e-4-checkpoint-...</td>\n",
       "      <td>0.87840</td>\n",
       "      <td>0.7581</td>\n",
       "      <td>0.7073</td>\n",
       "      <td>0.8322</td>\n",
       "      <td>0.9042</td>\n",
       "      <td>0.7326</td>\n",
       "      <td>0.3661</td>\n",
       "      <td>[[[[265.75, 270.5, 270.75, 270.75, 270.75, 270...</td>\n",
       "    </tr>\n",
       "  </tbody>\n",
       "</table>\n",
       "<p>72 rows × 9 columns</p>\n",
       "</div>"
      ],
      "text/plain": [
       "                                                 name  finetune_result  \\\n",
       "0                                   bert-base-uncased          0.93900   \n",
       "1    finetuned-scrumbled-wikitext2-3e-4-checkpoint-80          0.93484   \n",
       "2   finetuned-scrumbled-wikitext2-3e-4-checkpoint-160          0.93164   \n",
       "3   finetuned-scrumbled-wikitext2-3e-4-checkpoint-240          0.92928   \n",
       "4   finetuned-scrumbled-wikitext2-3e-4-checkpoint-320          0.92856   \n",
       "..                                                ...              ...   \n",
       "67  finetuned-scrumbled-wikitext2-3e-4-checkpoint-...          0.87888   \n",
       "68  finetuned-scrumbled-wikitext2-3e-4-checkpoint-...          0.87884   \n",
       "69  finetuned-scrumbled-wikitext2-3e-4-checkpoint-...          0.87840   \n",
       "70  finetuned-scrumbled-wikitext2-3e-4-checkpoint-...          0.87900   \n",
       "71  finetuned-scrumbled-wikitext2-3e-4-checkpoint-...          0.87840   \n",
       "\n",
       "    CR_results  MR_results  MPQA_results  SUBJ_results  SST2_results  \\\n",
       "0       0.8665      0.8194        0.8796        0.9570        0.8666   \n",
       "1       0.8379      0.7878        0.8827        0.9436        0.8429   \n",
       "2       0.8450      0.7896        0.8663        0.9426        0.8342   \n",
       "3       0.8220      0.7720        0.8601        0.9356        0.8072   \n",
       "4       0.8212      0.7619        0.8576        0.9285        0.8127   \n",
       "..         ...         ...           ...           ...           ...   \n",
       "67      0.7571      0.7063        0.8341        0.9065        0.7474   \n",
       "68      0.7558      0.7053        0.8336        0.9063        0.7446   \n",
       "69      0.7597      0.7051        0.8332        0.9039        0.7386   \n",
       "70      0.7526      0.7044        0.8328        0.8992        0.7463   \n",
       "71      0.7581      0.7073        0.8322        0.9042        0.7326   \n",
       "\n",
       "    SST5_results                                 attention_features  \n",
       "0         0.4584  [[[[267.0, 270.75, 270.75, 270.75, 270.75, 270...  \n",
       "1         0.4385  [[[[263.75, 270.5, 270.75, 270.75, 270.75, 270...  \n",
       "2         0.4584  [[[[264.0, 270.5, 270.75, 270.75, 270.75, 270....  \n",
       "3         0.4330  [[[[265.25, 270.5, 270.75, 270.75, 270.75, 270...  \n",
       "4         0.4285  [[[[265.75, 270.5, 270.75, 270.75, 270.75, 270...  \n",
       "..           ...                                                ...  \n",
       "67        0.3910  [[[[266.0, 270.5, 270.75, 270.75, 270.75, 270....  \n",
       "68        0.3796  [[[[264.75, 270.5, 270.75, 270.75, 270.75, 270...  \n",
       "69        0.3706  [[[[266.25, 270.75, 270.75, 270.75, 270.75, 27...  \n",
       "70        0.3805  [[[[265.25, 270.5, 270.75, 270.75, 270.75, 270...  \n",
       "71        0.3661  [[[[265.75, 270.5, 270.75, 270.75, 270.75, 270...  \n",
       "\n",
       "[72 rows x 9 columns]"
      ]
     },
     "execution_count": 5,
     "metadata": {},
     "output_type": "execute_result"
    }
   ],
   "source": [
    "df_final = pd.merge(data_finetune, data_probing, on=\"name\")\n",
    "df_final = pd.merge(df_final, data_attentions, on=\"name\")\n",
    "df_final"
   ]
  },
  {
   "cell_type": "code",
   "execution_count": 6,
   "metadata": {},
   "outputs": [
    {
     "data": {
      "text/html": [
       "<div>\n",
       "<style scoped>\n",
       "    .dataframe tbody tr th:only-of-type {\n",
       "        vertical-align: middle;\n",
       "    }\n",
       "\n",
       "    .dataframe tbody tr th {\n",
       "        vertical-align: top;\n",
       "    }\n",
       "\n",
       "    .dataframe thead th {\n",
       "        text-align: right;\n",
       "    }\n",
       "</style>\n",
       "<table border=\"1\" class=\"dataframe\">\n",
       "  <thead>\n",
       "    <tr style=\"text-align: right;\">\n",
       "      <th></th>\n",
       "      <th>CR_results</th>\n",
       "      <th>MR_results</th>\n",
       "      <th>MPQA_results</th>\n",
       "      <th>SUBJ_results</th>\n",
       "      <th>SST2_results</th>\n",
       "      <th>SST5_results</th>\n",
       "    </tr>\n",
       "  </thead>\n",
       "  <tbody>\n",
       "    <tr>\n",
       "      <th>0</th>\n",
       "      <td>0.8665</td>\n",
       "      <td>0.8194</td>\n",
       "      <td>0.8796</td>\n",
       "      <td>0.9570</td>\n",
       "      <td>0.8666</td>\n",
       "      <td>0.4584</td>\n",
       "    </tr>\n",
       "    <tr>\n",
       "      <th>1</th>\n",
       "      <td>0.8379</td>\n",
       "      <td>0.7878</td>\n",
       "      <td>0.8827</td>\n",
       "      <td>0.9436</td>\n",
       "      <td>0.8429</td>\n",
       "      <td>0.4385</td>\n",
       "    </tr>\n",
       "    <tr>\n",
       "      <th>2</th>\n",
       "      <td>0.8450</td>\n",
       "      <td>0.7896</td>\n",
       "      <td>0.8663</td>\n",
       "      <td>0.9426</td>\n",
       "      <td>0.8342</td>\n",
       "      <td>0.4584</td>\n",
       "    </tr>\n",
       "    <tr>\n",
       "      <th>3</th>\n",
       "      <td>0.8220</td>\n",
       "      <td>0.7720</td>\n",
       "      <td>0.8601</td>\n",
       "      <td>0.9356</td>\n",
       "      <td>0.8072</td>\n",
       "      <td>0.4330</td>\n",
       "    </tr>\n",
       "    <tr>\n",
       "      <th>4</th>\n",
       "      <td>0.8212</td>\n",
       "      <td>0.7619</td>\n",
       "      <td>0.8576</td>\n",
       "      <td>0.9285</td>\n",
       "      <td>0.8127</td>\n",
       "      <td>0.4285</td>\n",
       "    </tr>\n",
       "    <tr>\n",
       "      <th>...</th>\n",
       "      <td>...</td>\n",
       "      <td>...</td>\n",
       "      <td>...</td>\n",
       "      <td>...</td>\n",
       "      <td>...</td>\n",
       "      <td>...</td>\n",
       "    </tr>\n",
       "    <tr>\n",
       "      <th>67</th>\n",
       "      <td>0.7571</td>\n",
       "      <td>0.7063</td>\n",
       "      <td>0.8341</td>\n",
       "      <td>0.9065</td>\n",
       "      <td>0.7474</td>\n",
       "      <td>0.3910</td>\n",
       "    </tr>\n",
       "    <tr>\n",
       "      <th>68</th>\n",
       "      <td>0.7558</td>\n",
       "      <td>0.7053</td>\n",
       "      <td>0.8336</td>\n",
       "      <td>0.9063</td>\n",
       "      <td>0.7446</td>\n",
       "      <td>0.3796</td>\n",
       "    </tr>\n",
       "    <tr>\n",
       "      <th>69</th>\n",
       "      <td>0.7597</td>\n",
       "      <td>0.7051</td>\n",
       "      <td>0.8332</td>\n",
       "      <td>0.9039</td>\n",
       "      <td>0.7386</td>\n",
       "      <td>0.3706</td>\n",
       "    </tr>\n",
       "    <tr>\n",
       "      <th>70</th>\n",
       "      <td>0.7526</td>\n",
       "      <td>0.7044</td>\n",
       "      <td>0.8328</td>\n",
       "      <td>0.8992</td>\n",
       "      <td>0.7463</td>\n",
       "      <td>0.3805</td>\n",
       "    </tr>\n",
       "    <tr>\n",
       "      <th>71</th>\n",
       "      <td>0.7581</td>\n",
       "      <td>0.7073</td>\n",
       "      <td>0.8322</td>\n",
       "      <td>0.9042</td>\n",
       "      <td>0.7326</td>\n",
       "      <td>0.3661</td>\n",
       "    </tr>\n",
       "  </tbody>\n",
       "</table>\n",
       "<p>72 rows × 6 columns</p>\n",
       "</div>"
      ],
      "text/plain": [
       "    CR_results  MR_results  MPQA_results  SUBJ_results  SST2_results  \\\n",
       "0       0.8665      0.8194        0.8796        0.9570        0.8666   \n",
       "1       0.8379      0.7878        0.8827        0.9436        0.8429   \n",
       "2       0.8450      0.7896        0.8663        0.9426        0.8342   \n",
       "3       0.8220      0.7720        0.8601        0.9356        0.8072   \n",
       "4       0.8212      0.7619        0.8576        0.9285        0.8127   \n",
       "..         ...         ...           ...           ...           ...   \n",
       "67      0.7571      0.7063        0.8341        0.9065        0.7474   \n",
       "68      0.7558      0.7053        0.8336        0.9063        0.7446   \n",
       "69      0.7597      0.7051        0.8332        0.9039        0.7386   \n",
       "70      0.7526      0.7044        0.8328        0.8992        0.7463   \n",
       "71      0.7581      0.7073        0.8322        0.9042        0.7326   \n",
       "\n",
       "    SST5_results  \n",
       "0         0.4584  \n",
       "1         0.4385  \n",
       "2         0.4584  \n",
       "3         0.4330  \n",
       "4         0.4285  \n",
       "..           ...  \n",
       "67        0.3910  \n",
       "68        0.3796  \n",
       "69        0.3706  \n",
       "70        0.3805  \n",
       "71        0.3661  \n",
       "\n",
       "[72 rows x 6 columns]"
      ]
     },
     "metadata": {},
     "output_type": "display_data"
    },
    {
     "data": {
      "text/plain": [
       "0     0.93900\n",
       "1     0.93484\n",
       "2     0.93164\n",
       "3     0.92928\n",
       "4     0.92856\n",
       "       ...   \n",
       "67    0.87888\n",
       "68    0.87884\n",
       "69    0.87840\n",
       "70    0.87900\n",
       "71    0.87840\n",
       "Name: finetune_result, Length: 72, dtype: float64"
      ]
     },
     "metadata": {},
     "output_type": "display_data"
    }
   ],
   "source": [
    "from sklearn.model_selection import train_test_split\n",
    "\n",
    "\n",
    "X = df_final.drop([\"name\", \"finetune_result\", \"attention_features\"], axis=1)\n",
    "y = df_final[\"finetune_result\"]\n",
    "\n",
    "X_train, X_test, y_train, y_test = train_test_split(X, y, random_state=42, test_size=0.25)\n",
    "display(X)\n",
    "display(y)"
   ]
  },
  {
   "cell_type": "code",
   "execution_count": 7,
   "metadata": {},
   "outputs": [
    {
     "name": "stdout",
     "output_type": "stream",
     "text": [
      "Best params: {'alpha': 1e-05}\n",
      "Best score: 0.7936184918141629\n"
     ]
    }
   ],
   "source": [
    "from sklearn.linear_model import Lasso\n",
    "from sklearn.model_selection import GridSearchCV\n",
    "\n",
    "grid_params = {\n",
    "    \"alpha\": [1e-5, 1e-4, 1e-3, 1e-2, 1e-1, 1e0, 1e1, 1e2],\n",
    "}\n",
    "reg = GridSearchCV(Lasso(), grid_params, cv=5, verbose=False)\n",
    "\n",
    "res = reg.fit(X_train, y_train)\n",
    "print(f\"Best params: {res.best_params_}\")\n",
    "print(f\"Best score: {res.best_score_}\")"
   ]
  },
  {
   "cell_type": "code",
   "execution_count": 8,
   "metadata": {},
   "outputs": [
    {
     "data": {
      "image/png": "[encoded data removed]",
      "text/plain": [
       "<Figure size 700x700 with 1 Axes>"
      ]
     },
     "metadata": {},
     "output_type": "display_data"
    }
   ],
   "source": [
    "from matplotlib import pyplot as plt\n",
    "from sklearn.metrics import r2_score\n",
    "\n",
    "def plot_results(y_true, y_pred, y_true_train=None, y_pred_train=None):\n",
    "    minn = min(min(y_true), min(y_pred)) * 0.99\n",
    "    maxx = max(max(y_true), max(y_pred)) * 1.01\n",
    "    score = r2_score(y_true, y_pred)\n",
    "    plt.figure(figsize=(7, 7))\n",
    "    plt.scatter(y_true, y_pred, label=\"Test data\")\n",
    "    if y_true_train is not None:\n",
    "        plt.scatter(y_true_train, y_pred_train, color=\"red\", alpha=0.3, label=\"Train data\")\n",
    "    plt.legend()\n",
    "    plt.plot([0, 1], [0, 1], linestyle=\"--\")\n",
    "    plt.xlim(minn, maxx)\n",
    "    plt.ylim(minn, maxx)\n",
    "    plt.xlabel(\"Actual quality\")\n",
    "    plt.ylabel(\"Predicted quality\")\n",
    "    plt.title(f\"Fit results, score={score:.2f}\")\n",
    "\n",
    "plot_results(y_test, reg.predict(X_test), y_train, reg.predict(X_train))"
   ]
  },
  {
   "cell_type": "code",
   "execution_count": 15,
   "metadata": {},
   "outputs": [
    {
     "name": "stdout",
     "output_type": "stream",
     "text": [
      "(72, 12, 12, 6, 6)\n"
     ]
    },
    {
     "data": {
      "application/vnd.jupyter.widget-view+json": {
       "model_id": "d174a34d7b9848ecab71122ba5daf1de",
       "version_major": 2,
       "version_minor": 0
      },
      "text/plain": [
       "  0%|          | 0/12 [00:00<?, ?it/s]"
      ]
     },
     "metadata": {},
     "output_type": "display_data"
    },
    {
     "data": {
      "application/vnd.jupyter.widget-view+json": {
       "model_id": "70e8625301f844bfb671bea96a7f50cc",
       "version_major": 2,
       "version_minor": 0
      },
      "text/plain": [
       "  0%|          | 0/12 [00:00<?, ?it/s]"
      ]
     },
     "metadata": {},
     "output_type": "display_data"
    },
    {
     "data": {
      "application/vnd.jupyter.widget-view+json": {
       "model_id": "60d9783a52ef45ac8ca8eaf7cfb6a445",
       "version_major": 2,
       "version_minor": 0
      },
      "text/plain": [
       "  0%|          | 0/12 [00:00<?, ?it/s]"
      ]
     },
     "metadata": {},
     "output_type": "display_data"
    },
    {
     "data": {
      "application/vnd.jupyter.widget-view+json": {
       "model_id": "21ef245145784237b0db40ce6d4992fa",
       "version_major": 2,
       "version_minor": 0
      },
      "text/plain": [
       "  0%|          | 0/12 [00:00<?, ?it/s]"
      ]
     },
     "metadata": {},
     "output_type": "display_data"
    },
    {
     "data": {
      "application/vnd.jupyter.widget-view+json": {
       "model_id": "49dc9574e3614608b03e01f320015cea",
       "version_major": 2,
       "version_minor": 0
      },
      "text/plain": [
       "  0%|          | 0/12 [00:00<?, ?it/s]"
      ]
     },
     "metadata": {},
     "output_type": "display_data"
    },
    {
     "data": {
      "application/vnd.jupyter.widget-view+json": {
       "model_id": "c6927f32db4f4edd8483dca7acb1b149",
       "version_major": 2,
       "version_minor": 0
      },
      "text/plain": [
       "  0%|          | 0/12 [00:00<?, ?it/s]"
      ]
     },
     "metadata": {},
     "output_type": "display_data"
    },
    {
     "data": {
      "application/vnd.jupyter.widget-view+json": {
       "model_id": "da74c0f89e984135bc922490564baee2",
       "version_major": 2,
       "version_minor": 0
      },
      "text/plain": [
       "  0%|          | 0/12 [00:00<?, ?it/s]"
      ]
     },
     "metadata": {},
     "output_type": "display_data"
    },
    {
     "data": {
      "application/vnd.jupyter.widget-view+json": {
       "model_id": "275a0336678b493aac0a7178299f4232",
       "version_major": 2,
       "version_minor": 0
      },
      "text/plain": [
       "  0%|          | 0/12 [00:00<?, ?it/s]"
      ]
     },
     "metadata": {},
     "output_type": "display_data"
    },
    {
     "data": {
      "application/vnd.jupyter.widget-view+json": {
       "model_id": "70adec6180fa44fd9f5904ae08e4ffa5",
       "version_major": 2,
       "version_minor": 0
      },
      "text/plain": [
       "  0%|          | 0/12 [00:00<?, ?it/s]"
      ]
     },
     "metadata": {},
     "output_type": "display_data"
    },
    {
     "data": {
      "application/vnd.jupyter.widget-view+json": {
       "model_id": "da52ec6871c7457f82b57afe61baa7dd",
       "version_major": 2,
       "version_minor": 0
      },
      "text/plain": [
       "  0%|          | 0/12 [00:00<?, ?it/s]"
      ]
     },
     "metadata": {},
     "output_type": "display_data"
    },
    {
     "data": {
      "application/vnd.jupyter.widget-view+json": {
       "model_id": "e20e5a1d3bb847e5a0a9c71ff475d0ae",
       "version_major": 2,
       "version_minor": 0
      },
      "text/plain": [
       "  0%|          | 0/12 [00:00<?, ?it/s]"
      ]
     },
     "metadata": {},
     "output_type": "display_data"
    },
    {
     "data": {
      "application/vnd.jupyter.widget-view+json": {
       "model_id": "ef70565f71024e0b9ae76a384dbf04a0",
       "version_major": 2,
       "version_minor": 0
      },
      "text/plain": [
       "  0%|          | 0/12 [00:00<?, ?it/s]"
      ]
     },
     "metadata": {},
     "output_type": "display_data"
    },
    {
     "data": {
      "application/vnd.jupyter.widget-view+json": {
       "model_id": "73d13d304579484289790a247f900979",
       "version_major": 2,
       "version_minor": 0
      },
      "text/plain": [
       "  0%|          | 0/12 [00:00<?, ?it/s]"
      ]
     },
     "metadata": {},
     "output_type": "display_data"
    }
   ],
   "source": [
    "from tqdm.notebook import tqdm\n",
    "import warnings\n",
    "\n",
    "\n",
    "n_layers = 12\n",
    "n_heads = 12\n",
    "n_features = 6\n",
    "n_thrs = 6\n",
    "attentions = df_final[\"attention_features\"]\n",
    "attentions = np.array(attentions.tolist())\n",
    "assert attentions.shape[1:] == (n_layers, n_heads, n_features, n_thrs)\n",
    "best_score = -2\n",
    "scores = {}\n",
    "best_params = None\n",
    "\n",
    "for layer in tqdm(range(n_layers)):\n",
    "    for head in tqdm(range(n_heads)):\n",
    "        for feature in range(n_features):\n",
    "            df = df_final.copy()\n",
    "            for thr in range(n_thrs):\n",
    "                df[f\"topological_val_{thr}\"] = attentions[:, layer, head, feature, thr]\n",
    "            X = df.drop([\"name\", \"finetune_result\", \"attention_features\"], axis=1)\n",
    "            y = df[\"finetune_result\"]\n",
    "\n",
    "            X_train, X_test, y_train, y_test = train_test_split(X, y, random_state=42, test_size=0.25)\n",
    "            \n",
    "            grid_params = {\n",
    "                \"alpha\": [1e-5, 1e-4, 1e-3, 1e-2, 1e-1, 1e0, 1e1, 1e2],\n",
    "            }\n",
    "            reg = GridSearchCV(Lasso(), grid_params, cv=5, verbose=False)\n",
    "            with warnings.catch_warnings():\n",
    "                warnings.simplefilter(\"ignore\")\n",
    "                res = reg.fit(X_train, y_train)\n",
    "            if res.best_score_ > best_score:\n",
    "                best_score = res.best_score_\n",
    "                best_estimator = reg\n",
    "                best_params = (layer, head, feature)\n",
    "            scores[layer, head, feature] = res.best_score_"
   ]
  },
  {
   "cell_type": "code",
   "execution_count": 16,
   "metadata": {},
   "outputs": [
    {
     "data": {
      "image/png": "[encoded data removed]",
      "text/plain": [
       "<Figure size 700x700 with 1 Axes>"
      ]
     },
     "metadata": {},
     "output_type": "display_data"
    }
   ],
   "source": [
    "layer, head, feature = best_params\n",
    "\n",
    "df = df_final.copy()\n",
    "for thr in range(n_thrs):\n",
    "    df[f\"topological_val_{thr}\"] = attentions[:, layer, head, feature, thr]\n",
    "X = df.drop([\"name\", \"finetune_result\", \"attention_features\"], axis=1)\n",
    "y = df[\"finetune_result\"]\n",
    "X_train, X_test, y_train, y_test = train_test_split(X, y, random_state=42, test_size=0.25)\n",
    "\n",
    "\n",
    "plot_results(y_test, best_estimator.predict(X_test), y_train, best_estimator.predict(X_train))\n"
   ]
  },
  {
   "cell_type": "code",
   "execution_count": 11,
   "metadata": {},
   "outputs": [],
   "source": [
    "import seaborn as sns\n",
    "\n",
    "\n",
    "arr = np.array([\n",
    "    [\n",
    "        [\n",
    "            scores[layer, head, feature]\n",
    "            for feature in range(n_features) \n",
    "        ]\n",
    "        for head in range(n_heads)\n",
    "    ]\n",
    "    for layer in range(n_layers)\n",
    "])"
   ]
  },
  {
   "cell_type": "code",
   "execution_count": 12,
   "metadata": {},
   "outputs": [
    {
     "data": {
      "image/png": "[encoded data removed]",
      "text/plain": [
       "<Figure size 640x480 with 2 Axes>"
      ]
     },
     "metadata": {},
     "output_type": "display_data"
    }
   ],
   "source": [
    "sns.heatmap(arr.mean(axis=0))\n",
    "plt.title(\"r2 scores from attention feature and layer\")\n",
    "plt.xlabel(\"feature\")\n",
    "plt.ylabel(\"head\");"
   ]
  },
  {
   "cell_type": "code",
   "execution_count": 13,
   "metadata": {},
   "outputs": [
    {
     "data": {
      "image/png": "[encoded data removed]",
      "text/plain": [
       "<Figure size 640x480 with 2 Axes>"
      ]
     },
     "metadata": {},
     "output_type": "display_data"
    }
   ],
   "source": [
    "sns.heatmap(arr.mean(axis=1))\n",
    "plt.title(\"r2 scores from attention feature and layer\")\n",
    "plt.xlabel(\"feature\")\n",
    "plt.ylabel(\"layer\");"
   ]
  },
  {
   "cell_type": "code",
   "execution_count": 14,
   "metadata": {},
   "outputs": [
    {
     "data": {
      "image/png": "[encoded data removed]",
      "text/plain": [
       "<Figure size 640x480 with 2 Axes>"
      ]
     },
     "metadata": {},
     "output_type": "display_data"
    }
   ],
   "source": [
    "sns.heatmap(arr.mean(axis=2))\n",
    "plt.title(\"r2 scores from attention head and layer\")\n",
    "plt.xlabel(\"head\")\n",
    "plt.ylabel(\"layer\");"
   ]
  },
  {
   "cell_type": "code",
   "execution_count": null,
   "metadata": {},
   "outputs": [],
   "source": []
  }
 ],
 "metadata": {
  "kernelspec": {
   "display_name": "diploma",
   "language": "python",
   "name": "python3"
  },
  "language_info": {
   "codemirror_mode": {
    "name": "ipython",
    "version": 3
   },
   "file_extension": ".py",
   "mimetype": "text/x-python",
   "name": "python",
   "nbconvert_exporter": "python",
   "pygments_lexer": "ipython3",
   "version": "3.9.16"
  },
  "orig_nbformat": 4
 },
 "nbformat": 4,
 "nbformat_minor": 2
}

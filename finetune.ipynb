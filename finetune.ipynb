{
 "cells": [
  {
   "cell_type": "code",
   "execution_count": null,
   "metadata": {},
   "outputs": [],
   "source": [
    "from transformers import BertTokenizer, BertForMaskedLM, BertTokenizer, BertForSequenceClassification\n",
    "\n",
    "def load_model(name):\n",
    "    model_path = name\n",
    "    model = BertForSequenceClassification.from_pretrained(\n",
    "        model_path,\n",
    "        output_attentions=False\n",
    "    )\n",
    "    return model.cuda()\n",
    "tokenizer_path = \"bert-base-uncased\"\n",
    "tokenizer = BertTokenizer.from_pretrained(tokenizer_path, do_lower_case=True)\n",
    "\n",
    "models = [f\"./finetuned-scrumbled-wikitext2/checkpoint-{i}\" for i in range(500, 27501, 500)]"
   ]
  },
  {
   "cell_type": "code",
   "execution_count": null,
   "metadata": {},
   "outputs": [],
   "source": [
    "import pandas as pd\n",
    "\n",
    "df_train = pd.read_csv(\"target_problem/train.csv\")\n",
    "df_test = pd.read_csv(\"target_problem/test.csv\")"
   ]
  },
  {
   "cell_type": "code",
   "execution_count": null,
   "metadata": {},
   "outputs": [],
   "source": [
    "train_encodings = tokenizer(df_train[\"text\"].values.tolist(), truncation=True, padding=True)\n",
    "test_encodings = tokenizer(df_test[\"text\"].values.tolist(), truncation=True, padding=True)"
   ]
  },
  {
   "cell_type": "code",
   "execution_count": null,
   "metadata": {},
   "outputs": [],
   "source": [
    "import pandas as pd\n",
    "import torch\n",
    "import datasets\n",
    "\n",
    "class IMDbDataset(torch.utils.data.Dataset):\n",
    "    def __init__(self, encodings, labels):\n",
    "        self.encodings = encodings\n",
    "        self.labels = labels\n",
    "\n",
    "    def __getitem__(self, idx):\n",
    "        item = {key: torch.tensor(val[idx]) for key, val in self.encodings.items()}\n",
    "        item['labels'] = torch.tensor(self.labels[idx])\n",
    "        return item\n",
    "\n",
    "    def __len__(self):\n",
    "        return len(self.labels)\n",
    "\n",
    "train_dataset = IMDbDataset(train_encodings, df_train[\"label\"])\n",
    "test_dataset = IMDbDataset(test_encodings, df_test[\"label\"])"
   ]
  },
  {
   "cell_type": "code",
   "execution_count": null,
   "metadata": {},
   "outputs": [],
   "source": [
    "import evaluate\n",
    "\n",
    "accuracy = evaluate.load(\"accuracy\")\n",
    "def compute_metrics(eval_pred):\n",
    "    print(eval_pred)\n",
    "    predictions, labels = eval_pred\n",
    "    predictions = predictions[0].argmax(axis=1)\n",
    "    print(predictions)\n",
    "    res = accuracy.compute(predictions=predictions, references=labels)\n",
    "    print(res)\n",
    "    return res"
   ]
  },
  {
   "cell_type": "code",
   "execution_count": null,
   "metadata": {},
   "outputs": [],
   "source": [
    "from transformers import AutoModelForSequenceClassification, TrainingArguments, Trainer\n",
    "from torch.utils.data import DataLoader\n",
    "import numpy as np\n",
    "from tqdm import tqdm\n",
    "\n",
    "\n",
    "\n",
    "test_loader = DataLoader(test_dataset, batch_size=20, shuffle=False)\n",
    "\n",
    "\n",
    "def evaluate(model, loader):\n",
    "    model.eval()\n",
    "    all_pred = []\n",
    "    all_true = []\n",
    "    for batch in tqdm(loader):\n",
    "        input_ids = batch['input_ids'].cuda()\n",
    "        attention_mask = batch['attention_mask'].cuda()\n",
    "        labels = batch['labels'].cuda()\n",
    "        output = model(input_ids, attention_mask=attention_mask, labels=labels)\n",
    "        predicts = output[\"logits\"].argmax(axis=1)\n",
    "        all_pred.extend(predicts.cpu().numpy().tolist())\n",
    "        all_true.extend(batch[\"labels\"].cpu().numpy().tolist())\n",
    "    return (np.array(all_pred) == np.array(all_true)).astype(float).mean()\n",
    "\n",
    "open(\"data.csv\", \"w\").close()\n",
    "for model_name in models:\n",
    "    model = load_model(model_name).cuda()\n",
    "\n",
    "    training_args = TrainingArguments(\n",
    "        output_dir=f\"res/{model_name}\",\n",
    "        learning_rate=2e-5,\n",
    "        num_train_epochs=3,\n",
    "        weight_decay=0.01,\n",
    "        eval_accumulation_steps=2,\n",
    "        warmup_steps=500,\n",
    "        per_device_train_batch_size=16,\n",
    "    )\n",
    "\n",
    "    trainer = Trainer(\n",
    "        model=model,\n",
    "        args=training_args,\n",
    "        train_dataset=train_dataset,\n",
    "        # compute_metrics=compute_metrics,\n",
    "    )\n",
    "    \n",
    "\n",
    "\n",
    "    res = trainer.train()\n",
    "    model = trainer.model\n",
    "    del trainer\n",
    "    torch.cuda.empty_cache()\n",
    "\n",
    "    score = evaluate(model, test_loader)\n",
    "    with open(\"data.csv\", \"a\") as fout:\n",
    "        print(model_name, score, sep=\"\\t\", file=fout)"
   ]
  },
  {
   "cell_type": "code",
   "execution_count": null,
   "metadata": {},
   "outputs": [],
   "source": [
    "\n",
    "from transformers import AutoModelForSequenceClassification, TrainingArguments, Trainer, BertForSequenceClassification, BertConfig\n",
    "from torch.utils.data import DataLoader\n",
    "import numpy as np\n",
    "from tqdm import tqdm\n",
    "\n",
    "test_loader = DataLoader(test_dataset, batch_size=20, shuffle=False)\n",
    "\n",
    "\n",
    "def evaluate(model, loader):\n",
    "    model.eval()\n",
    "    all_pred = []\n",
    "    all_true = []\n",
    "    for batch in tqdm(loader):\n",
    "        input_ids = batch['input_ids'].cuda()\n",
    "        attention_mask = batch['attention_mask'].cuda()\n",
    "        labels = batch['labels'].cuda()\n",
    "        output = model(input_ids, attention_mask=attention_mask, labels=labels)\n",
    "        predicts = output[\"logits\"].argmax(axis=1)\n",
    "        all_pred.extend(predicts.cpu().numpy().tolist())\n",
    "        all_true.extend(batch[\"labels\"].cpu().numpy().tolist())\n",
    "    return (np.array(all_pred) == np.array(all_true)).astype(float).mean()\n",
    "\n",
    "model = BertForSequenceClassification(BertConfig(num_labels=100))\n",
    "\n",
    "training_args = TrainingArguments(\n",
    "    output_dir=f\"res/{model_name}\",\n",
    "    learning_rate=2e-5,\n",
    "    num_train_epochs=3,\n",
    "    weight_decay=0.01,\n",
    "    eval_accumulation_steps=2,\n",
    "    warmup_steps=500,\n",
    "    per_device_train_batch_size=16,\n",
    ")\n",
    "\n",
    "trainer = Trainer(\n",
    "    model=model,\n",
    "    args=training_args,\n",
    "    train_dataset=train_dataset,\n",
    "    # compute_metrics=compute_metrics,\n",
    ")\n",
    "\n",
    "\n",
    "\n",
    "res = trainer.train()\n",
    "model = trainer.model\n",
    "del trainer\n",
    "torch.cuda.empty_cache()\n",
    "\n",
    "score = evaluate(model, test_loader)"
   ]
  },
  {
   "cell_type": "code",
   "execution_count": null,
   "metadata": {},
   "outputs": [],
   "source": [
    "score"
   ]
  },
  {
   "cell_type": "code",
   "execution_count": null,
   "metadata": {},
   "outputs": [],
   "source": []
  }
 ],
 "metadata": {
  "kernelspec": {
   "display_name": "diploma",
   "language": "python",
   "name": "python3"
  },
  "language_info": {
   "codemirror_mode": {
    "name": "ipython",
    "version": 3
   },
   "file_extension": ".py",
   "mimetype": "text/x-python",
   "name": "python",
   "nbconvert_exporter": "python",
   "pygments_lexer": "ipython3",
   "version": "3.9.16 (main, Jan 11 2023, 16:05:54) \n[GCC 11.2.0]"
  },
  "orig_nbformat": 4,
  "vscode": {
   "interpreter": {
    "hash": "46242d4576570c8c82d7fb56e00e670e22fb52831ef677247d21ad598b3c01cb"
   }
  }
 },
 "nbformat": 4,
 "nbformat_minor": 2
}

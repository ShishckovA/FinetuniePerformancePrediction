{
 "cells": [
  {
   "cell_type": "code",
   "execution_count": 1,
   "metadata": {},
   "outputs": [
    {
     "name": "stderr",
     "output_type": "stream",
     "text": [
      "Some weights of the model checkpoint at bert-base-uncased were not used when initializing BertForMaskedLM: ['cls.seq_relationship.weight', 'cls.seq_relationship.bias']\n",
      "- This IS expected if you are initializing BertForMaskedLM from the checkpoint of a model trained on another task or with another architecture (e.g. initializing a BertForSequenceClassification model from a BertForPreTraining model).\n",
      "- This IS NOT expected if you are initializing BertForMaskedLM from the checkpoint of a model that you expect to be exactly identical (initializing a BertForSequenceClassification model from a BertForSequenceClassification model).\n"
     ]
    }
   ],
   "source": [
    "from transformers import BertTokenizer, BertForMaskedLM, BertTokenizer\n",
    "\n",
    "model_path = tokenizer_path = \"bert-base-uncased\"  \n",
    "model = BertForMaskedLM.from_pretrained(model_path, output_hidden_states=True)\n",
    "tokenizer = BertTokenizer.from_pretrained(tokenizer_path, do_lower_case=True)"
   ]
  },
  {
   "cell_type": "code",
   "execution_count": 2,
   "metadata": {},
   "outputs": [
    {
     "name": "stderr",
     "output_type": "stream",
     "text": [
      "Found cached dataset wikitext (/home/sha43/.cache/huggingface/datasets/wikitext/wikitext-2-raw-v1/1.0.0/a241db52902eaf2c6aa732210bead40c090019a499ceb13bcbfa3f8ab646a126)\n"
     ]
    },
    {
     "data": {
      "application/vnd.jupyter.widget-view+json": {
       "model_id": "3412803883974152befba9c2fe7f9b2f",
       "version_major": 2,
       "version_minor": 0
      },
      "text/plain": [
       "  0%|          | 0/3 [00:00<?, ?it/s]"
      ]
     },
     "metadata": {},
     "output_type": "display_data"
    }
   ],
   "source": [
    "from datasets import load_dataset\n",
    "datasets = load_dataset('wikitext', 'wikitext-2-raw-v1')"
   ]
  },
  {
   "cell_type": "code",
   "execution_count": 3,
   "metadata": {},
   "outputs": [],
   "source": [
    "import random\n",
    "def tokenize_function(examples):\n",
    "    for i in range(len(examples[\"text\"])):\n",
    "        texttt = examples[\"text\"][i].split()\n",
    "        random.shuffle(texttt)\n",
    "        examples[\"text\"][i] = \" \".join(texttt)\n",
    "\n",
    "    return tokenizer(examples[\"text\"], truncation=True)"
   ]
  },
  {
   "cell_type": "code",
   "execution_count": 4,
   "metadata": {},
   "outputs": [
    {
     "name": "stderr",
     "output_type": "stream",
     "text": [
      "Loading cached processed dataset at /home/sha43/.cache/huggingface/datasets/wikitext/wikitext-2-raw-v1/1.0.0/a241db52902eaf2c6aa732210bead40c090019a499ceb13bcbfa3f8ab646a126/cache-750ac57f8c5202df.arrow\n",
      "Loading cached processed dataset at /home/sha43/.cache/huggingface/datasets/wikitext/wikitext-2-raw-v1/1.0.0/a241db52902eaf2c6aa732210bead40c090019a499ceb13bcbfa3f8ab646a126/cache-e1fc289a323d8d0b.arrow\n",
      "Loading cached processed dataset at /home/sha43/.cache/huggingface/datasets/wikitext/wikitext-2-raw-v1/1.0.0/a241db52902eaf2c6aa732210bead40c090019a499ceb13bcbfa3f8ab646a126/cache-88d362029bf0ab35.arrow\n"
     ]
    }
   ],
   "source": [
    "tokenized_datasets = datasets.map(tokenize_function, batched=True, num_proc=1, remove_columns=[\"text\"])"
   ]
  },
  {
   "cell_type": "code",
   "execution_count": 5,
   "metadata": {},
   "outputs": [],
   "source": [
    "def group_texts(examples):\n",
    "    # Concatenate all texts.\n",
    "    concatenated_examples = {k: sum(examples[k], []) for k in examples.keys()}\n",
    "    total_length = len(concatenated_examples[list(examples.keys())[0]])\n",
    "    # We drop the small remainder, we could add padding if the model supported it instead of this drop, you can\n",
    "        # customize this part to your needs.\n",
    "    total_length = (total_length // block_size) * block_size\n",
    "    # Split by chunks of max_len.\n",
    "    result = {\n",
    "        k: [t[i : i + block_size] for i in range(0, total_length, block_size)]\n",
    "        for k, t in concatenated_examples.items()\n",
    "    }\n",
    "    result[\"labels\"] = result[\"input_ids\"].copy()\n",
    "    return result"
   ]
  },
  {
   "cell_type": "code",
   "execution_count": 6,
   "metadata": {},
   "outputs": [
    {
     "name": "stdout",
     "output_type": "stream",
     "text": [
      "     "
     ]
    },
    {
     "name": "stderr",
     "output_type": "stream",
     "text": [
      "Loading cached processed dataset at /home/sha43/.cache/huggingface/datasets/wikitext/wikitext-2-raw-v1/1.0.0/a241db52902eaf2c6aa732210bead40c090019a499ceb13bcbfa3f8ab646a126/cache-b59be878a554cefe.arrow\n"
     ]
    },
    {
     "name": "stdout",
     "output_type": "stream",
     "text": [
      "  "
     ]
    },
    {
     "name": "stderr",
     "output_type": "stream",
     "text": [
      "Loading cached processed dataset at /home/sha43/.cache/huggingface/datasets/wikitext/wikitext-2-raw-v1/1.0.0/a241db52902eaf2c6aa732210bead40c090019a499ceb13bcbfa3f8ab646a126/cache-123662a5d7de8970.arrow\n"
     ]
    },
    {
     "name": "stdout",
     "output_type": "stream",
     "text": [
      " "
     ]
    },
    {
     "name": "stderr",
     "output_type": "stream",
     "text": [
      "Loading cached processed dataset at /home/sha43/.cache/huggingface/datasets/wikitext/wikitext-2-raw-v1/1.0.0/a241db52902eaf2c6aa732210bead40c090019a499ceb13bcbfa3f8ab646a126/cache-cbbfb0fe97b85243.arrow\n",
      "Loading cached processed dataset at /home/sha43/.cache/huggingface/datasets/wikitext/wikitext-2-raw-v1/1.0.0/a241db52902eaf2c6aa732210bead40c090019a499ceb13bcbfa3f8ab646a126/cache-9474aaff9deda532.arrow\n"
     ]
    },
    {
     "name": "stdout",
     "output_type": "stream",
     "text": [
      "      "
     ]
    },
    {
     "name": "stderr",
     "output_type": "stream",
     "text": [
      "Loading cached processed dataset at /home/sha43/.cache/huggingface/datasets/wikitext/wikitext-2-raw-v1/1.0.0/a241db52902eaf2c6aa732210bead40c090019a499ceb13bcbfa3f8ab646a126/cache-fe76568ef52c960d.arrow\n",
      "Loading cached processed dataset at /home/sha43/.cache/huggingface/datasets/wikitext/wikitext-2-raw-v1/1.0.0/a241db52902eaf2c6aa732210bead40c090019a499ceb13bcbfa3f8ab646a126/cache-5af638f7a425bd21.arrow\n"
     ]
    },
    {
     "name": "stdout",
     "output_type": "stream",
     "text": [
      "  "
     ]
    },
    {
     "name": "stderr",
     "output_type": "stream",
     "text": [
      "Loading cached processed dataset at /home/sha43/.cache/huggingface/datasets/wikitext/wikitext-2-raw-v1/1.0.0/a241db52902eaf2c6aa732210bead40c090019a499ceb13bcbfa3f8ab646a126/cache-b306e526a0cd2919.arrow\n",
      "Loading cached processed dataset at /home/sha43/.cache/huggingface/datasets/wikitext/wikitext-2-raw-v1/1.0.0/a241db52902eaf2c6aa732210bead40c090019a499ceb13bcbfa3f8ab646a126/cache-d856e24e836f161d.arrow\n"
     ]
    },
    {
     "name": "stdout",
     "output_type": "stream",
     "text": [
      "       "
     ]
    },
    {
     "name": "stderr",
     "output_type": "stream",
     "text": [
      "Loading cached processed dataset at /home/sha43/.cache/huggingface/datasets/wikitext/wikitext-2-raw-v1/1.0.0/a241db52902eaf2c6aa732210bead40c090019a499ceb13bcbfa3f8ab646a126/cache-83a1ac3a037b335c.arrow\n",
      "Loading cached processed dataset at /home/sha43/.cache/huggingface/datasets/wikitext/wikitext-2-raw-v1/1.0.0/a241db52902eaf2c6aa732210bead40c090019a499ceb13bcbfa3f8ab646a126/cache-086570dacee88e06.arrow\n"
     ]
    },
    {
     "name": "stdout",
     "output_type": "stream",
     "text": [
      " "
     ]
    },
    {
     "name": "stderr",
     "output_type": "stream",
     "text": [
      "Loading cached processed dataset at /home/sha43/.cache/huggingface/datasets/wikitext/wikitext-2-raw-v1/1.0.0/a241db52902eaf2c6aa732210bead40c090019a499ceb13bcbfa3f8ab646a126/cache-ec8de995df29da8a.arrow\n",
      "Loading cached processed dataset at /home/sha43/.cache/huggingface/datasets/wikitext/wikitext-2-raw-v1/1.0.0/a241db52902eaf2c6aa732210bead40c090019a499ceb13bcbfa3f8ab646a126/cache-860fd7106967a53b.arrow\n"
     ]
    }
   ],
   "source": [
    "# block_size = tokenizer.model_max_length\n",
    "block_size = 128\n",
    "\n",
    "lm_datasets = tokenized_datasets.map(\n",
    "    group_texts,\n",
    "    batched=True,\n",
    "    batch_size=1000,\n",
    "    num_proc=4,\n",
    ")"
   ]
  },
  {
   "cell_type": "code",
   "execution_count": 7,
   "metadata": {},
   "outputs": [],
   "source": [
    "from transformers import TrainingArguments, Trainer\n",
    "\n",
    "training_args = TrainingArguments(\n",
    "    f\"finetuned-scrumbled-wikitext2\",\n",
    "    evaluation_strategy = \"epoch\",\n",
    "    learning_rate=5e-5,\n",
    "    num_train_epochs=12\n",
    ")"
   ]
  },
  {
   "cell_type": "code",
   "execution_count": 8,
   "metadata": {},
   "outputs": [],
   "source": [
    "from transformers import DataCollatorForLanguageModeling\n",
    "data_collator = DataCollatorForLanguageModeling(tokenizer=tokenizer, mlm_probability=0.15)"
   ]
  },
  {
   "cell_type": "code",
   "execution_count": 9,
   "metadata": {},
   "outputs": [],
   "source": [
    "trainer = Trainer(\n",
    "    model=model,\n",
    "    args=training_args,\n",
    "    train_dataset=lm_datasets[\"train\"],\n",
    "    eval_dataset=lm_datasets[\"validation\"],\n",
    "    data_collator=data_collator,\n",
    ")"
   ]
  },
  {
   "cell_type": "code",
   "execution_count": 10,
   "metadata": {},
   "outputs": [
    {
     "name": "stderr",
     "output_type": "stream",
     "text": [
      "/home/sha43/anaconda3/envs/diploma/lib/python3.9/site-packages/transformers/optimization.py:306: FutureWarning: This implementation of AdamW is deprecated and will be removed in a future version. Use the PyTorch implementation torch.optim.AdamW instead, or set `no_deprecation_warning=True` to disable this warning\n",
      "  warnings.warn(\n",
      "***** Running training *****\n",
      "  Num examples = 18535\n",
      "  Num Epochs = 12\n",
      "  Instantaneous batch size per device = 8\n",
      "  Total train batch size (w. parallel, distributed & accumulation) = 8\n",
      "  Gradient Accumulation steps = 1\n",
      "  Total optimization steps = 27804\n",
      "  Number of trainable parameters = 109514298\n"
     ]
    },
    {
     "data": {
      "text/html": [
       "\n",
       "    <div>\n",
       "      \n",
       "      <progress value='27804' max='27804' style='width:300px; height:20px; vertical-align: middle;'></progress>\n",
       "      [27804/27804 1:02:45, Epoch 12/12]\n",
       "    </div>\n",
       "    <table border=\"1\" class=\"dataframe\">\n",
       "  <thead>\n",
       " <tr style=\"text-align: left;\">\n",
       "      <th>Epoch</th>\n",
       "      <th>Training Loss</th>\n",
       "      <th>Validation Loss</th>\n",
       "    </tr>\n",
       "  </thead>\n",
       "  <tbody>\n",
       "    <tr>\n",
       "      <td>1</td>\n",
       "      <td>5.128800</td>\n",
       "      <td>5.130920</td>\n",
       "    </tr>\n",
       "    <tr>\n",
       "      <td>2</td>\n",
       "      <td>4.991300</td>\n",
       "      <td>5.115690</td>\n",
       "    </tr>\n",
       "    <tr>\n",
       "      <td>3</td>\n",
       "      <td>4.925900</td>\n",
       "      <td>5.104489</td>\n",
       "    </tr>\n",
       "    <tr>\n",
       "      <td>4</td>\n",
       "      <td>4.880600</td>\n",
       "      <td>5.029777</td>\n",
       "    </tr>\n",
       "    <tr>\n",
       "      <td>5</td>\n",
       "      <td>4.831900</td>\n",
       "      <td>5.056982</td>\n",
       "    </tr>\n",
       "    <tr>\n",
       "      <td>6</td>\n",
       "      <td>4.733900</td>\n",
       "      <td>5.046215</td>\n",
       "    </tr>\n",
       "    <tr>\n",
       "      <td>7</td>\n",
       "      <td>4.720500</td>\n",
       "      <td>5.027318</td>\n",
       "    </tr>\n",
       "    <tr>\n",
       "      <td>8</td>\n",
       "      <td>4.692400</td>\n",
       "      <td>5.048917</td>\n",
       "    </tr>\n",
       "    <tr>\n",
       "      <td>9</td>\n",
       "      <td>4.648400</td>\n",
       "      <td>5.025328</td>\n",
       "    </tr>\n",
       "    <tr>\n",
       "      <td>10</td>\n",
       "      <td>4.618600</td>\n",
       "      <td>5.010895</td>\n",
       "    </tr>\n",
       "    <tr>\n",
       "      <td>11</td>\n",
       "      <td>4.598100</td>\n",
       "      <td>5.010089</td>\n",
       "    </tr>\n",
       "    <tr>\n",
       "      <td>12</td>\n",
       "      <td>4.599900</td>\n",
       "      <td>5.049504</td>\n",
       "    </tr>\n",
       "  </tbody>\n",
       "</table><p>"
      ],
      "text/plain": [
       "<IPython.core.display.HTML object>"
      ]
     },
     "metadata": {},
     "output_type": "display_data"
    },
    {
     "name": "stderr",
     "output_type": "stream",
     "text": [
      "Saving model checkpoint to finetuned-scrumbled-wikitext2/checkpoint-500\n",
      "Configuration saved in finetuned-scrumbled-wikitext2/checkpoint-500/config.json\n",
      "Model weights saved in finetuned-scrumbled-wikitext2/checkpoint-500/pytorch_model.bin\n",
      "Saving model checkpoint to finetuned-scrumbled-wikitext2/checkpoint-1000\n",
      "Configuration saved in finetuned-scrumbled-wikitext2/checkpoint-1000/config.json\n",
      "Model weights saved in finetuned-scrumbled-wikitext2/checkpoint-1000/pytorch_model.bin\n",
      "Saving model checkpoint to finetuned-scrumbled-wikitext2/checkpoint-1500\n",
      "Configuration saved in finetuned-scrumbled-wikitext2/checkpoint-1500/config.json\n",
      "Model weights saved in finetuned-scrumbled-wikitext2/checkpoint-1500/pytorch_model.bin\n",
      "Saving model checkpoint to finetuned-scrumbled-wikitext2/checkpoint-2000\n",
      "Configuration saved in finetuned-scrumbled-wikitext2/checkpoint-2000/config.json\n",
      "Model weights saved in finetuned-scrumbled-wikitext2/checkpoint-2000/pytorch_model.bin\n",
      "***** Running Evaluation *****\n",
      "  Num examples = 1921\n",
      "  Batch size = 8\n",
      "Saving model checkpoint to finetuned-scrumbled-wikitext2/checkpoint-2500\n",
      "Configuration saved in finetuned-scrumbled-wikitext2/checkpoint-2500/config.json\n",
      "Model weights saved in finetuned-scrumbled-wikitext2/checkpoint-2500/pytorch_model.bin\n",
      "Saving model checkpoint to finetuned-scrumbled-wikitext2/checkpoint-3000\n",
      "Configuration saved in finetuned-scrumbled-wikitext2/checkpoint-3000/config.json\n",
      "Model weights saved in finetuned-scrumbled-wikitext2/checkpoint-3000/pytorch_model.bin\n",
      "Saving model checkpoint to finetuned-scrumbled-wikitext2/checkpoint-3500\n",
      "Configuration saved in finetuned-scrumbled-wikitext2/checkpoint-3500/config.json\n",
      "Model weights saved in finetuned-scrumbled-wikitext2/checkpoint-3500/pytorch_model.bin\n",
      "Saving model checkpoint to finetuned-scrumbled-wikitext2/checkpoint-4000\n",
      "Configuration saved in finetuned-scrumbled-wikitext2/checkpoint-4000/config.json\n",
      "Model weights saved in finetuned-scrumbled-wikitext2/checkpoint-4000/pytorch_model.bin\n",
      "Saving model checkpoint to finetuned-scrumbled-wikitext2/checkpoint-4500\n",
      "Configuration saved in finetuned-scrumbled-wikitext2/checkpoint-4500/config.json\n",
      "Model weights saved in finetuned-scrumbled-wikitext2/checkpoint-4500/pytorch_model.bin\n",
      "***** Running Evaluation *****\n",
      "  Num examples = 1921\n",
      "  Batch size = 8\n",
      "Saving model checkpoint to finetuned-scrumbled-wikitext2/checkpoint-5000\n",
      "Configuration saved in finetuned-scrumbled-wikitext2/checkpoint-5000/config.json\n",
      "Model weights saved in finetuned-scrumbled-wikitext2/checkpoint-5000/pytorch_model.bin\n",
      "Saving model checkpoint to finetuned-scrumbled-wikitext2/checkpoint-5500\n",
      "Configuration saved in finetuned-scrumbled-wikitext2/checkpoint-5500/config.json\n",
      "Model weights saved in finetuned-scrumbled-wikitext2/checkpoint-5500/pytorch_model.bin\n",
      "Saving model checkpoint to finetuned-scrumbled-wikitext2/checkpoint-6000\n",
      "Configuration saved in finetuned-scrumbled-wikitext2/checkpoint-6000/config.json\n",
      "Model weights saved in finetuned-scrumbled-wikitext2/checkpoint-6000/pytorch_model.bin\n",
      "Saving model checkpoint to finetuned-scrumbled-wikitext2/checkpoint-6500\n",
      "Configuration saved in finetuned-scrumbled-wikitext2/checkpoint-6500/config.json\n",
      "Model weights saved in finetuned-scrumbled-wikitext2/checkpoint-6500/pytorch_model.bin\n",
      "***** Running Evaluation *****\n",
      "  Num examples = 1921\n",
      "  Batch size = 8\n",
      "Saving model checkpoint to finetuned-scrumbled-wikitext2/checkpoint-7000\n",
      "Configuration saved in finetuned-scrumbled-wikitext2/checkpoint-7000/config.json\n",
      "Model weights saved in finetuned-scrumbled-wikitext2/checkpoint-7000/pytorch_model.bin\n",
      "Saving model checkpoint to finetuned-scrumbled-wikitext2/checkpoint-7500\n",
      "Configuration saved in finetuned-scrumbled-wikitext2/checkpoint-7500/config.json\n",
      "Model weights saved in finetuned-scrumbled-wikitext2/checkpoint-7500/pytorch_model.bin\n",
      "Saving model checkpoint to finetuned-scrumbled-wikitext2/checkpoint-8000\n",
      "Configuration saved in finetuned-scrumbled-wikitext2/checkpoint-8000/config.json\n",
      "Model weights saved in finetuned-scrumbled-wikitext2/checkpoint-8000/pytorch_model.bin\n",
      "Saving model checkpoint to finetuned-scrumbled-wikitext2/checkpoint-8500\n",
      "Configuration saved in finetuned-scrumbled-wikitext2/checkpoint-8500/config.json\n",
      "Model weights saved in finetuned-scrumbled-wikitext2/checkpoint-8500/pytorch_model.bin\n",
      "Saving model checkpoint to finetuned-scrumbled-wikitext2/checkpoint-9000\n",
      "Configuration saved in finetuned-scrumbled-wikitext2/checkpoint-9000/config.json\n",
      "Model weights saved in finetuned-scrumbled-wikitext2/checkpoint-9000/pytorch_model.bin\n",
      "***** Running Evaluation *****\n",
      "  Num examples = 1921\n",
      "  Batch size = 8\n",
      "Saving model checkpoint to finetuned-scrumbled-wikitext2/checkpoint-9500\n",
      "Configuration saved in finetuned-scrumbled-wikitext2/checkpoint-9500/config.json\n",
      "Model weights saved in finetuned-scrumbled-wikitext2/checkpoint-9500/pytorch_model.bin\n",
      "Saving model checkpoint to finetuned-scrumbled-wikitext2/checkpoint-10000\n",
      "Configuration saved in finetuned-scrumbled-wikitext2/checkpoint-10000/config.json\n",
      "Model weights saved in finetuned-scrumbled-wikitext2/checkpoint-10000/pytorch_model.bin\n",
      "Saving model checkpoint to finetuned-scrumbled-wikitext2/checkpoint-10500\n",
      "Configuration saved in finetuned-scrumbled-wikitext2/checkpoint-10500/config.json\n",
      "Model weights saved in finetuned-scrumbled-wikitext2/checkpoint-10500/pytorch_model.bin\n",
      "Saving model checkpoint to finetuned-scrumbled-wikitext2/checkpoint-11000\n",
      "Configuration saved in finetuned-scrumbled-wikitext2/checkpoint-11000/config.json\n",
      "Model weights saved in finetuned-scrumbled-wikitext2/checkpoint-11000/pytorch_model.bin\n",
      "Saving model checkpoint to finetuned-scrumbled-wikitext2/checkpoint-11500\n",
      "Configuration saved in finetuned-scrumbled-wikitext2/checkpoint-11500/config.json\n",
      "Model weights saved in finetuned-scrumbled-wikitext2/checkpoint-11500/pytorch_model.bin\n",
      "***** Running Evaluation *****\n",
      "  Num examples = 1921\n",
      "  Batch size = 8\n",
      "Saving model checkpoint to finetuned-scrumbled-wikitext2/checkpoint-12000\n",
      "Configuration saved in finetuned-scrumbled-wikitext2/checkpoint-12000/config.json\n",
      "Model weights saved in finetuned-scrumbled-wikitext2/checkpoint-12000/pytorch_model.bin\n",
      "Saving model checkpoint to finetuned-scrumbled-wikitext2/checkpoint-12500\n",
      "Configuration saved in finetuned-scrumbled-wikitext2/checkpoint-12500/config.json\n",
      "Model weights saved in finetuned-scrumbled-wikitext2/checkpoint-12500/pytorch_model.bin\n",
      "Saving model checkpoint to finetuned-scrumbled-wikitext2/checkpoint-13000\n",
      "Configuration saved in finetuned-scrumbled-wikitext2/checkpoint-13000/config.json\n",
      "Model weights saved in finetuned-scrumbled-wikitext2/checkpoint-13000/pytorch_model.bin\n",
      "Saving model checkpoint to finetuned-scrumbled-wikitext2/checkpoint-13500\n",
      "Configuration saved in finetuned-scrumbled-wikitext2/checkpoint-13500/config.json\n",
      "Model weights saved in finetuned-scrumbled-wikitext2/checkpoint-13500/pytorch_model.bin\n",
      "***** Running Evaluation *****\n",
      "  Num examples = 1921\n",
      "  Batch size = 8\n",
      "Saving model checkpoint to finetuned-scrumbled-wikitext2/checkpoint-14000\n",
      "Configuration saved in finetuned-scrumbled-wikitext2/checkpoint-14000/config.json\n",
      "Model weights saved in finetuned-scrumbled-wikitext2/checkpoint-14000/pytorch_model.bin\n",
      "Saving model checkpoint to finetuned-scrumbled-wikitext2/checkpoint-14500\n",
      "Configuration saved in finetuned-scrumbled-wikitext2/checkpoint-14500/config.json\n",
      "Model weights saved in finetuned-scrumbled-wikitext2/checkpoint-14500/pytorch_model.bin\n",
      "Saving model checkpoint to finetuned-scrumbled-wikitext2/checkpoint-15000\n",
      "Configuration saved in finetuned-scrumbled-wikitext2/checkpoint-15000/config.json\n",
      "Model weights saved in finetuned-scrumbled-wikitext2/checkpoint-15000/pytorch_model.bin\n",
      "Saving model checkpoint to finetuned-scrumbled-wikitext2/checkpoint-15500\n",
      "Configuration saved in finetuned-scrumbled-wikitext2/checkpoint-15500/config.json\n",
      "Model weights saved in finetuned-scrumbled-wikitext2/checkpoint-15500/pytorch_model.bin\n",
      "Saving model checkpoint to finetuned-scrumbled-wikitext2/checkpoint-16000\n",
      "Configuration saved in finetuned-scrumbled-wikitext2/checkpoint-16000/config.json\n",
      "Model weights saved in finetuned-scrumbled-wikitext2/checkpoint-16000/pytorch_model.bin\n",
      "***** Running Evaluation *****\n",
      "  Num examples = 1921\n",
      "  Batch size = 8\n",
      "Saving model checkpoint to finetuned-scrumbled-wikitext2/checkpoint-16500\n",
      "Configuration saved in finetuned-scrumbled-wikitext2/checkpoint-16500/config.json\n",
      "Model weights saved in finetuned-scrumbled-wikitext2/checkpoint-16500/pytorch_model.bin\n",
      "Saving model checkpoint to finetuned-scrumbled-wikitext2/checkpoint-17000\n",
      "Configuration saved in finetuned-scrumbled-wikitext2/checkpoint-17000/config.json\n",
      "Model weights saved in finetuned-scrumbled-wikitext2/checkpoint-17000/pytorch_model.bin\n",
      "Saving model checkpoint to finetuned-scrumbled-wikitext2/checkpoint-17500\n",
      "Configuration saved in finetuned-scrumbled-wikitext2/checkpoint-17500/config.json\n",
      "Model weights saved in finetuned-scrumbled-wikitext2/checkpoint-17500/pytorch_model.bin\n",
      "Saving model checkpoint to finetuned-scrumbled-wikitext2/checkpoint-18000\n",
      "Configuration saved in finetuned-scrumbled-wikitext2/checkpoint-18000/config.json\n",
      "Model weights saved in finetuned-scrumbled-wikitext2/checkpoint-18000/pytorch_model.bin\n",
      "Saving model checkpoint to finetuned-scrumbled-wikitext2/checkpoint-18500\n",
      "Configuration saved in finetuned-scrumbled-wikitext2/checkpoint-18500/config.json\n",
      "Model weights saved in finetuned-scrumbled-wikitext2/checkpoint-18500/pytorch_model.bin\n",
      "***** Running Evaluation *****\n",
      "  Num examples = 1921\n",
      "  Batch size = 8\n",
      "Saving model checkpoint to finetuned-scrumbled-wikitext2/checkpoint-19000\n",
      "Configuration saved in finetuned-scrumbled-wikitext2/checkpoint-19000/config.json\n",
      "Model weights saved in finetuned-scrumbled-wikitext2/checkpoint-19000/pytorch_model.bin\n",
      "Saving model checkpoint to finetuned-scrumbled-wikitext2/checkpoint-19500\n",
      "Configuration saved in finetuned-scrumbled-wikitext2/checkpoint-19500/config.json\n",
      "Model weights saved in finetuned-scrumbled-wikitext2/checkpoint-19500/pytorch_model.bin\n",
      "Saving model checkpoint to finetuned-scrumbled-wikitext2/checkpoint-20000\n",
      "Configuration saved in finetuned-scrumbled-wikitext2/checkpoint-20000/config.json\n",
      "Model weights saved in finetuned-scrumbled-wikitext2/checkpoint-20000/pytorch_model.bin\n",
      "Saving model checkpoint to finetuned-scrumbled-wikitext2/checkpoint-20500\n",
      "Configuration saved in finetuned-scrumbled-wikitext2/checkpoint-20500/config.json\n",
      "Model weights saved in finetuned-scrumbled-wikitext2/checkpoint-20500/pytorch_model.bin\n",
      "***** Running Evaluation *****\n",
      "  Num examples = 1921\n",
      "  Batch size = 8\n",
      "Saving model checkpoint to finetuned-scrumbled-wikitext2/checkpoint-21000\n",
      "Configuration saved in finetuned-scrumbled-wikitext2/checkpoint-21000/config.json\n",
      "Model weights saved in finetuned-scrumbled-wikitext2/checkpoint-21000/pytorch_model.bin\n",
      "Saving model checkpoint to finetuned-scrumbled-wikitext2/checkpoint-21500\n",
      "Configuration saved in finetuned-scrumbled-wikitext2/checkpoint-21500/config.json\n",
      "Model weights saved in finetuned-scrumbled-wikitext2/checkpoint-21500/pytorch_model.bin\n",
      "Saving model checkpoint to finetuned-scrumbled-wikitext2/checkpoint-22000\n",
      "Configuration saved in finetuned-scrumbled-wikitext2/checkpoint-22000/config.json\n",
      "Model weights saved in finetuned-scrumbled-wikitext2/checkpoint-22000/pytorch_model.bin\n",
      "Saving model checkpoint to finetuned-scrumbled-wikitext2/checkpoint-22500\n",
      "Configuration saved in finetuned-scrumbled-wikitext2/checkpoint-22500/config.json\n",
      "Model weights saved in finetuned-scrumbled-wikitext2/checkpoint-22500/pytorch_model.bin\n",
      "Saving model checkpoint to finetuned-scrumbled-wikitext2/checkpoint-23000\n",
      "Configuration saved in finetuned-scrumbled-wikitext2/checkpoint-23000/config.json\n",
      "Model weights saved in finetuned-scrumbled-wikitext2/checkpoint-23000/pytorch_model.bin\n",
      "***** Running Evaluation *****\n",
      "  Num examples = 1921\n",
      "  Batch size = 8\n",
      "Saving model checkpoint to finetuned-scrumbled-wikitext2/checkpoint-23500\n",
      "Configuration saved in finetuned-scrumbled-wikitext2/checkpoint-23500/config.json\n",
      "Model weights saved in finetuned-scrumbled-wikitext2/checkpoint-23500/pytorch_model.bin\n",
      "Saving model checkpoint to finetuned-scrumbled-wikitext2/checkpoint-24000\n",
      "Configuration saved in finetuned-scrumbled-wikitext2/checkpoint-24000/config.json\n",
      "Model weights saved in finetuned-scrumbled-wikitext2/checkpoint-24000/pytorch_model.bin\n",
      "Saving model checkpoint to finetuned-scrumbled-wikitext2/checkpoint-24500\n",
      "Configuration saved in finetuned-scrumbled-wikitext2/checkpoint-24500/config.json\n",
      "Model weights saved in finetuned-scrumbled-wikitext2/checkpoint-24500/pytorch_model.bin\n",
      "Saving model checkpoint to finetuned-scrumbled-wikitext2/checkpoint-25000\n",
      "Configuration saved in finetuned-scrumbled-wikitext2/checkpoint-25000/config.json\n",
      "Model weights saved in finetuned-scrumbled-wikitext2/checkpoint-25000/pytorch_model.bin\n",
      "***** Running Evaluation *****\n",
      "  Num examples = 1921\n",
      "  Batch size = 8\n",
      "Saving model checkpoint to finetuned-scrumbled-wikitext2/checkpoint-25500\n",
      "Configuration saved in finetuned-scrumbled-wikitext2/checkpoint-25500/config.json\n",
      "Model weights saved in finetuned-scrumbled-wikitext2/checkpoint-25500/pytorch_model.bin\n",
      "Saving model checkpoint to finetuned-scrumbled-wikitext2/checkpoint-26000\n",
      "Configuration saved in finetuned-scrumbled-wikitext2/checkpoint-26000/config.json\n",
      "Model weights saved in finetuned-scrumbled-wikitext2/checkpoint-26000/pytorch_model.bin\n",
      "Saving model checkpoint to finetuned-scrumbled-wikitext2/checkpoint-26500\n",
      "Configuration saved in finetuned-scrumbled-wikitext2/checkpoint-26500/config.json\n",
      "Model weights saved in finetuned-scrumbled-wikitext2/checkpoint-26500/pytorch_model.bin\n",
      "Saving model checkpoint to finetuned-scrumbled-wikitext2/checkpoint-27000\n",
      "Configuration saved in finetuned-scrumbled-wikitext2/checkpoint-27000/config.json\n",
      "Model weights saved in finetuned-scrumbled-wikitext2/checkpoint-27000/pytorch_model.bin\n",
      "Saving model checkpoint to finetuned-scrumbled-wikitext2/checkpoint-27500\n",
      "Configuration saved in finetuned-scrumbled-wikitext2/checkpoint-27500/config.json\n",
      "Model weights saved in finetuned-scrumbled-wikitext2/checkpoint-27500/pytorch_model.bin\n",
      "***** Running Evaluation *****\n",
      "  Num examples = 1921\n",
      "  Batch size = 8\n",
      "\n",
      "\n",
      "Training completed. Do not forget to share your model on huggingface.co/models =)\n",
      "\n",
      "\n"
     ]
    },
    {
     "data": {
      "text/plain": [
       "TrainOutput(global_step=27804, training_loss=4.7907258111819, metrics={'train_runtime': 3772.0292, 'train_samples_per_second': 58.966, 'train_steps_per_second': 7.371, 'total_flos': 1.4635503615744e+16, 'train_loss': 4.7907258111819, 'epoch': 12.0})"
      ]
     },
     "execution_count": 10,
     "metadata": {},
     "output_type": "execute_result"
    }
   ],
   "source": [
    "trainer.train()"
   ]
  },
  {
   "cell_type": "code",
   "execution_count": null,
   "metadata": {},
   "outputs": [],
   "source": []
  }
 ],
 "metadata": {
  "kernelspec": {
   "display_name": "diploma",
   "language": "python",
   "name": "python3"
  },
  "language_info": {
   "codemirror_mode": {
    "name": "ipython",
    "version": 3
   },
   "file_extension": ".py",
   "mimetype": "text/x-python",
   "name": "python",
   "nbconvert_exporter": "python",
   "pygments_lexer": "ipython3",
   "version": "3.9.16"
  },
  "orig_nbformat": 4,
  "vscode": {
   "interpreter": {
    "hash": "46242d4576570c8c82d7fb56e00e670e22fb52831ef677247d21ad598b3c01cb"
   }
  }
 },
 "nbformat": 4,
 "nbformat_minor": 2
}

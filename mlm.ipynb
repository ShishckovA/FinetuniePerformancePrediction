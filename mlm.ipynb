{
 "cells": [
  {
   "cell_type": "code",
   "execution_count": 1,
   "metadata": {},
   "outputs": [
    {
     "data": {
      "application/vnd.jupyter.widget-view+json": {
       "model_id": "10e4f67515de44c98a09b0293304d5c5",
       "version_major": 2,
       "version_minor": 0
      },
      "text/plain": [
       "Downloading:   0%|          | 0.00/570 [00:00<?, ?B/s]"
      ]
     },
     "metadata": {},
     "output_type": "display_data"
    },
    {
     "data": {
      "application/vnd.jupyter.widget-view+json": {
       "model_id": "a59a07b59b7c48c4a23c8787249b5342",
       "version_major": 2,
       "version_minor": 0
      },
      "text/plain": [
       "Downloading:   0%|          | 0.00/440M [00:00<?, ?B/s]"
      ]
     },
     "metadata": {},
     "output_type": "display_data"
    },
    {
     "name": "stderr",
     "output_type": "stream",
     "text": [
      "Some weights of the model checkpoint at bert-base-uncased were not used when initializing BertForMaskedLM: ['cls.seq_relationship.bias', 'cls.seq_relationship.weight']\n",
      "- This IS expected if you are initializing BertForMaskedLM from the checkpoint of a model trained on another task or with another architecture (e.g. initializing a BertForSequenceClassification model from a BertForPreTraining model).\n",
      "- This IS NOT expected if you are initializing BertForMaskedLM from the checkpoint of a model that you expect to be exactly identical (initializing a BertForSequenceClassification model from a BertForSequenceClassification model).\n"
     ]
    },
    {
     "data": {
      "application/vnd.jupyter.widget-view+json": {
       "model_id": "15d0372b4e4a482f98d1fa545620ae9a",
       "version_major": 2,
       "version_minor": 0
      },
      "text/plain": [
       "Downloading:   0%|          | 0.00/232k [00:00<?, ?B/s]"
      ]
     },
     "metadata": {},
     "output_type": "display_data"
    },
    {
     "data": {
      "application/vnd.jupyter.widget-view+json": {
       "model_id": "c45382fd66564bc7949d5662073fd9f5",
       "version_major": 2,
       "version_minor": 0
      },
      "text/plain": [
       "Downloading:   0%|          | 0.00/28.0 [00:00<?, ?B/s]"
      ]
     },
     "metadata": {},
     "output_type": "display_data"
    }
   ],
   "source": [
    "from transformers import BertTokenizer, BertForMaskedLM, BertTokenizer\n",
    "\n",
    "model_path = tokenizer_path = \"bert-base-uncased\"  \n",
    "model = BertForMaskedLM.from_pretrained(model_path, output_hidden_states=True)\n",
    "tokenizer = BertTokenizer.from_pretrained(tokenizer_path, do_lower_case=True)"
   ]
  },
  {
   "cell_type": "code",
   "execution_count": 2,
   "metadata": {},
   "outputs": [
    {
     "data": {
      "application/vnd.jupyter.widget-view+json": {
       "model_id": "309e52f37f15462281d44df5a263dc9e",
       "version_major": 2,
       "version_minor": 0
      },
      "text/plain": [
       "Downloading builder script:   0%|          | 0.00/8.48k [00:00<?, ?B/s]"
      ]
     },
     "metadata": {},
     "output_type": "display_data"
    },
    {
     "data": {
      "application/vnd.jupyter.widget-view+json": {
       "model_id": "113930c1828d4b408fa90603ca8f5e56",
       "version_major": 2,
       "version_minor": 0
      },
      "text/plain": [
       "Downloading metadata:   0%|          | 0.00/6.84k [00:00<?, ?B/s]"
      ]
     },
     "metadata": {},
     "output_type": "display_data"
    },
    {
     "data": {
      "application/vnd.jupyter.widget-view+json": {
       "model_id": "6430689f3c204f3a898b1e4942862819",
       "version_major": 2,
       "version_minor": 0
      },
      "text/plain": [
       "Downloading readme:   0%|          | 0.00/9.25k [00:00<?, ?B/s]"
      ]
     },
     "metadata": {},
     "output_type": "display_data"
    },
    {
     "name": "stdout",
     "output_type": "stream",
     "text": [
      "Downloading and preparing dataset wikitext/wikitext-2-raw-v1 to /home/sha43/.cache/huggingface/datasets/wikitext/wikitext-2-raw-v1/1.0.0/a241db52902eaf2c6aa732210bead40c090019a499ceb13bcbfa3f8ab646a126...\n"
     ]
    },
    {
     "data": {
      "application/vnd.jupyter.widget-view+json": {
       "model_id": "b1ca98b374964f9d90fdcde9d59ae4df",
       "version_major": 2,
       "version_minor": 0
      },
      "text/plain": [
       "Downloading data:   0%|          | 0.00/4.72M [00:00<?, ?B/s]"
      ]
     },
     "metadata": {},
     "output_type": "display_data"
    },
    {
     "data": {
      "application/vnd.jupyter.widget-view+json": {
       "model_id": "262f8756a8d14bc28bb65455da0d7187",
       "version_major": 2,
       "version_minor": 0
      },
      "text/plain": [
       "Generating test split:   0%|          | 0/4358 [00:00<?, ? examples/s]"
      ]
     },
     "metadata": {},
     "output_type": "display_data"
    },
    {
     "data": {
      "application/vnd.jupyter.widget-view+json": {
       "model_id": "f71cf597135d4c80b7d3e8d3132cc79f",
       "version_major": 2,
       "version_minor": 0
      },
      "text/plain": [
       "Generating train split:   0%|          | 0/36718 [00:00<?, ? examples/s]"
      ]
     },
     "metadata": {},
     "output_type": "display_data"
    },
    {
     "data": {
      "application/vnd.jupyter.widget-view+json": {
       "model_id": "858a5dba8c7c484db8621c57d1fdc0d4",
       "version_major": 2,
       "version_minor": 0
      },
      "text/plain": [
       "Generating validation split:   0%|          | 0/3760 [00:00<?, ? examples/s]"
      ]
     },
     "metadata": {},
     "output_type": "display_data"
    },
    {
     "name": "stdout",
     "output_type": "stream",
     "text": [
      "Dataset wikitext downloaded and prepared to /home/sha43/.cache/huggingface/datasets/wikitext/wikitext-2-raw-v1/1.0.0/a241db52902eaf2c6aa732210bead40c090019a499ceb13bcbfa3f8ab646a126. Subsequent calls will reuse this data.\n"
     ]
    },
    {
     "data": {
      "application/vnd.jupyter.widget-view+json": {
       "model_id": "0dc74cb317124752860da9a0161215f2",
       "version_major": 2,
       "version_minor": 0
      },
      "text/plain": [
       "  0%|          | 0/3 [00:00<?, ?it/s]"
      ]
     },
     "metadata": {},
     "output_type": "display_data"
    }
   ],
   "source": [
    "from datasets import load_dataset\n",
    "datasets = load_dataset('wikitext', 'wikitext-2-raw-v1')"
   ]
  },
  {
   "cell_type": "code",
   "execution_count": 3,
   "metadata": {},
   "outputs": [],
   "source": [
    "import random\n",
    "def tokenize_function(examples):\n",
    "    for i in range(len(examples[\"text\"])):\n",
    "        texttt = examples[\"text\"][i].split()\n",
    "        random.shuffle(texttt)\n",
    "        examples[\"text\"][i] = \" \".join(texttt)\n",
    "\n",
    "    return tokenizer(examples[\"text\"], truncation=True)"
   ]
  },
  {
   "cell_type": "code",
   "execution_count": 4,
   "metadata": {},
   "outputs": [
    {
     "data": {
      "application/vnd.jupyter.widget-view+json": {
       "model_id": "a8579f8e29384b399321549331dc3cfe",
       "version_major": 2,
       "version_minor": 0
      },
      "text/plain": [
       "  0%|          | 0/5 [00:00<?, ?ba/s]"
      ]
     },
     "metadata": {},
     "output_type": "display_data"
    },
    {
     "data": {
      "application/vnd.jupyter.widget-view+json": {
       "model_id": "3aefa6ae91dc40889f4012674b892e86",
       "version_major": 2,
       "version_minor": 0
      },
      "text/plain": [
       "  0%|          | 0/37 [00:00<?, ?ba/s]"
      ]
     },
     "metadata": {},
     "output_type": "display_data"
    },
    {
     "data": {
      "application/vnd.jupyter.widget-view+json": {
       "model_id": "d8ec66838f1e431fbd5f20e0eaaf3b9d",
       "version_major": 2,
       "version_minor": 0
      },
      "text/plain": [
       "  0%|          | 0/4 [00:00<?, ?ba/s]"
      ]
     },
     "metadata": {},
     "output_type": "display_data"
    }
   ],
   "source": [
    "tokenized_datasets = datasets.map(tokenize_function, batched=True, num_proc=1, remove_columns=[\"text\"])"
   ]
  },
  {
   "cell_type": "code",
   "execution_count": 5,
   "metadata": {},
   "outputs": [],
   "source": [
    "def group_texts(examples):\n",
    "    # Concatenate all texts.\n",
    "    concatenated_examples = {k: sum(examples[k], []) for k in examples.keys()}\n",
    "    total_length = len(concatenated_examples[list(examples.keys())[0]])\n",
    "    # We drop the small remainder, we could add padding if the model supported it instead of this drop, you can\n",
    "        # customize this part to your needs.\n",
    "    total_length = (total_length // block_size) * block_size\n",
    "    # Split by chunks of max_len.\n",
    "    result = {\n",
    "        k: [t[i : i + block_size] for i in range(0, total_length, block_size)]\n",
    "        for k, t in concatenated_examples.items()\n",
    "    }\n",
    "    result[\"labels\"] = result[\"input_ids\"].copy()\n",
    "    return result"
   ]
  },
  {
   "cell_type": "code",
   "execution_count": 6,
   "metadata": {},
   "outputs": [
    {
     "name": "stdout",
     "output_type": "stream",
     "text": [
      "        "
     ]
    },
    {
     "data": {
      "application/vnd.jupyter.widget-view+json": {
       "model_id": "04077757deb34e548de0864d7ddf7b4e",
       "version_major": 2,
       "version_minor": 0
      },
      "text/plain": [
       "#0:   0%|          | 0/2 [00:00<?, ?ba/s]"
      ]
     },
     "metadata": {},
     "output_type": "display_data"
    },
    {
     "data": {
      "application/vnd.jupyter.widget-view+json": {
       "model_id": "13821ee75a5847ed88abcf47deb516d8",
       "version_major": 2,
       "version_minor": 0
      },
      "text/plain": [
       "#1:   0%|          | 0/2 [00:00<?, ?ba/s]"
      ]
     },
     "metadata": {},
     "output_type": "display_data"
    },
    {
     "data": {
      "application/vnd.jupyter.widget-view+json": {
       "model_id": "e32f41e513924569995eeca694708cc1",
       "version_major": 2,
       "version_minor": 0
      },
      "text/plain": [
       "#2:   0%|          | 0/2 [00:00<?, ?ba/s]"
      ]
     },
     "metadata": {},
     "output_type": "display_data"
    },
    {
     "data": {
      "application/vnd.jupyter.widget-view+json": {
       "model_id": "015dca26ab834289b63bb788067bb177",
       "version_major": 2,
       "version_minor": 0
      },
      "text/plain": [
       "#3:   0%|          | 0/2 [00:00<?, ?ba/s]"
      ]
     },
     "metadata": {},
     "output_type": "display_data"
    },
    {
     "name": "stdout",
     "output_type": "stream",
     "text": [
      "        "
     ]
    },
    {
     "data": {
      "application/vnd.jupyter.widget-view+json": {
       "model_id": "5985ebab7a9840b88b655c5a1f9b6b7d",
       "version_major": 2,
       "version_minor": 0
      },
      "text/plain": [
       "#0:   0%|          | 0/10 [00:00<?, ?ba/s]"
      ]
     },
     "metadata": {},
     "output_type": "display_data"
    },
    {
     "data": {
      "application/vnd.jupyter.widget-view+json": {
       "model_id": "b53e7672bd8045ac9e458128095ef04d",
       "version_major": 2,
       "version_minor": 0
      },
      "text/plain": [
       "#2:   0%|          | 0/10 [00:00<?, ?ba/s]"
      ]
     },
     "metadata": {},
     "output_type": "display_data"
    },
    {
     "data": {
      "application/vnd.jupyter.widget-view+json": {
       "model_id": "b024812eafba4c3a823a6339aa1cef80",
       "version_major": 2,
       "version_minor": 0
      },
      "text/plain": [
       "#1:   0%|          | 0/10 [00:00<?, ?ba/s]"
      ]
     },
     "metadata": {},
     "output_type": "display_data"
    },
    {
     "data": {
      "application/vnd.jupyter.widget-view+json": {
       "model_id": "42b9341bde1c466db002c28bc887eada",
       "version_major": 2,
       "version_minor": 0
      },
      "text/plain": [
       "#3:   0%|          | 0/10 [00:00<?, ?ba/s]"
      ]
     },
     "metadata": {},
     "output_type": "display_data"
    },
    {
     "name": "stdout",
     "output_type": "stream",
     "text": [
      "        "
     ]
    },
    {
     "data": {
      "application/vnd.jupyter.widget-view+json": {
       "model_id": "5063f26c8ab5405a9ba341f621ba1593",
       "version_major": 2,
       "version_minor": 0
      },
      "text/plain": [
       "#1:   0%|          | 0/1 [00:00<?, ?ba/s]"
      ]
     },
     "metadata": {},
     "output_type": "display_data"
    },
    {
     "data": {
      "application/vnd.jupyter.widget-view+json": {
       "model_id": "813c435606e542c7bb0d300949500b86",
       "version_major": 2,
       "version_minor": 0
      },
      "text/plain": [
       "#0:   0%|          | 0/1 [00:00<?, ?ba/s]"
      ]
     },
     "metadata": {},
     "output_type": "display_data"
    },
    {
     "data": {
      "application/vnd.jupyter.widget-view+json": {
       "model_id": "198851ab87174f67907994207d56c634",
       "version_major": 2,
       "version_minor": 0
      },
      "text/plain": [
       "#2:   0%|          | 0/1 [00:00<?, ?ba/s]"
      ]
     },
     "metadata": {},
     "output_type": "display_data"
    },
    {
     "data": {
      "application/vnd.jupyter.widget-view+json": {
       "model_id": "ecbde1aa5bc04168bd4158a61e319cd8",
       "version_major": 2,
       "version_minor": 0
      },
      "text/plain": [
       "#3:   0%|          | 0/1 [00:00<?, ?ba/s]"
      ]
     },
     "metadata": {},
     "output_type": "display_data"
    }
   ],
   "source": [
    "# block_size = tokenizer.model_max_length\n",
    "block_size = 128\n",
    "\n",
    "lm_datasets = tokenized_datasets.map(\n",
    "    group_texts,\n",
    "    batched=True,\n",
    "    batch_size=1000,\n",
    "    num_proc=4,\n",
    ")"
   ]
  },
  {
   "cell_type": "code",
   "execution_count": 7,
   "metadata": {},
   "outputs": [],
   "source": [
    "from transformers import TrainingArguments, Trainer\n",
    "\n",
    "training_args = TrainingArguments(\n",
    "    f\"finetuned-scrumbled-wikitext2\",\n",
    "    evaluation_strategy = \"epoch\",\n",
    "    learning_rate=2e-5,\n",
    "    weight_decay=0.01,\n",
    "    num_train_epochs=6\n",
    ")"
   ]
  },
  {
   "cell_type": "code",
   "execution_count": 8,
   "metadata": {},
   "outputs": [],
   "source": [
    "from transformers import DataCollatorForLanguageModeling\n",
    "data_collator = DataCollatorForLanguageModeling(tokenizer=tokenizer, mlm_probability=0.15)"
   ]
  },
  {
   "cell_type": "code",
   "execution_count": 9,
   "metadata": {},
   "outputs": [],
   "source": [
    "trainer = Trainer(\n",
    "    model=model,\n",
    "    args=training_args,\n",
    "    train_dataset=lm_datasets[\"train\"],\n",
    "    eval_dataset=lm_datasets[\"validation\"],\n",
    "    data_collator=data_collator,\n",
    ")"
   ]
  },
  {
   "cell_type": "code",
   "execution_count": 10,
   "metadata": {},
   "outputs": [
    {
     "name": "stderr",
     "output_type": "stream",
     "text": [
      "/home/sha43/anaconda3/envs/diploma/lib/python3.9/site-packages/transformers/optimization.py:306: FutureWarning: This implementation of AdamW is deprecated and will be removed in a future version. Use the PyTorch implementation torch.optim.AdamW instead, or set `no_deprecation_warning=True` to disable this warning\n",
      "  warnings.warn(\n",
      "***** Running training *****\n",
      "  Num examples = 18535\n",
      "  Num Epochs = 6\n",
      "  Instantaneous batch size per device = 8\n",
      "  Total train batch size (w. parallel, distributed & accumulation) = 8\n",
      "  Gradient Accumulation steps = 1\n",
      "  Total optimization steps = 13902\n",
      "  Number of trainable parameters = 109514298\n"
     ]
    },
    {
     "data": {
      "text/html": [
       "\n",
       "    <div>\n",
       "      \n",
       "      <progress value='13902' max='13902' style='width:300px; height:20px; vertical-align: middle;'></progress>\n",
       "      [13902/13902 29:33, Epoch 6/6]\n",
       "    </div>\n",
       "    <table border=\"1\" class=\"dataframe\">\n",
       "  <thead>\n",
       " <tr style=\"text-align: left;\">\n",
       "      <th>Epoch</th>\n",
       "      <th>Training Loss</th>\n",
       "      <th>Validation Loss</th>\n",
       "    </tr>\n",
       "  </thead>\n",
       "  <tbody>\n",
       "    <tr>\n",
       "      <td>1</td>\n",
       "      <td>5.108700</td>\n",
       "      <td>5.069732</td>\n",
       "    </tr>\n",
       "    <tr>\n",
       "      <td>2</td>\n",
       "      <td>4.978300</td>\n",
       "      <td>5.054367</td>\n",
       "    </tr>\n",
       "    <tr>\n",
       "      <td>3</td>\n",
       "      <td>4.934700</td>\n",
       "      <td>5.041335</td>\n",
       "    </tr>\n",
       "    <tr>\n",
       "      <td>4</td>\n",
       "      <td>4.906500</td>\n",
       "      <td>4.962860</td>\n",
       "    </tr>\n",
       "    <tr>\n",
       "      <td>5</td>\n",
       "      <td>4.871800</td>\n",
       "      <td>4.976539</td>\n",
       "    </tr>\n",
       "    <tr>\n",
       "      <td>6</td>\n",
       "      <td>4.803700</td>\n",
       "      <td>4.975343</td>\n",
       "    </tr>\n",
       "  </tbody>\n",
       "</table><p>"
      ],
      "text/plain": [
       "<IPython.core.display.HTML object>"
      ]
     },
     "metadata": {},
     "output_type": "display_data"
    },
    {
     "name": "stderr",
     "output_type": "stream",
     "text": [
      "Saving model checkpoint to finetuned-scrumbled-wikitext2/checkpoint-500\n",
      "Configuration saved in finetuned-scrumbled-wikitext2/checkpoint-500/config.json\n",
      "Model weights saved in finetuned-scrumbled-wikitext2/checkpoint-500/pytorch_model.bin\n",
      "Saving model checkpoint to finetuned-scrumbled-wikitext2/checkpoint-1000\n",
      "Configuration saved in finetuned-scrumbled-wikitext2/checkpoint-1000/config.json\n",
      "Model weights saved in finetuned-scrumbled-wikitext2/checkpoint-1000/pytorch_model.bin\n",
      "Saving model checkpoint to finetuned-scrumbled-wikitext2/checkpoint-1500\n",
      "Configuration saved in finetuned-scrumbled-wikitext2/checkpoint-1500/config.json\n",
      "Model weights saved in finetuned-scrumbled-wikitext2/checkpoint-1500/pytorch_model.bin\n",
      "Saving model checkpoint to finetuned-scrumbled-wikitext2/checkpoint-2000\n",
      "Configuration saved in finetuned-scrumbled-wikitext2/checkpoint-2000/config.json\n",
      "Model weights saved in finetuned-scrumbled-wikitext2/checkpoint-2000/pytorch_model.bin\n",
      "***** Running Evaluation *****\n",
      "  Num examples = 1921\n",
      "  Batch size = 8\n",
      "Saving model checkpoint to finetuned-scrumbled-wikitext2/checkpoint-2500\n",
      "Configuration saved in finetuned-scrumbled-wikitext2/checkpoint-2500/config.json\n",
      "Model weights saved in finetuned-scrumbled-wikitext2/checkpoint-2500/pytorch_model.bin\n",
      "Saving model checkpoint to finetuned-scrumbled-wikitext2/checkpoint-3000\n",
      "Configuration saved in finetuned-scrumbled-wikitext2/checkpoint-3000/config.json\n",
      "Model weights saved in finetuned-scrumbled-wikitext2/checkpoint-3000/pytorch_model.bin\n",
      "Saving model checkpoint to finetuned-scrumbled-wikitext2/checkpoint-3500\n",
      "Configuration saved in finetuned-scrumbled-wikitext2/checkpoint-3500/config.json\n",
      "Model weights saved in finetuned-scrumbled-wikitext2/checkpoint-3500/pytorch_model.bin\n",
      "Saving model checkpoint to finetuned-scrumbled-wikitext2/checkpoint-4000\n",
      "Configuration saved in finetuned-scrumbled-wikitext2/checkpoint-4000/config.json\n",
      "Model weights saved in finetuned-scrumbled-wikitext2/checkpoint-4000/pytorch_model.bin\n",
      "Saving model checkpoint to finetuned-scrumbled-wikitext2/checkpoint-4500\n",
      "Configuration saved in finetuned-scrumbled-wikitext2/checkpoint-4500/config.json\n",
      "Model weights saved in finetuned-scrumbled-wikitext2/checkpoint-4500/pytorch_model.bin\n",
      "***** Running Evaluation *****\n",
      "  Num examples = 1921\n",
      "  Batch size = 8\n",
      "Saving model checkpoint to finetuned-scrumbled-wikitext2/checkpoint-5000\n",
      "Configuration saved in finetuned-scrumbled-wikitext2/checkpoint-5000/config.json\n",
      "Model weights saved in finetuned-scrumbled-wikitext2/checkpoint-5000/pytorch_model.bin\n",
      "Saving model checkpoint to finetuned-scrumbled-wikitext2/checkpoint-5500\n",
      "Configuration saved in finetuned-scrumbled-wikitext2/checkpoint-5500/config.json\n",
      "Model weights saved in finetuned-scrumbled-wikitext2/checkpoint-5500/pytorch_model.bin\n",
      "Saving model checkpoint to finetuned-scrumbled-wikitext2/checkpoint-6000\n",
      "Configuration saved in finetuned-scrumbled-wikitext2/checkpoint-6000/config.json\n",
      "Model weights saved in finetuned-scrumbled-wikitext2/checkpoint-6000/pytorch_model.bin\n",
      "Saving model checkpoint to finetuned-scrumbled-wikitext2/checkpoint-6500\n",
      "Configuration saved in finetuned-scrumbled-wikitext2/checkpoint-6500/config.json\n",
      "Model weights saved in finetuned-scrumbled-wikitext2/checkpoint-6500/pytorch_model.bin\n",
      "***** Running Evaluation *****\n",
      "  Num examples = 1921\n",
      "  Batch size = 8\n",
      "Saving model checkpoint to finetuned-scrumbled-wikitext2/checkpoint-7000\n",
      "Configuration saved in finetuned-scrumbled-wikitext2/checkpoint-7000/config.json\n",
      "Model weights saved in finetuned-scrumbled-wikitext2/checkpoint-7000/pytorch_model.bin\n",
      "Saving model checkpoint to finetuned-scrumbled-wikitext2/checkpoint-7500\n",
      "Configuration saved in finetuned-scrumbled-wikitext2/checkpoint-7500/config.json\n",
      "Model weights saved in finetuned-scrumbled-wikitext2/checkpoint-7500/pytorch_model.bin\n",
      "Saving model checkpoint to finetuned-scrumbled-wikitext2/checkpoint-8000\n",
      "Configuration saved in finetuned-scrumbled-wikitext2/checkpoint-8000/config.json\n",
      "Model weights saved in finetuned-scrumbled-wikitext2/checkpoint-8000/pytorch_model.bin\n",
      "Saving model checkpoint to finetuned-scrumbled-wikitext2/checkpoint-8500\n",
      "Configuration saved in finetuned-scrumbled-wikitext2/checkpoint-8500/config.json\n",
      "Model weights saved in finetuned-scrumbled-wikitext2/checkpoint-8500/pytorch_model.bin\n",
      "Saving model checkpoint to finetuned-scrumbled-wikitext2/checkpoint-9000\n",
      "Configuration saved in finetuned-scrumbled-wikitext2/checkpoint-9000/config.json\n",
      "Model weights saved in finetuned-scrumbled-wikitext2/checkpoint-9000/pytorch_model.bin\n",
      "***** Running Evaluation *****\n",
      "  Num examples = 1921\n",
      "  Batch size = 8\n",
      "Saving model checkpoint to finetuned-scrumbled-wikitext2/checkpoint-9500\n",
      "Configuration saved in finetuned-scrumbled-wikitext2/checkpoint-9500/config.json\n",
      "Model weights saved in finetuned-scrumbled-wikitext2/checkpoint-9500/pytorch_model.bin\n",
      "Saving model checkpoint to finetuned-scrumbled-wikitext2/checkpoint-10000\n",
      "Configuration saved in finetuned-scrumbled-wikitext2/checkpoint-10000/config.json\n",
      "Model weights saved in finetuned-scrumbled-wikitext2/checkpoint-10000/pytorch_model.bin\n",
      "Saving model checkpoint to finetuned-scrumbled-wikitext2/checkpoint-10500\n",
      "Configuration saved in finetuned-scrumbled-wikitext2/checkpoint-10500/config.json\n",
      "Model weights saved in finetuned-scrumbled-wikitext2/checkpoint-10500/pytorch_model.bin\n",
      "Saving model checkpoint to finetuned-scrumbled-wikitext2/checkpoint-11000\n",
      "Configuration saved in finetuned-scrumbled-wikitext2/checkpoint-11000/config.json\n",
      "Model weights saved in finetuned-scrumbled-wikitext2/checkpoint-11000/pytorch_model.bin\n",
      "Saving model checkpoint to finetuned-scrumbled-wikitext2/checkpoint-11500\n",
      "Configuration saved in finetuned-scrumbled-wikitext2/checkpoint-11500/config.json\n",
      "Model weights saved in finetuned-scrumbled-wikitext2/checkpoint-11500/pytorch_model.bin\n",
      "***** Running Evaluation *****\n",
      "  Num examples = 1921\n",
      "  Batch size = 8\n",
      "Saving model checkpoint to finetuned-scrumbled-wikitext2/checkpoint-12000\n",
      "Configuration saved in finetuned-scrumbled-wikitext2/checkpoint-12000/config.json\n",
      "Model weights saved in finetuned-scrumbled-wikitext2/checkpoint-12000/pytorch_model.bin\n",
      "Saving model checkpoint to finetuned-scrumbled-wikitext2/checkpoint-12500\n",
      "Configuration saved in finetuned-scrumbled-wikitext2/checkpoint-12500/config.json\n",
      "Model weights saved in finetuned-scrumbled-wikitext2/checkpoint-12500/pytorch_model.bin\n",
      "Saving model checkpoint to finetuned-scrumbled-wikitext2/checkpoint-13000\n",
      "Configuration saved in finetuned-scrumbled-wikitext2/checkpoint-13000/config.json\n",
      "Model weights saved in finetuned-scrumbled-wikitext2/checkpoint-13000/pytorch_model.bin\n",
      "Saving model checkpoint to finetuned-scrumbled-wikitext2/checkpoint-13500\n",
      "Configuration saved in finetuned-scrumbled-wikitext2/checkpoint-13500/config.json\n",
      "Model weights saved in finetuned-scrumbled-wikitext2/checkpoint-13500/pytorch_model.bin\n",
      "***** Running Evaluation *****\n",
      "  Num examples = 1921\n",
      "  Batch size = 8\n",
      "\n",
      "\n",
      "Training completed. Do not forget to share your model on huggingface.co/models =)\n",
      "\n",
      "\n"
     ]
    },
    {
     "data": {
      "text/plain": [
       "TrainOutput(global_step=13902, training_loss=4.955346790325246, metrics={'train_runtime': 1779.3212, 'train_samples_per_second': 62.501, 'train_steps_per_second': 7.813, 'total_flos': 7317751807872000.0, 'train_loss': 4.955346790325246, 'epoch': 6.0})"
      ]
     },
     "execution_count": 10,
     "metadata": {},
     "output_type": "execute_result"
    }
   ],
   "source": [
    "trainer.train()"
   ]
  },
  {
   "cell_type": "code",
   "execution_count": null,
   "metadata": {},
   "outputs": [],
   "source": []
  }
 ],
 "metadata": {
  "kernelspec": {
   "display_name": "diploma",
   "language": "python",
   "name": "python3"
  },
  "language_info": {
   "codemirror_mode": {
    "name": "ipython",
    "version": 3
   },
   "file_extension": ".py",
   "mimetype": "text/x-python",
   "name": "python",
   "nbconvert_exporter": "python",
   "pygments_lexer": "ipython3",
   "version": "3.9.16 (main, Jan 11 2023, 16:05:54) \n[GCC 11.2.0]"
  },
  "orig_nbformat": 4,
  "vscode": {
   "interpreter": {
    "hash": "46242d4576570c8c82d7fb56e00e670e22fb52831ef677247d21ad598b3c01cb"
   }
  }
 },
 "nbformat": 4,
 "nbformat_minor": 2
}

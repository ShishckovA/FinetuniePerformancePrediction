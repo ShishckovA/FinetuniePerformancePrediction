{
 "cells": [
  {
   "cell_type": "code",
   "execution_count": null,
   "metadata": {},
   "outputs": [],
   "source": [
    "from transformers import BertTokenizer, BertModel, BertForSequenceClassification\n",
    "import senteval\n"
   ]
  },
  {
   "cell_type": "code",
   "execution_count": null,
   "metadata": {},
   "outputs": [],
   "source": [
    "tokenizer_path = \"bert-base-uncased\"  \n",
    "\n",
    "tokenizer = BertTokenizer.from_pretrained(tokenizer_path, do_lower_case=True)"
   ]
  },
  {
   "cell_type": "code",
   "execution_count": null,
   "metadata": {},
   "outputs": [],
   "source": [
    "import numpy as np\n",
    "import senteval\n",
    "def prepare(params, samples):\n",
    "    return \n",
    "\n",
    "def batcher(_, batch):\n",
    "    batch = [\" \".join(sts) for sts in batch]\n",
    "    inputs = tokenizer(batch, return_tensors=\"pt\",\n",
    "            add_special_tokens=True,\n",
    "            pad_to_max_length=True,         # Pad sentence to max length\n",
    "            truncation=True)\n",
    "    for k in inputs:\n",
    "        inputs[k] = inputs[k].to(\"cuda\")\n",
    "    res = model(**inputs)[\"hidden_states\"]\n",
    "    res = res[-1][:, 0].detach().cpu().numpy()\n",
    "    return res\n",
    "\n",
    "\n",
    "models = [\"bert-base-uncased\"] + [f\"./finetuned-scrumbled-wikitext2-3e-4/checkpoint-{i}\" for i in range(5520 + 80, 40000, 80)]\n",
    "device='cuda'\n",
    "\n",
    "for model_name in models:\n",
    "    model = BertForSequenceClassification.from_pretrained(model_name, output_hidden_states=True)\n",
    "    model = model.to(device)\n",
    "\n",
    "    model = model.to(device)\n",
    "    PATH_TO_DATA = \"SentEval/data\"\n",
    "    PARAMS = {'task_path': PATH_TO_DATA, 'usepytorch': False, 'kfold': 3, 'batch_size': 8}\n",
    "    PARAMS['classifier'] = {'max_iter': 10000, 'nhid': 768}\n",
    "    transfer_tasks = ['CR', 'MR', 'MPQA', 'SUBJ', 'SST2', 'SST5', 'Depth', 'Tense', 'Length']\n",
    "    import warnings\n",
    "    def fxn():\n",
    "        warnings.warn(\"deprecated\", DeprecationWarning)\n",
    "\n",
    "    with warnings.catch_warnings():\n",
    "        warnings.simplefilter(\"ignore\")\n",
    "        se = senteval.engine.SE(PARAMS, batcher, prepare)\n",
    "        results = se.eval(transfer_tasks)\n",
    "    with open(\"probing_results.csv\", \"a\") as fout:\n",
    "        print(model_name, results, sep=\"\\t\", file=fout)"
   ]
  }
 ],
 "metadata": {
  "kernelspec": {
   "display_name": "Python 3 (ipykernel)",
   "language": "python",
   "name": "python3"
  },
  "language_info": {
   "codemirror_mode": {
    "name": "ipython",
    "version": 3
   },
   "file_extension": ".py",
   "mimetype": "text/x-python",
   "name": "python",
   "nbconvert_exporter": "python",
   "pygments_lexer": "ipython3",
   "version": "3.9.16"
  },
  "vscode": {
   "interpreter": {
    "hash": "46242d4576570c8c82d7fb56e00e670e22fb52831ef677247d21ad598b3c01cb"
   }
  }
 },
 "nbformat": 4,
 "nbformat_minor": 2
}

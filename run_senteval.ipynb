{
 "cells": [
  {
   "cell_type": "code",
   "execution_count": 1,
   "metadata": {},
   "outputs": [],
   "source": [
    "from transformers import BertTokenizer, BertModel, BertForSequenceClassification\n",
    "import senteval\n"
   ]
  },
  {
   "cell_type": "code",
   "execution_count": 2,
   "metadata": {},
   "outputs": [],
   "source": [
    "tokenizer_path = \"bert-base-uncased\"  \n",
    "\n",
    "tokenizer = BertTokenizer.from_pretrained(tokenizer_path, do_lower_case=True)"
   ]
  },
  {
   "cell_type": "code",
   "execution_count": null,
   "metadata": {},
   "outputs": [
    {
     "name": "stderr",
     "output_type": "stream",
     "text": [
      "Some weights of the model checkpoint at bert-base-uncased were not used when initializing BertForSequenceClassification: ['cls.seq_relationship.weight', 'cls.predictions.transform.dense.weight', 'cls.predictions.transform.LayerNorm.bias', 'cls.predictions.transform.LayerNorm.weight', 'cls.predictions.bias', 'cls.predictions.decoder.weight', 'cls.seq_relationship.bias', 'cls.predictions.transform.dense.bias']\n",
      "- This IS expected if you are initializing BertForSequenceClassification from the checkpoint of a model trained on another task or with another architecture (e.g. initializing a BertForSequenceClassification model from a BertForPreTraining model).\n",
      "- This IS NOT expected if you are initializing BertForSequenceClassification from the checkpoint of a model that you expect to be exactly identical (initializing a BertForSequenceClassification model from a BertForSequenceClassification model).\n",
      "Some weights of BertForSequenceClassification were not initialized from the model checkpoint at bert-base-uncased and are newly initialized: ['classifier.bias', 'classifier.weight']\n",
      "You should probably TRAIN this model on a down-stream task to be able to use it for predictions and inference.\n"
     ]
    },
    {
     "name": "stdout",
     "output_type": "stream",
     "text": [
      "{'CR': {'devacc': 86.73, 'acc': 86.65, 'ndev': 3775, 'ntest': 3775}, 'MR': {'devacc': 81.88, 'acc': 81.94, 'ndev': 10662, 'ntest': 10662}, 'MPQA': {'devacc': 87.78, 'acc': 87.96, 'ndev': 10606, 'ntest': 10606}, 'SUBJ': {'devacc': 95.34, 'acc': 95.7, 'ndev': 10000, 'ntest': 10000}, 'SST2': {'devacc': 85.78, 'acc': 86.66, 'ndev': 872, 'ntest': 1821}, 'SST5': {'devacc': 46.05, 'acc': 45.84, 'ndev': 1101, 'ntest': 2210}}\n"
     ]
    },
    {
     "name": "stderr",
     "output_type": "stream",
     "text": [
      "Some weights of the model checkpoint at ./finetuned-scrumbled-wikitext2-3e-4/checkpoint-80 were not used when initializing BertForSequenceClassification: ['cls.predictions.decoder.bias', 'cls.predictions.transform.dense.weight', 'cls.predictions.transform.LayerNorm.bias', 'cls.predictions.transform.LayerNorm.weight', 'cls.predictions.bias', 'cls.predictions.decoder.weight', 'cls.predictions.transform.dense.bias']\n",
      "- This IS expected if you are initializing BertForSequenceClassification from the checkpoint of a model trained on another task or with another architecture (e.g. initializing a BertForSequenceClassification model from a BertForPreTraining model).\n",
      "- This IS NOT expected if you are initializing BertForSequenceClassification from the checkpoint of a model that you expect to be exactly identical (initializing a BertForSequenceClassification model from a BertForSequenceClassification model).\n",
      "Some weights of BertForSequenceClassification were not initialized from the model checkpoint at ./finetuned-scrumbled-wikitext2-3e-4/checkpoint-80 and are newly initialized: ['bert.pooler.dense.weight', 'bert.pooler.dense.bias', 'classifier.weight', 'classifier.bias']\n",
      "You should probably TRAIN this model on a down-stream task to be able to use it for predictions and inference.\n"
     ]
    },
    {
     "name": "stdout",
     "output_type": "stream",
     "text": [
      "{'CR': {'devacc': 84.15, 'acc': 83.79, 'ndev': 3775, 'ntest': 3775}, 'MR': {'devacc': 78.58, 'acc': 78.78, 'ndev': 10662, 'ntest': 10662}, 'MPQA': {'devacc': 87.93, 'acc': 88.27, 'ndev': 10606, 'ntest': 10606}, 'SUBJ': {'devacc': 94.34, 'acc': 94.36, 'ndev': 10000, 'ntest': 10000}, 'SST2': {'devacc': 83.26, 'acc': 84.29, 'ndev': 872, 'ntest': 1821}, 'SST5': {'devacc': 44.69, 'acc': 43.85, 'ndev': 1101, 'ntest': 2210}}\n"
     ]
    },
    {
     "name": "stderr",
     "output_type": "stream",
     "text": [
      "Some weights of the model checkpoint at ./finetuned-scrumbled-wikitext2-3e-4/checkpoint-160 were not used when initializing BertForSequenceClassification: ['cls.predictions.decoder.bias', 'cls.predictions.transform.dense.weight', 'cls.predictions.transform.LayerNorm.bias', 'cls.predictions.transform.LayerNorm.weight', 'cls.predictions.bias', 'cls.predictions.decoder.weight', 'cls.predictions.transform.dense.bias']\n",
      "- This IS expected if you are initializing BertForSequenceClassification from the checkpoint of a model trained on another task or with another architecture (e.g. initializing a BertForSequenceClassification model from a BertForPreTraining model).\n",
      "- This IS NOT expected if you are initializing BertForSequenceClassification from the checkpoint of a model that you expect to be exactly identical (initializing a BertForSequenceClassification model from a BertForSequenceClassification model).\n",
      "Some weights of BertForSequenceClassification were not initialized from the model checkpoint at ./finetuned-scrumbled-wikitext2-3e-4/checkpoint-160 and are newly initialized: ['bert.pooler.dense.weight', 'bert.pooler.dense.bias', 'classifier.weight', 'classifier.bias']\n",
      "You should probably TRAIN this model on a down-stream task to be able to use it for predictions and inference.\n"
     ]
    },
    {
     "name": "stdout",
     "output_type": "stream",
     "text": [
      "{'CR': {'devacc': 84.51, 'acc': 84.5, 'ndev': 3775, 'ntest': 3775}, 'MR': {'devacc': 78.43, 'acc': 78.96, 'ndev': 10662, 'ntest': 10662}, 'MPQA': {'devacc': 86.56, 'acc': 86.63, 'ndev': 10606, 'ntest': 10606}, 'SUBJ': {'devacc': 94.3, 'acc': 94.26, 'ndev': 10000, 'ntest': 10000}, 'SST2': {'devacc': 82.8, 'acc': 83.42, 'ndev': 872, 'ntest': 1821}, 'SST5': {'devacc': 44.32, 'acc': 45.84, 'ndev': 1101, 'ntest': 2210}}\n"
     ]
    },
    {
     "name": "stderr",
     "output_type": "stream",
     "text": [
      "Some weights of the model checkpoint at ./finetuned-scrumbled-wikitext2-3e-4/checkpoint-240 were not used when initializing BertForSequenceClassification: ['cls.predictions.decoder.bias', 'cls.predictions.transform.dense.weight', 'cls.predictions.transform.LayerNorm.bias', 'cls.predictions.transform.LayerNorm.weight', 'cls.predictions.bias', 'cls.predictions.decoder.weight', 'cls.predictions.transform.dense.bias']\n",
      "- This IS expected if you are initializing BertForSequenceClassification from the checkpoint of a model trained on another task or with another architecture (e.g. initializing a BertForSequenceClassification model from a BertForPreTraining model).\n",
      "- This IS NOT expected if you are initializing BertForSequenceClassification from the checkpoint of a model that you expect to be exactly identical (initializing a BertForSequenceClassification model from a BertForSequenceClassification model).\n",
      "Some weights of BertForSequenceClassification were not initialized from the model checkpoint at ./finetuned-scrumbled-wikitext2-3e-4/checkpoint-240 and are newly initialized: ['bert.pooler.dense.weight', 'bert.pooler.dense.bias', 'classifier.weight', 'classifier.bias']\n",
      "You should probably TRAIN this model on a down-stream task to be able to use it for predictions and inference.\n"
     ]
    },
    {
     "name": "stdout",
     "output_type": "stream",
     "text": [
      "{'CR': {'devacc': 81.92, 'acc': 82.2, 'ndev': 3775, 'ntest': 3775}, 'MR': {'devacc': 76.71, 'acc': 77.2, 'ndev': 10662, 'ntest': 10662}, 'MPQA': {'devacc': 85.79, 'acc': 86.01, 'ndev': 10606, 'ntest': 10606}, 'SUBJ': {'devacc': 93.15, 'acc': 93.56, 'ndev': 10000, 'ntest': 10000}, 'SST2': {'devacc': 81.54, 'acc': 80.72, 'ndev': 872, 'ntest': 1821}, 'SST5': {'devacc': 42.78, 'acc': 43.3, 'ndev': 1101, 'ntest': 2210}}\n"
     ]
    },
    {
     "name": "stderr",
     "output_type": "stream",
     "text": [
      "Some weights of the model checkpoint at ./finetuned-scrumbled-wikitext2-3e-4/checkpoint-320 were not used when initializing BertForSequenceClassification: ['cls.predictions.decoder.bias', 'cls.predictions.transform.dense.weight', 'cls.predictions.transform.LayerNorm.bias', 'cls.predictions.transform.LayerNorm.weight', 'cls.predictions.bias', 'cls.predictions.decoder.weight', 'cls.predictions.transform.dense.bias']\n",
      "- This IS expected if you are initializing BertForSequenceClassification from the checkpoint of a model trained on another task or with another architecture (e.g. initializing a BertForSequenceClassification model from a BertForPreTraining model).\n",
      "- This IS NOT expected if you are initializing BertForSequenceClassification from the checkpoint of a model that you expect to be exactly identical (initializing a BertForSequenceClassification model from a BertForSequenceClassification model).\n",
      "Some weights of BertForSequenceClassification were not initialized from the model checkpoint at ./finetuned-scrumbled-wikitext2-3e-4/checkpoint-320 and are newly initialized: ['bert.pooler.dense.weight', 'bert.pooler.dense.bias', 'classifier.weight', 'classifier.bias']\n",
      "You should probably TRAIN this model on a down-stream task to be able to use it for predictions and inference.\n"
     ]
    },
    {
     "name": "stdout",
     "output_type": "stream",
     "text": [
      "{'CR': {'devacc': 82.16, 'acc': 82.12, 'ndev': 3775, 'ntest': 3775}, 'MR': {'devacc': 75.97, 'acc': 76.19, 'ndev': 10662, 'ntest': 10662}, 'MPQA': {'devacc': 85.54, 'acc': 85.76, 'ndev': 10606, 'ntest': 10606}, 'SUBJ': {'devacc': 92.74, 'acc': 92.85, 'ndev': 10000, 'ntest': 10000}, 'SST2': {'devacc': 82.68, 'acc': 81.27, 'ndev': 872, 'ntest': 1821}, 'SST5': {'devacc': 44.5, 'acc': 42.85, 'ndev': 1101, 'ntest': 2210}}\n"
     ]
    },
    {
     "name": "stderr",
     "output_type": "stream",
     "text": [
      "Some weights of the model checkpoint at ./finetuned-scrumbled-wikitext2-3e-4/checkpoint-400 were not used when initializing BertForSequenceClassification: ['cls.predictions.decoder.bias', 'cls.predictions.transform.dense.weight', 'cls.predictions.transform.LayerNorm.bias', 'cls.predictions.transform.LayerNorm.weight', 'cls.predictions.bias', 'cls.predictions.decoder.weight', 'cls.predictions.transform.dense.bias']\n",
      "- This IS expected if you are initializing BertForSequenceClassification from the checkpoint of a model trained on another task or with another architecture (e.g. initializing a BertForSequenceClassification model from a BertForPreTraining model).\n",
      "- This IS NOT expected if you are initializing BertForSequenceClassification from the checkpoint of a model that you expect to be exactly identical (initializing a BertForSequenceClassification model from a BertForSequenceClassification model).\n",
      "Some weights of BertForSequenceClassification were not initialized from the model checkpoint at ./finetuned-scrumbled-wikitext2-3e-4/checkpoint-400 and are newly initialized: ['bert.pooler.dense.weight', 'bert.pooler.dense.bias', 'classifier.weight', 'classifier.bias']\n",
      "You should probably TRAIN this model on a down-stream task to be able to use it for predictions and inference.\n"
     ]
    },
    {
     "name": "stdout",
     "output_type": "stream",
     "text": [
      "{'CR': {'devacc': 80.44, 'acc': 81.06, 'ndev': 3775, 'ntest': 3775}, 'MR': {'devacc': 75.15, 'acc': 75.89, 'ndev': 10662, 'ntest': 10662}, 'MPQA': {'devacc': 85.39, 'acc': 85.27, 'ndev': 10606, 'ntest': 10606}, 'SUBJ': {'devacc': 92.74, 'acc': 92.98, 'ndev': 10000, 'ntest': 10000}, 'SST2': {'devacc': 79.82, 'acc': 79.63, 'ndev': 872, 'ntest': 1821}, 'SST5': {'devacc': 42.6, 'acc': 42.58, 'ndev': 1101, 'ntest': 2210}}\n"
     ]
    },
    {
     "name": "stderr",
     "output_type": "stream",
     "text": [
      "Some weights of the model checkpoint at ./finetuned-scrumbled-wikitext2-3e-4/checkpoint-480 were not used when initializing BertForSequenceClassification: ['cls.predictions.decoder.bias', 'cls.predictions.transform.dense.weight', 'cls.predictions.transform.LayerNorm.bias', 'cls.predictions.transform.LayerNorm.weight', 'cls.predictions.bias', 'cls.predictions.decoder.weight', 'cls.predictions.transform.dense.bias']\n",
      "- This IS expected if you are initializing BertForSequenceClassification from the checkpoint of a model trained on another task or with another architecture (e.g. initializing a BertForSequenceClassification model from a BertForPreTraining model).\n",
      "- This IS NOT expected if you are initializing BertForSequenceClassification from the checkpoint of a model that you expect to be exactly identical (initializing a BertForSequenceClassification model from a BertForSequenceClassification model).\n",
      "Some weights of BertForSequenceClassification were not initialized from the model checkpoint at ./finetuned-scrumbled-wikitext2-3e-4/checkpoint-480 and are newly initialized: ['bert.pooler.dense.weight', 'bert.pooler.dense.bias', 'classifier.weight', 'classifier.bias']\n",
      "You should probably TRAIN this model on a down-stream task to be able to use it for predictions and inference.\n"
     ]
    },
    {
     "name": "stdout",
     "output_type": "stream",
     "text": [
      "{'CR': {'devacc': 80.58, 'acc': 81.14, 'ndev': 3775, 'ntest': 3775}, 'MR': {'devacc': 73.48, 'acc': 73.98, 'ndev': 10662, 'ntest': 10662}, 'MPQA': {'devacc': 85.73, 'acc': 85.9, 'ndev': 10606, 'ntest': 10606}, 'SUBJ': {'devacc': 92.43, 'acc': 92.54, 'ndev': 10000, 'ntest': 10000}, 'SST2': {'devacc': 78.21, 'acc': 78.03, 'ndev': 872, 'ntest': 1821}, 'SST5': {'devacc': 40.24, 'acc': 41.49, 'ndev': 1101, 'ntest': 2210}}\n"
     ]
    },
    {
     "name": "stderr",
     "output_type": "stream",
     "text": [
      "Some weights of the model checkpoint at ./finetuned-scrumbled-wikitext2-3e-4/checkpoint-560 were not used when initializing BertForSequenceClassification: ['cls.predictions.decoder.bias', 'cls.predictions.transform.dense.weight', 'cls.predictions.transform.LayerNorm.bias', 'cls.predictions.transform.LayerNorm.weight', 'cls.predictions.bias', 'cls.predictions.decoder.weight', 'cls.predictions.transform.dense.bias']\n",
      "- This IS expected if you are initializing BertForSequenceClassification from the checkpoint of a model trained on another task or with another architecture (e.g. initializing a BertForSequenceClassification model from a BertForPreTraining model).\n",
      "- This IS NOT expected if you are initializing BertForSequenceClassification from the checkpoint of a model that you expect to be exactly identical (initializing a BertForSequenceClassification model from a BertForSequenceClassification model).\n",
      "Some weights of BertForSequenceClassification were not initialized from the model checkpoint at ./finetuned-scrumbled-wikitext2-3e-4/checkpoint-560 and are newly initialized: ['bert.pooler.dense.weight', 'bert.pooler.dense.bias', 'classifier.weight', 'classifier.bias']\n",
      "You should probably TRAIN this model on a down-stream task to be able to use it for predictions and inference.\n"
     ]
    },
    {
     "name": "stdout",
     "output_type": "stream",
     "text": [
      "{'CR': {'devacc': 78.0, 'acc': 78.83, 'ndev': 3775, 'ntest': 3775}, 'MR': {'devacc': 73.63, 'acc': 73.65, 'ndev': 10662, 'ntest': 10662}, 'MPQA': {'devacc': 83.54, 'acc': 84.29, 'ndev': 10606, 'ntest': 10606}, 'SUBJ': {'devacc': 91.87, 'acc': 92.22, 'ndev': 10000, 'ntest': 10000}, 'SST2': {'devacc': 79.24, 'acc': 77.54, 'ndev': 872, 'ntest': 1821}, 'SST5': {'devacc': 41.6, 'acc': 39.55, 'ndev': 1101, 'ntest': 2210}}\n"
     ]
    },
    {
     "name": "stderr",
     "output_type": "stream",
     "text": [
      "Some weights of the model checkpoint at ./finetuned-scrumbled-wikitext2-3e-4/checkpoint-640 were not used when initializing BertForSequenceClassification: ['cls.predictions.decoder.bias', 'cls.predictions.transform.dense.weight', 'cls.predictions.transform.LayerNorm.bias', 'cls.predictions.transform.LayerNorm.weight', 'cls.predictions.bias', 'cls.predictions.decoder.weight', 'cls.predictions.transform.dense.bias']\n",
      "- This IS expected if you are initializing BertForSequenceClassification from the checkpoint of a model trained on another task or with another architecture (e.g. initializing a BertForSequenceClassification model from a BertForPreTraining model).\n",
      "- This IS NOT expected if you are initializing BertForSequenceClassification from the checkpoint of a model that you expect to be exactly identical (initializing a BertForSequenceClassification model from a BertForSequenceClassification model).\n",
      "Some weights of BertForSequenceClassification were not initialized from the model checkpoint at ./finetuned-scrumbled-wikitext2-3e-4/checkpoint-640 and are newly initialized: ['bert.pooler.dense.weight', 'bert.pooler.dense.bias', 'classifier.weight', 'classifier.bias']\n",
      "You should probably TRAIN this model on a down-stream task to be able to use it for predictions and inference.\n"
     ]
    },
    {
     "name": "stdout",
     "output_type": "stream",
     "text": [
      "{'CR': {'devacc': 79.12, 'acc': 79.73, 'ndev': 3775, 'ntest': 3775}, 'MR': {'devacc': 73.07, 'acc': 73.55, 'ndev': 10662, 'ntest': 10662}, 'MPQA': {'devacc': 85.78, 'acc': 85.79, 'ndev': 10606, 'ntest': 10606}, 'SUBJ': {'devacc': 91.64, 'acc': 91.65, 'ndev': 10000, 'ntest': 10000}, 'SST2': {'devacc': 79.59, 'acc': 79.9, 'ndev': 872, 'ntest': 1821}, 'SST5': {'devacc': 39.69, 'acc': 41.09, 'ndev': 1101, 'ntest': 2210}}\n"
     ]
    },
    {
     "name": "stderr",
     "output_type": "stream",
     "text": [
      "Some weights of the model checkpoint at ./finetuned-scrumbled-wikitext2-3e-4/checkpoint-720 were not used when initializing BertForSequenceClassification: ['cls.predictions.decoder.bias', 'cls.predictions.transform.dense.weight', 'cls.predictions.transform.LayerNorm.bias', 'cls.predictions.transform.LayerNorm.weight', 'cls.predictions.bias', 'cls.predictions.decoder.weight', 'cls.predictions.transform.dense.bias']\n",
      "- This IS expected if you are initializing BertForSequenceClassification from the checkpoint of a model trained on another task or with another architecture (e.g. initializing a BertForSequenceClassification model from a BertForPreTraining model).\n",
      "- This IS NOT expected if you are initializing BertForSequenceClassification from the checkpoint of a model that you expect to be exactly identical (initializing a BertForSequenceClassification model from a BertForSequenceClassification model).\n",
      "Some weights of BertForSequenceClassification were not initialized from the model checkpoint at ./finetuned-scrumbled-wikitext2-3e-4/checkpoint-720 and are newly initialized: ['bert.pooler.dense.weight', 'bert.pooler.dense.bias', 'classifier.weight', 'classifier.bias']\n",
      "You should probably TRAIN this model on a down-stream task to be able to use it for predictions and inference.\n"
     ]
    },
    {
     "name": "stdout",
     "output_type": "stream",
     "text": [
      "{'CR': {'devacc': 80.34, 'acc': 80.21, 'ndev': 3775, 'ntest': 3775}, 'MR': {'devacc': 73.95, 'acc': 74.46, 'ndev': 10662, 'ntest': 10662}, 'MPQA': {'devacc': 86.33, 'acc': 86.97, 'ndev': 10606, 'ntest': 10606}, 'SUBJ': {'devacc': 92.41, 'acc': 92.72, 'ndev': 10000, 'ntest': 10000}, 'SST2': {'devacc': 78.1, 'acc': 78.36, 'ndev': 872, 'ntest': 1821}, 'SST5': {'devacc': 41.78, 'acc': 40.95, 'ndev': 1101, 'ntest': 2210}}\n"
     ]
    },
    {
     "name": "stderr",
     "output_type": "stream",
     "text": [
      "Some weights of the model checkpoint at ./finetuned-scrumbled-wikitext2-3e-4/checkpoint-800 were not used when initializing BertForSequenceClassification: ['cls.predictions.decoder.bias', 'cls.predictions.transform.dense.weight', 'cls.predictions.transform.LayerNorm.bias', 'cls.predictions.transform.LayerNorm.weight', 'cls.predictions.bias', 'cls.predictions.decoder.weight', 'cls.predictions.transform.dense.bias']\n",
      "- This IS expected if you are initializing BertForSequenceClassification from the checkpoint of a model trained on another task or with another architecture (e.g. initializing a BertForSequenceClassification model from a BertForPreTraining model).\n",
      "- This IS NOT expected if you are initializing BertForSequenceClassification from the checkpoint of a model that you expect to be exactly identical (initializing a BertForSequenceClassification model from a BertForSequenceClassification model).\n",
      "Some weights of BertForSequenceClassification were not initialized from the model checkpoint at ./finetuned-scrumbled-wikitext2-3e-4/checkpoint-800 and are newly initialized: ['bert.pooler.dense.weight', 'bert.pooler.dense.bias', 'classifier.weight', 'classifier.bias']\n",
      "You should probably TRAIN this model on a down-stream task to be able to use it for predictions and inference.\n"
     ]
    },
    {
     "name": "stdout",
     "output_type": "stream",
     "text": [
      "{'CR': {'devacc': 80.49, 'acc': 79.81, 'ndev': 3775, 'ntest': 3775}, 'MR': {'devacc': 73.55, 'acc': 73.74, 'ndev': 10662, 'ntest': 10662}, 'MPQA': {'devacc': 86.25, 'acc': 86.71, 'ndev': 10606, 'ntest': 10606}, 'SUBJ': {'devacc': 92.29, 'acc': 92.59, 'ndev': 10000, 'ntest': 10000}, 'SST2': {'devacc': 79.47, 'acc': 78.69, 'ndev': 872, 'ntest': 1821}, 'SST5': {'devacc': 42.23, 'acc': 40.18, 'ndev': 1101, 'ntest': 2210}}\n"
     ]
    },
    {
     "name": "stderr",
     "output_type": "stream",
     "text": [
      "Some weights of the model checkpoint at ./finetuned-scrumbled-wikitext2-3e-4/checkpoint-880 were not used when initializing BertForSequenceClassification: ['cls.predictions.decoder.bias', 'cls.predictions.transform.dense.weight', 'cls.predictions.transform.LayerNorm.bias', 'cls.predictions.transform.LayerNorm.weight', 'cls.predictions.bias', 'cls.predictions.decoder.weight', 'cls.predictions.transform.dense.bias']\n",
      "- This IS expected if you are initializing BertForSequenceClassification from the checkpoint of a model trained on another task or with another architecture (e.g. initializing a BertForSequenceClassification model from a BertForPreTraining model).\n",
      "- This IS NOT expected if you are initializing BertForSequenceClassification from the checkpoint of a model that you expect to be exactly identical (initializing a BertForSequenceClassification model from a BertForSequenceClassification model).\n",
      "Some weights of BertForSequenceClassification were not initialized from the model checkpoint at ./finetuned-scrumbled-wikitext2-3e-4/checkpoint-880 and are newly initialized: ['bert.pooler.dense.weight', 'bert.pooler.dense.bias', 'classifier.weight', 'classifier.bias']\n",
      "You should probably TRAIN this model on a down-stream task to be able to use it for predictions and inference.\n"
     ]
    },
    {
     "name": "stdout",
     "output_type": "stream",
     "text": [
      "{'CR': {'devacc': 79.03, 'acc': 79.6, 'ndev': 3775, 'ntest': 3775}, 'MR': {'devacc': 72.62, 'acc': 73.49, 'ndev': 10662, 'ntest': 10662}, 'MPQA': {'devacc': 85.49, 'acc': 85.97, 'ndev': 10606, 'ntest': 10606}, 'SUBJ': {'devacc': 91.29, 'acc': 91.75, 'ndev': 10000, 'ntest': 10000}, 'SST2': {'devacc': 79.01, 'acc': 76.5, 'ndev': 872, 'ntest': 1821}, 'SST5': {'devacc': 41.78, 'acc': 39.37, 'ndev': 1101, 'ntest': 2210}}\n"
     ]
    },
    {
     "name": "stderr",
     "output_type": "stream",
     "text": [
      "Some weights of the model checkpoint at ./finetuned-scrumbled-wikitext2-3e-4/checkpoint-960 were not used when initializing BertForSequenceClassification: ['cls.predictions.decoder.bias', 'cls.predictions.transform.dense.weight', 'cls.predictions.transform.LayerNorm.bias', 'cls.predictions.transform.LayerNorm.weight', 'cls.predictions.bias', 'cls.predictions.decoder.weight', 'cls.predictions.transform.dense.bias']\n",
      "- This IS expected if you are initializing BertForSequenceClassification from the checkpoint of a model trained on another task or with another architecture (e.g. initializing a BertForSequenceClassification model from a BertForPreTraining model).\n",
      "- This IS NOT expected if you are initializing BertForSequenceClassification from the checkpoint of a model that you expect to be exactly identical (initializing a BertForSequenceClassification model from a BertForSequenceClassification model).\n",
      "Some weights of BertForSequenceClassification were not initialized from the model checkpoint at ./finetuned-scrumbled-wikitext2-3e-4/checkpoint-960 and are newly initialized: ['bert.pooler.dense.weight', 'bert.pooler.dense.bias', 'classifier.weight', 'classifier.bias']\n",
      "You should probably TRAIN this model on a down-stream task to be able to use it for predictions and inference.\n"
     ]
    },
    {
     "name": "stdout",
     "output_type": "stream",
     "text": [
      "{'CR': {'devacc': 78.4, 'acc': 79.71, 'ndev': 3775, 'ntest': 3775}, 'MR': {'devacc': 72.37, 'acc': 72.77, 'ndev': 10662, 'ntest': 10662}, 'MPQA': {'devacc': 84.84, 'acc': 85.24, 'ndev': 10606, 'ntest': 10606}, 'SUBJ': {'devacc': 91.84, 'acc': 91.83, 'ndev': 10000, 'ntest': 10000}, 'SST2': {'devacc': 76.95, 'acc': 77.32, 'ndev': 872, 'ntest': 1821}, 'SST5': {'devacc': 41.33, 'acc': 40.27, 'ndev': 1101, 'ntest': 2210}}\n"
     ]
    },
    {
     "name": "stderr",
     "output_type": "stream",
     "text": [
      "Some weights of the model checkpoint at ./finetuned-scrumbled-wikitext2-3e-4/checkpoint-1040 were not used when initializing BertForSequenceClassification: ['cls.predictions.decoder.bias', 'cls.predictions.transform.dense.weight', 'cls.predictions.transform.LayerNorm.bias', 'cls.predictions.transform.LayerNorm.weight', 'cls.predictions.bias', 'cls.predictions.decoder.weight', 'cls.predictions.transform.dense.bias']\n",
      "- This IS expected if you are initializing BertForSequenceClassification from the checkpoint of a model trained on another task or with another architecture (e.g. initializing a BertForSequenceClassification model from a BertForPreTraining model).\n",
      "- This IS NOT expected if you are initializing BertForSequenceClassification from the checkpoint of a model that you expect to be exactly identical (initializing a BertForSequenceClassification model from a BertForSequenceClassification model).\n",
      "Some weights of BertForSequenceClassification were not initialized from the model checkpoint at ./finetuned-scrumbled-wikitext2-3e-4/checkpoint-1040 and are newly initialized: ['bert.pooler.dense.weight', 'bert.pooler.dense.bias', 'classifier.weight', 'classifier.bias']\n",
      "You should probably TRAIN this model on a down-stream task to be able to use it for predictions and inference.\n"
     ]
    },
    {
     "name": "stdout",
     "output_type": "stream",
     "text": [
      "{'CR': {'devacc': 78.91, 'acc': 79.02, 'ndev': 3775, 'ntest': 3775}, 'MR': {'devacc': 72.62, 'acc': 72.95, 'ndev': 10662, 'ntest': 10662}, 'MPQA': {'devacc': 85.27, 'acc': 85.83, 'ndev': 10606, 'ntest': 10606}, 'SUBJ': {'devacc': 91.42, 'acc': 91.74, 'ndev': 10000, 'ntest': 10000}, 'SST2': {'devacc': 76.38, 'acc': 76.61, 'ndev': 872, 'ntest': 1821}, 'SST5': {'devacc': 41.14, 'acc': 39.32, 'ndev': 1101, 'ntest': 2210}}\n"
     ]
    },
    {
     "name": "stderr",
     "output_type": "stream",
     "text": [
      "Some weights of the model checkpoint at ./finetuned-scrumbled-wikitext2-3e-4/checkpoint-1120 were not used when initializing BertForSequenceClassification: ['cls.predictions.decoder.bias', 'cls.predictions.transform.dense.weight', 'cls.predictions.transform.LayerNorm.bias', 'cls.predictions.transform.LayerNorm.weight', 'cls.predictions.bias', 'cls.predictions.decoder.weight', 'cls.predictions.transform.dense.bias']\n",
      "- This IS expected if you are initializing BertForSequenceClassification from the checkpoint of a model trained on another task or with another architecture (e.g. initializing a BertForSequenceClassification model from a BertForPreTraining model).\n",
      "- This IS NOT expected if you are initializing BertForSequenceClassification from the checkpoint of a model that you expect to be exactly identical (initializing a BertForSequenceClassification model from a BertForSequenceClassification model).\n",
      "Some weights of BertForSequenceClassification were not initialized from the model checkpoint at ./finetuned-scrumbled-wikitext2-3e-4/checkpoint-1120 and are newly initialized: ['bert.pooler.dense.weight', 'bert.pooler.dense.bias', 'classifier.weight', 'classifier.bias']\n",
      "You should probably TRAIN this model on a down-stream task to be able to use it for predictions and inference.\n"
     ]
    },
    {
     "name": "stdout",
     "output_type": "stream",
     "text": [
      "{'CR': {'devacc': 77.67, 'acc': 78.2, 'ndev': 3775, 'ntest': 3775}, 'MR': {'devacc': 72.4, 'acc': 72.41, 'ndev': 10662, 'ntest': 10662}, 'MPQA': {'devacc': 85.41, 'acc': 85.68, 'ndev': 10606, 'ntest': 10606}, 'SUBJ': {'devacc': 91.67, 'acc': 92.0, 'ndev': 10000, 'ntest': 10000}, 'SST2': {'devacc': 76.72, 'acc': 76.5, 'ndev': 872, 'ntest': 1821}, 'SST5': {'devacc': 38.87, 'acc': 38.1, 'ndev': 1101, 'ntest': 2210}}\n"
     ]
    },
    {
     "name": "stderr",
     "output_type": "stream",
     "text": [
      "Some weights of the model checkpoint at ./finetuned-scrumbled-wikitext2-3e-4/checkpoint-1200 were not used when initializing BertForSequenceClassification: ['cls.predictions.decoder.bias', 'cls.predictions.transform.dense.weight', 'cls.predictions.transform.LayerNorm.bias', 'cls.predictions.transform.LayerNorm.weight', 'cls.predictions.bias', 'cls.predictions.decoder.weight', 'cls.predictions.transform.dense.bias']\n",
      "- This IS expected if you are initializing BertForSequenceClassification from the checkpoint of a model trained on another task or with another architecture (e.g. initializing a BertForSequenceClassification model from a BertForPreTraining model).\n",
      "- This IS NOT expected if you are initializing BertForSequenceClassification from the checkpoint of a model that you expect to be exactly identical (initializing a BertForSequenceClassification model from a BertForSequenceClassification model).\n",
      "Some weights of BertForSequenceClassification were not initialized from the model checkpoint at ./finetuned-scrumbled-wikitext2-3e-4/checkpoint-1200 and are newly initialized: ['bert.pooler.dense.weight', 'bert.pooler.dense.bias', 'classifier.weight', 'classifier.bias']\n",
      "You should probably TRAIN this model on a down-stream task to be able to use it for predictions and inference.\n"
     ]
    },
    {
     "name": "stdout",
     "output_type": "stream",
     "text": [
      "{'CR': {'devacc': 76.96, 'acc': 78.25, 'ndev': 3775, 'ntest': 3775}, 'MR': {'devacc': 72.34, 'acc': 72.44, 'ndev': 10662, 'ntest': 10662}, 'MPQA': {'devacc': 83.21, 'acc': 83.59, 'ndev': 10606, 'ntest': 10606}, 'SUBJ': {'devacc': 91.12, 'acc': 91.6, 'ndev': 10000, 'ntest': 10000}, 'SST2': {'devacc': 77.06, 'acc': 78.14, 'ndev': 872, 'ntest': 1821}, 'SST5': {'devacc': 38.69, 'acc': 39.73, 'ndev': 1101, 'ntest': 2210}}\n"
     ]
    },
    {
     "name": "stderr",
     "output_type": "stream",
     "text": [
      "Some weights of the model checkpoint at ./finetuned-scrumbled-wikitext2-3e-4/checkpoint-1280 were not used when initializing BertForSequenceClassification: ['cls.predictions.decoder.bias', 'cls.predictions.transform.dense.weight', 'cls.predictions.transform.LayerNorm.bias', 'cls.predictions.transform.LayerNorm.weight', 'cls.predictions.bias', 'cls.predictions.decoder.weight', 'cls.predictions.transform.dense.bias']\n",
      "- This IS expected if you are initializing BertForSequenceClassification from the checkpoint of a model trained on another task or with another architecture (e.g. initializing a BertForSequenceClassification model from a BertForPreTraining model).\n",
      "- This IS NOT expected if you are initializing BertForSequenceClassification from the checkpoint of a model that you expect to be exactly identical (initializing a BertForSequenceClassification model from a BertForSequenceClassification model).\n",
      "Some weights of BertForSequenceClassification were not initialized from the model checkpoint at ./finetuned-scrumbled-wikitext2-3e-4/checkpoint-1280 and are newly initialized: ['bert.pooler.dense.weight', 'bert.pooler.dense.bias', 'classifier.weight', 'classifier.bias']\n",
      "You should probably TRAIN this model on a down-stream task to be able to use it for predictions and inference.\n"
     ]
    },
    {
     "name": "stdout",
     "output_type": "stream",
     "text": [
      "{'CR': {'devacc': 78.16, 'acc': 78.7, 'ndev': 3775, 'ntest': 3775}, 'MR': {'devacc': 72.01, 'acc': 72.18, 'ndev': 10662, 'ntest': 10662}, 'MPQA': {'devacc': 83.9, 'acc': 84.49, 'ndev': 10606, 'ntest': 10606}, 'SUBJ': {'devacc': 91.7, 'acc': 91.85, 'ndev': 10000, 'ntest': 10000}, 'SST2': {'devacc': 76.95, 'acc': 75.95, 'ndev': 872, 'ntest': 1821}, 'SST5': {'devacc': 39.87, 'acc': 38.28, 'ndev': 1101, 'ntest': 2210}}\n"
     ]
    },
    {
     "name": "stderr",
     "output_type": "stream",
     "text": [
      "Some weights of the model checkpoint at ./finetuned-scrumbled-wikitext2-3e-4/checkpoint-1360 were not used when initializing BertForSequenceClassification: ['cls.predictions.decoder.bias', 'cls.predictions.transform.dense.weight', 'cls.predictions.transform.LayerNorm.bias', 'cls.predictions.transform.LayerNorm.weight', 'cls.predictions.bias', 'cls.predictions.decoder.weight', 'cls.predictions.transform.dense.bias']\n",
      "- This IS expected if you are initializing BertForSequenceClassification from the checkpoint of a model trained on another task or with another architecture (e.g. initializing a BertForSequenceClassification model from a BertForPreTraining model).\n",
      "- This IS NOT expected if you are initializing BertForSequenceClassification from the checkpoint of a model that you expect to be exactly identical (initializing a BertForSequenceClassification model from a BertForSequenceClassification model).\n",
      "Some weights of BertForSequenceClassification were not initialized from the model checkpoint at ./finetuned-scrumbled-wikitext2-3e-4/checkpoint-1360 and are newly initialized: ['bert.pooler.dense.weight', 'bert.pooler.dense.bias', 'classifier.weight', 'classifier.bias']\n",
      "You should probably TRAIN this model on a down-stream task to be able to use it for predictions and inference.\n"
     ]
    },
    {
     "name": "stdout",
     "output_type": "stream",
     "text": [
      "{'CR': {'devacc': 77.51, 'acc': 77.83, 'ndev': 3775, 'ntest': 3775}, 'MR': {'devacc': 72.4, 'acc': 72.69, 'ndev': 10662, 'ntest': 10662}, 'MPQA': {'devacc': 85.37, 'acc': 85.66, 'ndev': 10606, 'ntest': 10606}, 'SUBJ': {'devacc': 91.47, 'acc': 91.54, 'ndev': 10000, 'ntest': 10000}, 'SST2': {'devacc': 77.98, 'acc': 77.32, 'ndev': 872, 'ntest': 1821}, 'SST5': {'devacc': 39.51, 'acc': 40.0, 'ndev': 1101, 'ntest': 2210}}\n"
     ]
    },
    {
     "name": "stderr",
     "output_type": "stream",
     "text": [
      "Some weights of the model checkpoint at ./finetuned-scrumbled-wikitext2-3e-4/checkpoint-1440 were not used when initializing BertForSequenceClassification: ['cls.predictions.decoder.bias', 'cls.predictions.transform.dense.weight', 'cls.predictions.transform.LayerNorm.bias', 'cls.predictions.transform.LayerNorm.weight', 'cls.predictions.bias', 'cls.predictions.decoder.weight', 'cls.predictions.transform.dense.bias']\n",
      "- This IS expected if you are initializing BertForSequenceClassification from the checkpoint of a model trained on another task or with another architecture (e.g. initializing a BertForSequenceClassification model from a BertForPreTraining model).\n",
      "- This IS NOT expected if you are initializing BertForSequenceClassification from the checkpoint of a model that you expect to be exactly identical (initializing a BertForSequenceClassification model from a BertForSequenceClassification model).\n",
      "Some weights of BertForSequenceClassification were not initialized from the model checkpoint at ./finetuned-scrumbled-wikitext2-3e-4/checkpoint-1440 and are newly initialized: ['bert.pooler.dense.weight', 'bert.pooler.dense.bias', 'classifier.weight', 'classifier.bias']\n",
      "You should probably TRAIN this model on a down-stream task to be able to use it for predictions and inference.\n"
     ]
    },
    {
     "name": "stdout",
     "output_type": "stream",
     "text": [
      "{'CR': {'devacc': 77.3, 'acc': 77.8, 'ndev': 3775, 'ntest': 3775}, 'MR': {'devacc': 72.03, 'acc': 72.25, 'ndev': 10662, 'ntest': 10662}, 'MPQA': {'devacc': 84.97, 'acc': 85.28, 'ndev': 10606, 'ntest': 10606}, 'SUBJ': {'devacc': 90.99, 'acc': 91.45, 'ndev': 10000, 'ntest': 10000}, 'SST2': {'devacc': 77.41, 'acc': 77.48, 'ndev': 872, 'ntest': 1821}, 'SST5': {'devacc': 40.78, 'acc': 40.05, 'ndev': 1101, 'ntest': 2210}}\n"
     ]
    },
    {
     "name": "stderr",
     "output_type": "stream",
     "text": [
      "Some weights of the model checkpoint at ./finetuned-scrumbled-wikitext2-3e-4/checkpoint-1520 were not used when initializing BertForSequenceClassification: ['cls.predictions.decoder.bias', 'cls.predictions.transform.dense.weight', 'cls.predictions.transform.LayerNorm.bias', 'cls.predictions.transform.LayerNorm.weight', 'cls.predictions.bias', 'cls.predictions.decoder.weight', 'cls.predictions.transform.dense.bias']\n",
      "- This IS expected if you are initializing BertForSequenceClassification from the checkpoint of a model trained on another task or with another architecture (e.g. initializing a BertForSequenceClassification model from a BertForPreTraining model).\n",
      "- This IS NOT expected if you are initializing BertForSequenceClassification from the checkpoint of a model that you expect to be exactly identical (initializing a BertForSequenceClassification model from a BertForSequenceClassification model).\n",
      "Some weights of BertForSequenceClassification were not initialized from the model checkpoint at ./finetuned-scrumbled-wikitext2-3e-4/checkpoint-1520 and are newly initialized: ['bert.pooler.dense.weight', 'bert.pooler.dense.bias', 'classifier.weight', 'classifier.bias']\n",
      "You should probably TRAIN this model on a down-stream task to be able to use it for predictions and inference.\n"
     ]
    },
    {
     "name": "stdout",
     "output_type": "stream",
     "text": [
      "{'CR': {'devacc': 77.34, 'acc': 78.73, 'ndev': 3775, 'ntest': 3775}, 'MR': {'devacc': 71.88, 'acc': 71.95, 'ndev': 10662, 'ntest': 10662}, 'MPQA': {'devacc': 84.91, 'acc': 85.53, 'ndev': 10606, 'ntest': 10606}, 'SUBJ': {'devacc': 90.98, 'acc': 91.51, 'ndev': 10000, 'ntest': 10000}, 'SST2': {'devacc': 76.95, 'acc': 76.94, 'ndev': 872, 'ntest': 1821}, 'SST5': {'devacc': 39.06, 'acc': 38.91, 'ndev': 1101, 'ntest': 2210}}\n"
     ]
    },
    {
     "name": "stderr",
     "output_type": "stream",
     "text": [
      "Some weights of the model checkpoint at ./finetuned-scrumbled-wikitext2-3e-4/checkpoint-1600 were not used when initializing BertForSequenceClassification: ['cls.predictions.decoder.bias', 'cls.predictions.transform.dense.weight', 'cls.predictions.transform.LayerNorm.bias', 'cls.predictions.transform.LayerNorm.weight', 'cls.predictions.bias', 'cls.predictions.decoder.weight', 'cls.predictions.transform.dense.bias']\n",
      "- This IS expected if you are initializing BertForSequenceClassification from the checkpoint of a model trained on another task or with another architecture (e.g. initializing a BertForSequenceClassification model from a BertForPreTraining model).\n",
      "- This IS NOT expected if you are initializing BertForSequenceClassification from the checkpoint of a model that you expect to be exactly identical (initializing a BertForSequenceClassification model from a BertForSequenceClassification model).\n",
      "Some weights of BertForSequenceClassification were not initialized from the model checkpoint at ./finetuned-scrumbled-wikitext2-3e-4/checkpoint-1600 and are newly initialized: ['bert.pooler.dense.weight', 'bert.pooler.dense.bias', 'classifier.weight', 'classifier.bias']\n",
      "You should probably TRAIN this model on a down-stream task to be able to use it for predictions and inference.\n"
     ]
    },
    {
     "name": "stdout",
     "output_type": "stream",
     "text": [
      "{'CR': {'devacc': 77.88, 'acc': 78.33, 'ndev': 3775, 'ntest': 3775}, 'MR': {'devacc': 71.9, 'acc': 73.15, 'ndev': 10662, 'ntest': 10662}, 'MPQA': {'devacc': 84.99, 'acc': 85.23, 'ndev': 10606, 'ntest': 10606}, 'SUBJ': {'devacc': 90.81, 'acc': 91.14, 'ndev': 10000, 'ntest': 10000}, 'SST2': {'devacc': 76.26, 'acc': 76.55, 'ndev': 872, 'ntest': 1821}, 'SST5': {'devacc': 40.51, 'acc': 39.1, 'ndev': 1101, 'ntest': 2210}}\n"
     ]
    },
    {
     "name": "stderr",
     "output_type": "stream",
     "text": [
      "Some weights of the model checkpoint at ./finetuned-scrumbled-wikitext2-3e-4/checkpoint-1680 were not used when initializing BertForSequenceClassification: ['cls.predictions.decoder.bias', 'cls.predictions.transform.dense.weight', 'cls.predictions.transform.LayerNorm.bias', 'cls.predictions.transform.LayerNorm.weight', 'cls.predictions.bias', 'cls.predictions.decoder.weight', 'cls.predictions.transform.dense.bias']\n",
      "- This IS expected if you are initializing BertForSequenceClassification from the checkpoint of a model trained on another task or with another architecture (e.g. initializing a BertForSequenceClassification model from a BertForPreTraining model).\n",
      "- This IS NOT expected if you are initializing BertForSequenceClassification from the checkpoint of a model that you expect to be exactly identical (initializing a BertForSequenceClassification model from a BertForSequenceClassification model).\n",
      "Some weights of BertForSequenceClassification were not initialized from the model checkpoint at ./finetuned-scrumbled-wikitext2-3e-4/checkpoint-1680 and are newly initialized: ['bert.pooler.dense.weight', 'bert.pooler.dense.bias', 'classifier.weight', 'classifier.bias']\n",
      "You should probably TRAIN this model on a down-stream task to be able to use it for predictions and inference.\n"
     ]
    },
    {
     "name": "stdout",
     "output_type": "stream",
     "text": [
      "{'CR': {'devacc': 77.15, 'acc': 78.01, 'ndev': 3775, 'ntest': 3775}, 'MR': {'devacc': 71.3, 'acc': 71.6, 'ndev': 10662, 'ntest': 10662}, 'MPQA': {'devacc': 84.54, 'acc': 85.24, 'ndev': 10606, 'ntest': 10606}, 'SUBJ': {'devacc': 90.19, 'acc': 90.63, 'ndev': 10000, 'ntest': 10000}, 'SST2': {'devacc': 78.1, 'acc': 77.65, 'ndev': 872, 'ntest': 1821}, 'SST5': {'devacc': 41.24, 'acc': 39.19, 'ndev': 1101, 'ntest': 2210}}\n"
     ]
    },
    {
     "name": "stderr",
     "output_type": "stream",
     "text": [
      "Some weights of the model checkpoint at ./finetuned-scrumbled-wikitext2-3e-4/checkpoint-1760 were not used when initializing BertForSequenceClassification: ['cls.predictions.decoder.bias', 'cls.predictions.transform.dense.weight', 'cls.predictions.transform.LayerNorm.bias', 'cls.predictions.transform.LayerNorm.weight', 'cls.predictions.bias', 'cls.predictions.decoder.weight', 'cls.predictions.transform.dense.bias']\n",
      "- This IS expected if you are initializing BertForSequenceClassification from the checkpoint of a model trained on another task or with another architecture (e.g. initializing a BertForSequenceClassification model from a BertForPreTraining model).\n",
      "- This IS NOT expected if you are initializing BertForSequenceClassification from the checkpoint of a model that you expect to be exactly identical (initializing a BertForSequenceClassification model from a BertForSequenceClassification model).\n",
      "Some weights of BertForSequenceClassification were not initialized from the model checkpoint at ./finetuned-scrumbled-wikitext2-3e-4/checkpoint-1760 and are newly initialized: ['bert.pooler.dense.weight', 'bert.pooler.dense.bias', 'classifier.weight', 'classifier.bias']\n",
      "You should probably TRAIN this model on a down-stream task to be able to use it for predictions and inference.\n"
     ]
    },
    {
     "name": "stdout",
     "output_type": "stream",
     "text": [
      "{'CR': {'devacc': 76.93, 'acc': 77.22, 'ndev': 3775, 'ntest': 3775}, 'MR': {'devacc': 70.61, 'acc': 71.0, 'ndev': 10662, 'ntest': 10662}, 'MPQA': {'devacc': 83.88, 'acc': 84.56, 'ndev': 10606, 'ntest': 10606}, 'SUBJ': {'devacc': 90.22, 'acc': 90.71, 'ndev': 10000, 'ntest': 10000}, 'SST2': {'devacc': 76.15, 'acc': 75.23, 'ndev': 872, 'ntest': 1821}, 'SST5': {'devacc': 39.24, 'acc': 38.14, 'ndev': 1101, 'ntest': 2210}}\n"
     ]
    },
    {
     "name": "stderr",
     "output_type": "stream",
     "text": [
      "Some weights of the model checkpoint at ./finetuned-scrumbled-wikitext2-3e-4/checkpoint-1840 were not used when initializing BertForSequenceClassification: ['cls.predictions.decoder.bias', 'cls.predictions.transform.dense.weight', 'cls.predictions.transform.LayerNorm.bias', 'cls.predictions.transform.LayerNorm.weight', 'cls.predictions.bias', 'cls.predictions.decoder.weight', 'cls.predictions.transform.dense.bias']\n",
      "- This IS expected if you are initializing BertForSequenceClassification from the checkpoint of a model trained on another task or with another architecture (e.g. initializing a BertForSequenceClassification model from a BertForPreTraining model).\n",
      "- This IS NOT expected if you are initializing BertForSequenceClassification from the checkpoint of a model that you expect to be exactly identical (initializing a BertForSequenceClassification model from a BertForSequenceClassification model).\n",
      "Some weights of BertForSequenceClassification were not initialized from the model checkpoint at ./finetuned-scrumbled-wikitext2-3e-4/checkpoint-1840 and are newly initialized: ['bert.pooler.dense.weight', 'bert.pooler.dense.bias', 'classifier.weight', 'classifier.bias']\n",
      "You should probably TRAIN this model on a down-stream task to be able to use it for predictions and inference.\n"
     ]
    },
    {
     "name": "stdout",
     "output_type": "stream",
     "text": [
      "{'CR': {'devacc': 76.77, 'acc': 77.8, 'ndev': 3775, 'ntest': 3775}, 'MR': {'devacc': 70.98, 'acc': 71.38, 'ndev': 10662, 'ntest': 10662}, 'MPQA': {'devacc': 84.39, 'acc': 84.9, 'ndev': 10606, 'ntest': 10606}, 'SUBJ': {'devacc': 90.39, 'acc': 90.46, 'ndev': 10000, 'ntest': 10000}, 'SST2': {'devacc': 75.46, 'acc': 74.63, 'ndev': 872, 'ntest': 1821}, 'SST5': {'devacc': 39.24, 'acc': 39.14, 'ndev': 1101, 'ntest': 2210}}\n"
     ]
    },
    {
     "name": "stderr",
     "output_type": "stream",
     "text": [
      "Some weights of the model checkpoint at ./finetuned-scrumbled-wikitext2-3e-4/checkpoint-1920 were not used when initializing BertForSequenceClassification: ['cls.predictions.decoder.bias', 'cls.predictions.transform.dense.weight', 'cls.predictions.transform.LayerNorm.bias', 'cls.predictions.transform.LayerNorm.weight', 'cls.predictions.bias', 'cls.predictions.decoder.weight', 'cls.predictions.transform.dense.bias']\n",
      "- This IS expected if you are initializing BertForSequenceClassification from the checkpoint of a model trained on another task or with another architecture (e.g. initializing a BertForSequenceClassification model from a BertForPreTraining model).\n",
      "- This IS NOT expected if you are initializing BertForSequenceClassification from the checkpoint of a model that you expect to be exactly identical (initializing a BertForSequenceClassification model from a BertForSequenceClassification model).\n",
      "Some weights of BertForSequenceClassification were not initialized from the model checkpoint at ./finetuned-scrumbled-wikitext2-3e-4/checkpoint-1920 and are newly initialized: ['bert.pooler.dense.weight', 'bert.pooler.dense.bias', 'classifier.weight', 'classifier.bias']\n",
      "You should probably TRAIN this model on a down-stream task to be able to use it for predictions and inference.\n"
     ]
    },
    {
     "name": "stdout",
     "output_type": "stream",
     "text": [
      "{'CR': {'devacc': 75.58, 'acc': 76.56, 'ndev': 3775, 'ntest': 3775}, 'MR': {'devacc': 69.95, 'acc': 70.31, 'ndev': 10662, 'ntest': 10662}, 'MPQA': {'devacc': 84.19, 'acc': 84.6, 'ndev': 10606, 'ntest': 10606}, 'SUBJ': {'devacc': 90.28, 'acc': 90.43, 'ndev': 10000, 'ntest': 10000}, 'SST2': {'devacc': 75.11, 'acc': 73.7, 'ndev': 872, 'ntest': 1821}, 'SST5': {'devacc': 37.24, 'acc': 34.66, 'ndev': 1101, 'ntest': 2210}}\n"
     ]
    },
    {
     "name": "stderr",
     "output_type": "stream",
     "text": [
      "Some weights of the model checkpoint at ./finetuned-scrumbled-wikitext2-3e-4/checkpoint-2000 were not used when initializing BertForSequenceClassification: ['cls.predictions.decoder.bias', 'cls.predictions.transform.dense.weight', 'cls.predictions.transform.LayerNorm.bias', 'cls.predictions.transform.LayerNorm.weight', 'cls.predictions.bias', 'cls.predictions.decoder.weight', 'cls.predictions.transform.dense.bias']\n",
      "- This IS expected if you are initializing BertForSequenceClassification from the checkpoint of a model trained on another task or with another architecture (e.g. initializing a BertForSequenceClassification model from a BertForPreTraining model).\n",
      "- This IS NOT expected if you are initializing BertForSequenceClassification from the checkpoint of a model that you expect to be exactly identical (initializing a BertForSequenceClassification model from a BertForSequenceClassification model).\n",
      "Some weights of BertForSequenceClassification were not initialized from the model checkpoint at ./finetuned-scrumbled-wikitext2-3e-4/checkpoint-2000 and are newly initialized: ['bert.pooler.dense.weight', 'bert.pooler.dense.bias', 'classifier.weight', 'classifier.bias']\n",
      "You should probably TRAIN this model on a down-stream task to be able to use it for predictions and inference.\n"
     ]
    },
    {
     "name": "stdout",
     "output_type": "stream",
     "text": [
      "{'CR': {'devacc': 75.69, 'acc': 77.09, 'ndev': 3775, 'ntest': 3775}, 'MR': {'devacc': 70.66, 'acc': 70.72, 'ndev': 10662, 'ntest': 10662}, 'MPQA': {'devacc': 85.07, 'acc': 85.31, 'ndev': 10606, 'ntest': 10606}, 'SUBJ': {'devacc': 90.09, 'acc': 90.71, 'ndev': 10000, 'ntest': 10000}, 'SST2': {'devacc': 74.43, 'acc': 74.46, 'ndev': 872, 'ntest': 1821}, 'SST5': {'devacc': 37.97, 'acc': 38.73, 'ndev': 1101, 'ntest': 2210}}\n"
     ]
    },
    {
     "name": "stderr",
     "output_type": "stream",
     "text": [
      "Some weights of the model checkpoint at ./finetuned-scrumbled-wikitext2-3e-4/checkpoint-2080 were not used when initializing BertForSequenceClassification: ['cls.predictions.decoder.bias', 'cls.predictions.transform.dense.weight', 'cls.predictions.transform.LayerNorm.bias', 'cls.predictions.transform.LayerNorm.weight', 'cls.predictions.bias', 'cls.predictions.decoder.weight', 'cls.predictions.transform.dense.bias']\n",
      "- This IS expected if you are initializing BertForSequenceClassification from the checkpoint of a model trained on another task or with another architecture (e.g. initializing a BertForSequenceClassification model from a BertForPreTraining model).\n",
      "- This IS NOT expected if you are initializing BertForSequenceClassification from the checkpoint of a model that you expect to be exactly identical (initializing a BertForSequenceClassification model from a BertForSequenceClassification model).\n",
      "Some weights of BertForSequenceClassification were not initialized from the model checkpoint at ./finetuned-scrumbled-wikitext2-3e-4/checkpoint-2080 and are newly initialized: ['bert.pooler.dense.weight', 'bert.pooler.dense.bias', 'classifier.weight', 'classifier.bias']\n",
      "You should probably TRAIN this model on a down-stream task to be able to use it for predictions and inference.\n"
     ]
    },
    {
     "name": "stdout",
     "output_type": "stream",
     "text": [
      "{'CR': {'devacc': 76.19, 'acc': 77.78, 'ndev': 3775, 'ntest': 3775}, 'MR': {'devacc': 71.05, 'acc': 71.33, 'ndev': 10662, 'ntest': 10662}, 'MPQA': {'devacc': 84.56, 'acc': 85.03, 'ndev': 10606, 'ntest': 10606}, 'SUBJ': {'devacc': 90.82, 'acc': 91.38, 'ndev': 10000, 'ntest': 10000}, 'SST2': {'devacc': 75.0, 'acc': 75.23, 'ndev': 872, 'ntest': 1821}, 'SST5': {'devacc': 40.24, 'acc': 39.19, 'ndev': 1101, 'ntest': 2210}}\n"
     ]
    },
    {
     "name": "stderr",
     "output_type": "stream",
     "text": [
      "Some weights of the model checkpoint at ./finetuned-scrumbled-wikitext2-3e-4/checkpoint-2160 were not used when initializing BertForSequenceClassification: ['cls.predictions.decoder.bias', 'cls.predictions.transform.dense.weight', 'cls.predictions.transform.LayerNorm.bias', 'cls.predictions.transform.LayerNorm.weight', 'cls.predictions.bias', 'cls.predictions.decoder.weight', 'cls.predictions.transform.dense.bias']\n",
      "- This IS expected if you are initializing BertForSequenceClassification from the checkpoint of a model trained on another task or with another architecture (e.g. initializing a BertForSequenceClassification model from a BertForPreTraining model).\n",
      "- This IS NOT expected if you are initializing BertForSequenceClassification from the checkpoint of a model that you expect to be exactly identical (initializing a BertForSequenceClassification model from a BertForSequenceClassification model).\n",
      "Some weights of BertForSequenceClassification were not initialized from the model checkpoint at ./finetuned-scrumbled-wikitext2-3e-4/checkpoint-2160 and are newly initialized: ['bert.pooler.dense.weight', 'bert.pooler.dense.bias', 'classifier.weight', 'classifier.bias']\n",
      "You should probably TRAIN this model on a down-stream task to be able to use it for predictions and inference.\n"
     ]
    },
    {
     "name": "stdout",
     "output_type": "stream",
     "text": [
      "{'CR': {'devacc': 75.64, 'acc': 76.19, 'ndev': 3775, 'ntest': 3775}, 'MR': {'devacc': 71.21, 'acc': 71.03, 'ndev': 10662, 'ntest': 10662}, 'MPQA': {'devacc': 85.08, 'acc': 85.41, 'ndev': 10606, 'ntest': 10606}, 'SUBJ': {'devacc': 91.11, 'acc': 91.34, 'ndev': 10000, 'ntest': 10000}, 'SST2': {'devacc': 75.57, 'acc': 74.14, 'ndev': 872, 'ntest': 1821}, 'SST5': {'devacc': 37.78, 'acc': 39.46, 'ndev': 1101, 'ntest': 2210}}\n"
     ]
    },
    {
     "name": "stderr",
     "output_type": "stream",
     "text": [
      "Some weights of the model checkpoint at ./finetuned-scrumbled-wikitext2-3e-4/checkpoint-2240 were not used when initializing BertForSequenceClassification: ['cls.predictions.decoder.bias', 'cls.predictions.transform.dense.weight', 'cls.predictions.transform.LayerNorm.bias', 'cls.predictions.transform.LayerNorm.weight', 'cls.predictions.bias', 'cls.predictions.decoder.weight', 'cls.predictions.transform.dense.bias']\n",
      "- This IS expected if you are initializing BertForSequenceClassification from the checkpoint of a model trained on another task or with another architecture (e.g. initializing a BertForSequenceClassification model from a BertForPreTraining model).\n",
      "- This IS NOT expected if you are initializing BertForSequenceClassification from the checkpoint of a model that you expect to be exactly identical (initializing a BertForSequenceClassification model from a BertForSequenceClassification model).\n",
      "Some weights of BertForSequenceClassification were not initialized from the model checkpoint at ./finetuned-scrumbled-wikitext2-3e-4/checkpoint-2240 and are newly initialized: ['bert.pooler.dense.weight', 'bert.pooler.dense.bias', 'classifier.weight', 'classifier.bias']\n",
      "You should probably TRAIN this model on a down-stream task to be able to use it for predictions and inference.\n"
     ]
    },
    {
     "name": "stdout",
     "output_type": "stream",
     "text": [
      "{'CR': {'devacc': 76.61, 'acc': 77.75, 'ndev': 3775, 'ntest': 3775}, 'MR': {'devacc': 71.08, 'acc': 71.3, 'ndev': 10662, 'ntest': 10662}, 'MPQA': {'devacc': 84.47, 'acc': 85.3, 'ndev': 10606, 'ntest': 10606}, 'SUBJ': {'devacc': 90.72, 'acc': 90.94, 'ndev': 10000, 'ntest': 10000}, 'SST2': {'devacc': 76.61, 'acc': 74.63, 'ndev': 872, 'ntest': 1821}, 'SST5': {'devacc': 38.87, 'acc': 39.14, 'ndev': 1101, 'ntest': 2210}}\n"
     ]
    },
    {
     "name": "stderr",
     "output_type": "stream",
     "text": [
      "Some weights of the model checkpoint at ./finetuned-scrumbled-wikitext2-3e-4/checkpoint-2320 were not used when initializing BertForSequenceClassification: ['cls.predictions.decoder.bias', 'cls.predictions.transform.dense.weight', 'cls.predictions.transform.LayerNorm.bias', 'cls.predictions.transform.LayerNorm.weight', 'cls.predictions.bias', 'cls.predictions.decoder.weight', 'cls.predictions.transform.dense.bias']\n",
      "- This IS expected if you are initializing BertForSequenceClassification from the checkpoint of a model trained on another task or with another architecture (e.g. initializing a BertForSequenceClassification model from a BertForPreTraining model).\n",
      "- This IS NOT expected if you are initializing BertForSequenceClassification from the checkpoint of a model that you expect to be exactly identical (initializing a BertForSequenceClassification model from a BertForSequenceClassification model).\n",
      "Some weights of BertForSequenceClassification were not initialized from the model checkpoint at ./finetuned-scrumbled-wikitext2-3e-4/checkpoint-2320 and are newly initialized: ['bert.pooler.dense.weight', 'bert.pooler.dense.bias', 'classifier.weight', 'classifier.bias']\n",
      "You should probably TRAIN this model on a down-stream task to be able to use it for predictions and inference.\n"
     ]
    },
    {
     "name": "stdout",
     "output_type": "stream",
     "text": [
      "{'CR': {'devacc': 74.57, 'acc': 76.19, 'ndev': 3775, 'ntest': 3775}, 'MR': {'devacc': 69.6, 'acc': 69.54, 'ndev': 10662, 'ntest': 10662}, 'MPQA': {'devacc': 83.82, 'acc': 84.93, 'ndev': 10606, 'ntest': 10606}, 'SUBJ': {'devacc': 89.53, 'acc': 89.86, 'ndev': 10000, 'ntest': 10000}, 'SST2': {'devacc': 75.34, 'acc': 73.81, 'ndev': 872, 'ntest': 1821}, 'SST5': {'devacc': 36.15, 'acc': 37.92, 'ndev': 1101, 'ntest': 2210}}\n"
     ]
    },
    {
     "name": "stderr",
     "output_type": "stream",
     "text": [
      "Some weights of the model checkpoint at ./finetuned-scrumbled-wikitext2-3e-4/checkpoint-2400 were not used when initializing BertForSequenceClassification: ['cls.predictions.decoder.bias', 'cls.predictions.transform.dense.weight', 'cls.predictions.transform.LayerNorm.bias', 'cls.predictions.transform.LayerNorm.weight', 'cls.predictions.bias', 'cls.predictions.decoder.weight', 'cls.predictions.transform.dense.bias']\n",
      "- This IS expected if you are initializing BertForSequenceClassification from the checkpoint of a model trained on another task or with another architecture (e.g. initializing a BertForSequenceClassification model from a BertForPreTraining model).\n",
      "- This IS NOT expected if you are initializing BertForSequenceClassification from the checkpoint of a model that you expect to be exactly identical (initializing a BertForSequenceClassification model from a BertForSequenceClassification model).\n",
      "Some weights of BertForSequenceClassification were not initialized from the model checkpoint at ./finetuned-scrumbled-wikitext2-3e-4/checkpoint-2400 and are newly initialized: ['bert.pooler.dense.weight', 'bert.pooler.dense.bias', 'classifier.weight', 'classifier.bias']\n",
      "You should probably TRAIN this model on a down-stream task to be able to use it for predictions and inference.\n"
     ]
    },
    {
     "name": "stdout",
     "output_type": "stream",
     "text": [
      "{'CR': {'devacc': 75.18, 'acc': 76.21, 'ndev': 3775, 'ntest': 3775}, 'MR': {'devacc': 71.01, 'acc': 71.29, 'ndev': 10662, 'ntest': 10662}, 'MPQA': {'devacc': 85.05, 'acc': 85.26, 'ndev': 10606, 'ntest': 10606}, 'SUBJ': {'devacc': 90.57, 'acc': 90.84, 'ndev': 10000, 'ntest': 10000}, 'SST2': {'devacc': 75.11, 'acc': 75.29, 'ndev': 872, 'ntest': 1821}, 'SST5': {'devacc': 38.51, 'acc': 37.92, 'ndev': 1101, 'ntest': 2210}}\n"
     ]
    },
    {
     "name": "stderr",
     "output_type": "stream",
     "text": [
      "Some weights of the model checkpoint at ./finetuned-scrumbled-wikitext2-3e-4/checkpoint-2480 were not used when initializing BertForSequenceClassification: ['cls.predictions.decoder.bias', 'cls.predictions.transform.dense.weight', 'cls.predictions.transform.LayerNorm.bias', 'cls.predictions.transform.LayerNorm.weight', 'cls.predictions.bias', 'cls.predictions.decoder.weight', 'cls.predictions.transform.dense.bias']\n",
      "- This IS expected if you are initializing BertForSequenceClassification from the checkpoint of a model trained on another task or with another architecture (e.g. initializing a BertForSequenceClassification model from a BertForPreTraining model).\n",
      "- This IS NOT expected if you are initializing BertForSequenceClassification from the checkpoint of a model that you expect to be exactly identical (initializing a BertForSequenceClassification model from a BertForSequenceClassification model).\n",
      "Some weights of BertForSequenceClassification were not initialized from the model checkpoint at ./finetuned-scrumbled-wikitext2-3e-4/checkpoint-2480 and are newly initialized: ['bert.pooler.dense.weight', 'bert.pooler.dense.bias', 'classifier.weight', 'classifier.bias']\n",
      "You should probably TRAIN this model on a down-stream task to be able to use it for predictions and inference.\n"
     ]
    },
    {
     "name": "stdout",
     "output_type": "stream",
     "text": [
      "{'CR': {'devacc': 75.1, 'acc': 75.82, 'ndev': 3775, 'ntest': 3775}, 'MR': {'devacc': 69.65, 'acc': 69.84, 'ndev': 10662, 'ntest': 10662}, 'MPQA': {'devacc': 83.65, 'acc': 84.23, 'ndev': 10606, 'ntest': 10606}, 'SUBJ': {'devacc': 90.21, 'acc': 90.76, 'ndev': 10000, 'ntest': 10000}, 'SST2': {'devacc': 76.26, 'acc': 73.31, 'ndev': 872, 'ntest': 1821}, 'SST5': {'devacc': 37.87, 'acc': 37.92, 'ndev': 1101, 'ntest': 2210}}\n"
     ]
    },
    {
     "name": "stderr",
     "output_type": "stream",
     "text": [
      "Some weights of the model checkpoint at ./finetuned-scrumbled-wikitext2-3e-4/checkpoint-2560 were not used when initializing BertForSequenceClassification: ['cls.predictions.decoder.bias', 'cls.predictions.transform.dense.weight', 'cls.predictions.transform.LayerNorm.bias', 'cls.predictions.transform.LayerNorm.weight', 'cls.predictions.bias', 'cls.predictions.decoder.weight', 'cls.predictions.transform.dense.bias']\n",
      "- This IS expected if you are initializing BertForSequenceClassification from the checkpoint of a model trained on another task or with another architecture (e.g. initializing a BertForSequenceClassification model from a BertForPreTraining model).\n",
      "- This IS NOT expected if you are initializing BertForSequenceClassification from the checkpoint of a model that you expect to be exactly identical (initializing a BertForSequenceClassification model from a BertForSequenceClassification model).\n",
      "Some weights of BertForSequenceClassification were not initialized from the model checkpoint at ./finetuned-scrumbled-wikitext2-3e-4/checkpoint-2560 and are newly initialized: ['bert.pooler.dense.weight', 'bert.pooler.dense.bias', 'classifier.weight', 'classifier.bias']\n",
      "You should probably TRAIN this model on a down-stream task to be able to use it for predictions and inference.\n"
     ]
    },
    {
     "name": "stdout",
     "output_type": "stream",
     "text": [
      "{'CR': {'devacc': 74.73, 'acc': 76.14, 'ndev': 3775, 'ntest': 3775}, 'MR': {'devacc': 70.96, 'acc': 70.96, 'ndev': 10662, 'ntest': 10662}, 'MPQA': {'devacc': 84.84, 'acc': 85.19, 'ndev': 10606, 'ntest': 10606}, 'SUBJ': {'devacc': 90.8, 'acc': 91.1, 'ndev': 10000, 'ntest': 10000}, 'SST2': {'devacc': 76.83, 'acc': 74.85, 'ndev': 872, 'ntest': 1821}, 'SST5': {'devacc': 38.15, 'acc': 38.1, 'ndev': 1101, 'ntest': 2210}}\n"
     ]
    },
    {
     "name": "stderr",
     "output_type": "stream",
     "text": [
      "Some weights of the model checkpoint at ./finetuned-scrumbled-wikitext2-3e-4/checkpoint-2640 were not used when initializing BertForSequenceClassification: ['cls.predictions.decoder.bias', 'cls.predictions.transform.dense.weight', 'cls.predictions.transform.LayerNorm.bias', 'cls.predictions.transform.LayerNorm.weight', 'cls.predictions.bias', 'cls.predictions.decoder.weight', 'cls.predictions.transform.dense.bias']\n",
      "- This IS expected if you are initializing BertForSequenceClassification from the checkpoint of a model trained on another task or with another architecture (e.g. initializing a BertForSequenceClassification model from a BertForPreTraining model).\n",
      "- This IS NOT expected if you are initializing BertForSequenceClassification from the checkpoint of a model that you expect to be exactly identical (initializing a BertForSequenceClassification model from a BertForSequenceClassification model).\n",
      "Some weights of BertForSequenceClassification were not initialized from the model checkpoint at ./finetuned-scrumbled-wikitext2-3e-4/checkpoint-2640 and are newly initialized: ['bert.pooler.dense.weight', 'bert.pooler.dense.bias', 'classifier.weight', 'classifier.bias']\n",
      "You should probably TRAIN this model on a down-stream task to be able to use it for predictions and inference.\n"
     ]
    },
    {
     "name": "stdout",
     "output_type": "stream",
     "text": [
      "{'CR': {'devacc': 75.02, 'acc': 76.4, 'ndev': 3775, 'ntest': 3775}, 'MR': {'devacc': 70.88, 'acc': 70.82, 'ndev': 10662, 'ntest': 10662}, 'MPQA': {'devacc': 84.72, 'acc': 85.49, 'ndev': 10606, 'ntest': 10606}, 'SUBJ': {'devacc': 90.59, 'acc': 91.05, 'ndev': 10000, 'ntest': 10000}, 'SST2': {'devacc': 75.46, 'acc': 75.51, 'ndev': 872, 'ntest': 1821}, 'SST5': {'devacc': 39.78, 'acc': 38.78, 'ndev': 1101, 'ntest': 2210}}\n"
     ]
    },
    {
     "name": "stderr",
     "output_type": "stream",
     "text": [
      "Some weights of the model checkpoint at ./finetuned-scrumbled-wikitext2-3e-4/checkpoint-2720 were not used when initializing BertForSequenceClassification: ['cls.predictions.decoder.bias', 'cls.predictions.transform.dense.weight', 'cls.predictions.transform.LayerNorm.bias', 'cls.predictions.transform.LayerNorm.weight', 'cls.predictions.bias', 'cls.predictions.decoder.weight', 'cls.predictions.transform.dense.bias']\n",
      "- This IS expected if you are initializing BertForSequenceClassification from the checkpoint of a model trained on another task or with another architecture (e.g. initializing a BertForSequenceClassification model from a BertForPreTraining model).\n",
      "- This IS NOT expected if you are initializing BertForSequenceClassification from the checkpoint of a model that you expect to be exactly identical (initializing a BertForSequenceClassification model from a BertForSequenceClassification model).\n",
      "Some weights of BertForSequenceClassification were not initialized from the model checkpoint at ./finetuned-scrumbled-wikitext2-3e-4/checkpoint-2720 and are newly initialized: ['bert.pooler.dense.weight', 'bert.pooler.dense.bias', 'classifier.weight', 'classifier.bias']\n",
      "You should probably TRAIN this model on a down-stream task to be able to use it for predictions and inference.\n"
     ]
    },
    {
     "name": "stdout",
     "output_type": "stream",
     "text": [
      "{'CR': {'devacc': 72.72, 'acc': 74.62, 'ndev': 3775, 'ntest': 3775}, 'MR': {'devacc': 70.25, 'acc': 70.2, 'ndev': 10662, 'ntest': 10662}, 'MPQA': {'devacc': 84.15, 'acc': 84.89, 'ndev': 10606, 'ntest': 10606}, 'SUBJ': {'devacc': 90.12, 'acc': 90.53, 'ndev': 10000, 'ntest': 10000}, 'SST2': {'devacc': 75.23, 'acc': 74.74, 'ndev': 872, 'ntest': 1821}, 'SST5': {'devacc': 38.69, 'acc': 37.87, 'ndev': 1101, 'ntest': 2210}}\n"
     ]
    },
    {
     "name": "stderr",
     "output_type": "stream",
     "text": [
      "Some weights of the model checkpoint at ./finetuned-scrumbled-wikitext2-3e-4/checkpoint-2800 were not used when initializing BertForSequenceClassification: ['cls.predictions.decoder.bias', 'cls.predictions.transform.dense.weight', 'cls.predictions.transform.LayerNorm.bias', 'cls.predictions.transform.LayerNorm.weight', 'cls.predictions.bias', 'cls.predictions.decoder.weight', 'cls.predictions.transform.dense.bias']\n",
      "- This IS expected if you are initializing BertForSequenceClassification from the checkpoint of a model trained on another task or with another architecture (e.g. initializing a BertForSequenceClassification model from a BertForPreTraining model).\n",
      "- This IS NOT expected if you are initializing BertForSequenceClassification from the checkpoint of a model that you expect to be exactly identical (initializing a BertForSequenceClassification model from a BertForSequenceClassification model).\n",
      "Some weights of BertForSequenceClassification were not initialized from the model checkpoint at ./finetuned-scrumbled-wikitext2-3e-4/checkpoint-2800 and are newly initialized: ['bert.pooler.dense.weight', 'bert.pooler.dense.bias', 'classifier.weight', 'classifier.bias']\n",
      "You should probably TRAIN this model on a down-stream task to be able to use it for predictions and inference.\n"
     ]
    },
    {
     "name": "stdout",
     "output_type": "stream",
     "text": [
      "{'CR': {'devacc': 74.15, 'acc': 75.73, 'ndev': 3775, 'ntest': 3775}, 'MR': {'devacc': 70.96, 'acc': 71.04, 'ndev': 10662, 'ntest': 10662}, 'MPQA': {'devacc': 84.82, 'acc': 85.59, 'ndev': 10606, 'ntest': 10606}, 'SUBJ': {'devacc': 89.78, 'acc': 90.31, 'ndev': 10000, 'ntest': 10000}, 'SST2': {'devacc': 77.06, 'acc': 74.14, 'ndev': 872, 'ntest': 1821}, 'SST5': {'devacc': 39.96, 'acc': 40.59, 'ndev': 1101, 'ntest': 2210}}\n"
     ]
    },
    {
     "name": "stderr",
     "output_type": "stream",
     "text": [
      "Some weights of the model checkpoint at ./finetuned-scrumbled-wikitext2-3e-4/checkpoint-2880 were not used when initializing BertForSequenceClassification: ['cls.predictions.decoder.bias', 'cls.predictions.transform.dense.weight', 'cls.predictions.transform.LayerNorm.bias', 'cls.predictions.transform.LayerNorm.weight', 'cls.predictions.bias', 'cls.predictions.decoder.weight', 'cls.predictions.transform.dense.bias']\n",
      "- This IS expected if you are initializing BertForSequenceClassification from the checkpoint of a model trained on another task or with another architecture (e.g. initializing a BertForSequenceClassification model from a BertForPreTraining model).\n",
      "- This IS NOT expected if you are initializing BertForSequenceClassification from the checkpoint of a model that you expect to be exactly identical (initializing a BertForSequenceClassification model from a BertForSequenceClassification model).\n",
      "Some weights of BertForSequenceClassification were not initialized from the model checkpoint at ./finetuned-scrumbled-wikitext2-3e-4/checkpoint-2880 and are newly initialized: ['bert.pooler.dense.weight', 'bert.pooler.dense.bias', 'classifier.weight', 'classifier.bias']\n",
      "You should probably TRAIN this model on a down-stream task to be able to use it for predictions and inference.\n"
     ]
    },
    {
     "name": "stdout",
     "output_type": "stream",
     "text": [
      "{'CR': {'devacc': 74.15, 'acc': 75.82, 'ndev': 3775, 'ntest': 3775}, 'MR': {'devacc': 70.51, 'acc': 70.95, 'ndev': 10662, 'ntest': 10662}, 'MPQA': {'devacc': 84.43, 'acc': 84.67, 'ndev': 10606, 'ntest': 10606}, 'SUBJ': {'devacc': 90.05, 'acc': 90.39, 'ndev': 10000, 'ntest': 10000}, 'SST2': {'devacc': 77.75, 'acc': 74.24, 'ndev': 872, 'ntest': 1821}, 'SST5': {'devacc': 38.78, 'acc': 39.05, 'ndev': 1101, 'ntest': 2210}}\n"
     ]
    },
    {
     "name": "stderr",
     "output_type": "stream",
     "text": [
      "Some weights of the model checkpoint at ./finetuned-scrumbled-wikitext2-3e-4/checkpoint-2960 were not used when initializing BertForSequenceClassification: ['cls.predictions.decoder.bias', 'cls.predictions.transform.dense.weight', 'cls.predictions.transform.LayerNorm.bias', 'cls.predictions.transform.LayerNorm.weight', 'cls.predictions.bias', 'cls.predictions.decoder.weight', 'cls.predictions.transform.dense.bias']\n",
      "- This IS expected if you are initializing BertForSequenceClassification from the checkpoint of a model trained on another task or with another architecture (e.g. initializing a BertForSequenceClassification model from a BertForPreTraining model).\n",
      "- This IS NOT expected if you are initializing BertForSequenceClassification from the checkpoint of a model that you expect to be exactly identical (initializing a BertForSequenceClassification model from a BertForSequenceClassification model).\n",
      "Some weights of BertForSequenceClassification were not initialized from the model checkpoint at ./finetuned-scrumbled-wikitext2-3e-4/checkpoint-2960 and are newly initialized: ['bert.pooler.dense.weight', 'bert.pooler.dense.bias', 'classifier.weight', 'classifier.bias']\n",
      "You should probably TRAIN this model on a down-stream task to be able to use it for predictions and inference.\n"
     ]
    },
    {
     "name": "stdout",
     "output_type": "stream",
     "text": [
      "{'CR': {'devacc': 74.21, 'acc': 74.68, 'ndev': 3775, 'ntest': 3775}, 'MR': {'devacc': 70.42, 'acc': 70.86, 'ndev': 10662, 'ntest': 10662}, 'MPQA': {'devacc': 84.97, 'acc': 85.69, 'ndev': 10606, 'ntest': 10606}, 'SUBJ': {'devacc': 89.96, 'acc': 90.48, 'ndev': 10000, 'ntest': 10000}, 'SST2': {'devacc': 74.89, 'acc': 76.44, 'ndev': 872, 'ntest': 1821}, 'SST5': {'devacc': 37.97, 'acc': 38.33, 'ndev': 1101, 'ntest': 2210}}\n"
     ]
    },
    {
     "name": "stderr",
     "output_type": "stream",
     "text": [
      "Some weights of the model checkpoint at ./finetuned-scrumbled-wikitext2-3e-4/checkpoint-3040 were not used when initializing BertForSequenceClassification: ['cls.predictions.decoder.bias', 'cls.predictions.transform.dense.weight', 'cls.predictions.transform.LayerNorm.bias', 'cls.predictions.transform.LayerNorm.weight', 'cls.predictions.bias', 'cls.predictions.decoder.weight', 'cls.predictions.transform.dense.bias']\n",
      "- This IS expected if you are initializing BertForSequenceClassification from the checkpoint of a model trained on another task or with another architecture (e.g. initializing a BertForSequenceClassification model from a BertForPreTraining model).\n",
      "- This IS NOT expected if you are initializing BertForSequenceClassification from the checkpoint of a model that you expect to be exactly identical (initializing a BertForSequenceClassification model from a BertForSequenceClassification model).\n",
      "Some weights of BertForSequenceClassification were not initialized from the model checkpoint at ./finetuned-scrumbled-wikitext2-3e-4/checkpoint-3040 and are newly initialized: ['bert.pooler.dense.weight', 'bert.pooler.dense.bias', 'classifier.weight', 'classifier.bias']\n",
      "You should probably TRAIN this model on a down-stream task to be able to use it for predictions and inference.\n"
     ]
    },
    {
     "name": "stdout",
     "output_type": "stream",
     "text": [
      "{'CR': {'devacc': 74.32, 'acc': 75.2, 'ndev': 3775, 'ntest': 3775}, 'MR': {'devacc': 70.07, 'acc': 70.36, 'ndev': 10662, 'ntest': 10662}, 'MPQA': {'devacc': 84.88, 'acc': 85.38, 'ndev': 10606, 'ntest': 10606}, 'SUBJ': {'devacc': 90.06, 'acc': 90.42, 'ndev': 10000, 'ntest': 10000}, 'SST2': {'devacc': 76.72, 'acc': 75.12, 'ndev': 872, 'ntest': 1821}, 'SST5': {'devacc': 37.24, 'acc': 39.05, 'ndev': 1101, 'ntest': 2210}}\n"
     ]
    },
    {
     "name": "stderr",
     "output_type": "stream",
     "text": [
      "Some weights of the model checkpoint at ./finetuned-scrumbled-wikitext2-3e-4/checkpoint-3120 were not used when initializing BertForSequenceClassification: ['cls.predictions.decoder.bias', 'cls.predictions.transform.dense.weight', 'cls.predictions.transform.LayerNorm.bias', 'cls.predictions.transform.LayerNorm.weight', 'cls.predictions.bias', 'cls.predictions.decoder.weight', 'cls.predictions.transform.dense.bias']\n",
      "- This IS expected if you are initializing BertForSequenceClassification from the checkpoint of a model trained on another task or with another architecture (e.g. initializing a BertForSequenceClassification model from a BertForPreTraining model).\n",
      "- This IS NOT expected if you are initializing BertForSequenceClassification from the checkpoint of a model that you expect to be exactly identical (initializing a BertForSequenceClassification model from a BertForSequenceClassification model).\n",
      "Some weights of BertForSequenceClassification were not initialized from the model checkpoint at ./finetuned-scrumbled-wikitext2-3e-4/checkpoint-3120 and are newly initialized: ['bert.pooler.dense.weight', 'bert.pooler.dense.bias', 'classifier.weight', 'classifier.bias']\n",
      "You should probably TRAIN this model on a down-stream task to be able to use it for predictions and inference.\n"
     ]
    },
    {
     "name": "stdout",
     "output_type": "stream",
     "text": [
      "{'CR': {'devacc': 74.37, 'acc': 74.89, 'ndev': 3775, 'ntest': 3775}, 'MR': {'devacc': 70.43, 'acc': 70.7, 'ndev': 10662, 'ntest': 10662}, 'MPQA': {'devacc': 84.83, 'acc': 85.55, 'ndev': 10606, 'ntest': 10606}, 'SUBJ': {'devacc': 90.37, 'acc': 91.0, 'ndev': 10000, 'ntest': 10000}, 'SST2': {'devacc': 76.26, 'acc': 75.29, 'ndev': 872, 'ntest': 1821}, 'SST5': {'devacc': 37.6, 'acc': 39.59, 'ndev': 1101, 'ntest': 2210}}\n"
     ]
    },
    {
     "name": "stderr",
     "output_type": "stream",
     "text": [
      "Some weights of the model checkpoint at ./finetuned-scrumbled-wikitext2-3e-4/checkpoint-3200 were not used when initializing BertForSequenceClassification: ['cls.predictions.decoder.bias', 'cls.predictions.transform.dense.weight', 'cls.predictions.transform.LayerNorm.bias', 'cls.predictions.transform.LayerNorm.weight', 'cls.predictions.bias', 'cls.predictions.decoder.weight', 'cls.predictions.transform.dense.bias']\n",
      "- This IS expected if you are initializing BertForSequenceClassification from the checkpoint of a model trained on another task or with another architecture (e.g. initializing a BertForSequenceClassification model from a BertForPreTraining model).\n",
      "- This IS NOT expected if you are initializing BertForSequenceClassification from the checkpoint of a model that you expect to be exactly identical (initializing a BertForSequenceClassification model from a BertForSequenceClassification model).\n",
      "Some weights of BertForSequenceClassification were not initialized from the model checkpoint at ./finetuned-scrumbled-wikitext2-3e-4/checkpoint-3200 and are newly initialized: ['bert.pooler.dense.weight', 'bert.pooler.dense.bias', 'classifier.weight', 'classifier.bias']\n",
      "You should probably TRAIN this model on a down-stream task to be able to use it for predictions and inference.\n"
     ]
    },
    {
     "name": "stdout",
     "output_type": "stream",
     "text": [
      "{'CR': {'devacc': 74.33, 'acc': 76.0, 'ndev': 3775, 'ntest': 3775}, 'MR': {'devacc': 70.57, 'acc': 70.64, 'ndev': 10662, 'ntest': 10662}, 'MPQA': {'devacc': 84.28, 'acc': 85.01, 'ndev': 10606, 'ntest': 10606}, 'SUBJ': {'devacc': 90.07, 'acc': 90.66, 'ndev': 10000, 'ntest': 10000}, 'SST2': {'devacc': 77.52, 'acc': 75.07, 'ndev': 872, 'ntest': 1821}, 'SST5': {'devacc': 39.33, 'acc': 38.6, 'ndev': 1101, 'ntest': 2210}}\n"
     ]
    },
    {
     "name": "stderr",
     "output_type": "stream",
     "text": [
      "Some weights of the model checkpoint at ./finetuned-scrumbled-wikitext2-3e-4/checkpoint-3280 were not used when initializing BertForSequenceClassification: ['cls.predictions.decoder.bias', 'cls.predictions.transform.dense.weight', 'cls.predictions.transform.LayerNorm.bias', 'cls.predictions.transform.LayerNorm.weight', 'cls.predictions.bias', 'cls.predictions.decoder.weight', 'cls.predictions.transform.dense.bias']\n",
      "- This IS expected if you are initializing BertForSequenceClassification from the checkpoint of a model trained on another task or with another architecture (e.g. initializing a BertForSequenceClassification model from a BertForPreTraining model).\n",
      "- This IS NOT expected if you are initializing BertForSequenceClassification from the checkpoint of a model that you expect to be exactly identical (initializing a BertForSequenceClassification model from a BertForSequenceClassification model).\n",
      "Some weights of BertForSequenceClassification were not initialized from the model checkpoint at ./finetuned-scrumbled-wikitext2-3e-4/checkpoint-3280 and are newly initialized: ['bert.pooler.dense.weight', 'bert.pooler.dense.bias', 'classifier.weight', 'classifier.bias']\n",
      "You should probably TRAIN this model on a down-stream task to be able to use it for predictions and inference.\n"
     ]
    },
    {
     "name": "stdout",
     "output_type": "stream",
     "text": [
      "{'CR': {'devacc': 73.63, 'acc': 74.46, 'ndev': 3775, 'ntest': 3775}, 'MR': {'devacc': 69.44, 'acc': 70.0, 'ndev': 10662, 'ntest': 10662}, 'MPQA': {'devacc': 84.52, 'acc': 85.12, 'ndev': 10606, 'ntest': 10606}, 'SUBJ': {'devacc': 90.17, 'acc': 90.7, 'ndev': 10000, 'ntest': 10000}, 'SST2': {'devacc': 75.69, 'acc': 73.92, 'ndev': 872, 'ntest': 1821}, 'SST5': {'devacc': 36.97, 'acc': 36.92, 'ndev': 1101, 'ntest': 2210}}\n"
     ]
    },
    {
     "name": "stderr",
     "output_type": "stream",
     "text": [
      "Some weights of the model checkpoint at ./finetuned-scrumbled-wikitext2-3e-4/checkpoint-3360 were not used when initializing BertForSequenceClassification: ['cls.predictions.decoder.bias', 'cls.predictions.transform.dense.weight', 'cls.predictions.transform.LayerNorm.bias', 'cls.predictions.transform.LayerNorm.weight', 'cls.predictions.bias', 'cls.predictions.decoder.weight', 'cls.predictions.transform.dense.bias']\n",
      "- This IS expected if you are initializing BertForSequenceClassification from the checkpoint of a model trained on another task or with another architecture (e.g. initializing a BertForSequenceClassification model from a BertForPreTraining model).\n",
      "- This IS NOT expected if you are initializing BertForSequenceClassification from the checkpoint of a model that you expect to be exactly identical (initializing a BertForSequenceClassification model from a BertForSequenceClassification model).\n",
      "Some weights of BertForSequenceClassification were not initialized from the model checkpoint at ./finetuned-scrumbled-wikitext2-3e-4/checkpoint-3360 and are newly initialized: ['bert.pooler.dense.weight', 'bert.pooler.dense.bias', 'classifier.weight', 'classifier.bias']\n",
      "You should probably TRAIN this model on a down-stream task to be able to use it for predictions and inference.\n"
     ]
    },
    {
     "name": "stdout",
     "output_type": "stream",
     "text": [
      "{'CR': {'devacc': 75.18, 'acc': 76.37, 'ndev': 3775, 'ntest': 3775}, 'MR': {'devacc': 70.84, 'acc': 70.96, 'ndev': 10662, 'ntest': 10662}, 'MPQA': {'devacc': 82.31, 'acc': 82.63, 'ndev': 10606, 'ntest': 10606}, 'SUBJ': {'devacc': 90.1, 'acc': 90.84, 'ndev': 10000, 'ntest': 10000}, 'SST2': {'devacc': 76.49, 'acc': 74.46, 'ndev': 872, 'ntest': 1821}, 'SST5': {'devacc': 39.42, 'acc': 37.92, 'ndev': 1101, 'ntest': 2210}}\n"
     ]
    },
    {
     "name": "stderr",
     "output_type": "stream",
     "text": [
      "Some weights of the model checkpoint at ./finetuned-scrumbled-wikitext2-3e-4/checkpoint-3440 were not used when initializing BertForSequenceClassification: ['cls.predictions.decoder.bias', 'cls.predictions.transform.dense.weight', 'cls.predictions.transform.LayerNorm.bias', 'cls.predictions.transform.LayerNorm.weight', 'cls.predictions.bias', 'cls.predictions.decoder.weight', 'cls.predictions.transform.dense.bias']\n",
      "- This IS expected if you are initializing BertForSequenceClassification from the checkpoint of a model trained on another task or with another architecture (e.g. initializing a BertForSequenceClassification model from a BertForPreTraining model).\n",
      "- This IS NOT expected if you are initializing BertForSequenceClassification from the checkpoint of a model that you expect to be exactly identical (initializing a BertForSequenceClassification model from a BertForSequenceClassification model).\n",
      "Some weights of BertForSequenceClassification were not initialized from the model checkpoint at ./finetuned-scrumbled-wikitext2-3e-4/checkpoint-3440 and are newly initialized: ['bert.pooler.dense.weight', 'bert.pooler.dense.bias', 'classifier.weight', 'classifier.bias']\n",
      "You should probably TRAIN this model on a down-stream task to be able to use it for predictions and inference.\n"
     ]
    },
    {
     "name": "stdout",
     "output_type": "stream",
     "text": [
      "{'CR': {'devacc': 75.03, 'acc': 76.4, 'ndev': 3775, 'ntest': 3775}, 'MR': {'devacc': 70.91, 'acc': 70.88, 'ndev': 10662, 'ntest': 10662}, 'MPQA': {'devacc': 83.09, 'acc': 83.82, 'ndev': 10606, 'ntest': 10606}, 'SUBJ': {'devacc': 89.84, 'acc': 90.35, 'ndev': 10000, 'ntest': 10000}, 'SST2': {'devacc': 77.06, 'acc': 74.85, 'ndev': 872, 'ntest': 1821}, 'SST5': {'devacc': 37.15, 'acc': 39.14, 'ndev': 1101, 'ntest': 2210}}\n"
     ]
    },
    {
     "name": "stderr",
     "output_type": "stream",
     "text": [
      "Some weights of the model checkpoint at ./finetuned-scrumbled-wikitext2-3e-4/checkpoint-3520 were not used when initializing BertForSequenceClassification: ['cls.predictions.decoder.bias', 'cls.predictions.transform.dense.weight', 'cls.predictions.transform.LayerNorm.bias', 'cls.predictions.transform.LayerNorm.weight', 'cls.predictions.bias', 'cls.predictions.decoder.weight', 'cls.predictions.transform.dense.bias']\n",
      "- This IS expected if you are initializing BertForSequenceClassification from the checkpoint of a model trained on another task or with another architecture (e.g. initializing a BertForSequenceClassification model from a BertForPreTraining model).\n",
      "- This IS NOT expected if you are initializing BertForSequenceClassification from the checkpoint of a model that you expect to be exactly identical (initializing a BertForSequenceClassification model from a BertForSequenceClassification model).\n",
      "Some weights of BertForSequenceClassification were not initialized from the model checkpoint at ./finetuned-scrumbled-wikitext2-3e-4/checkpoint-3520 and are newly initialized: ['bert.pooler.dense.weight', 'bert.pooler.dense.bias', 'classifier.weight', 'classifier.bias']\n",
      "You should probably TRAIN this model on a down-stream task to be able to use it for predictions and inference.\n"
     ]
    },
    {
     "name": "stdout",
     "output_type": "stream",
     "text": [
      "{'CR': {'devacc': 73.88, 'acc': 74.89, 'ndev': 3775, 'ntest': 3775}, 'MR': {'devacc': 69.9, 'acc': 70.0, 'ndev': 10662, 'ntest': 10662}, 'MPQA': {'devacc': 84.61, 'acc': 85.18, 'ndev': 10606, 'ntest': 10606}, 'SUBJ': {'devacc': 90.35, 'acc': 90.66, 'ndev': 10000, 'ntest': 10000}, 'SST2': {'devacc': 75.0, 'acc': 75.18, 'ndev': 872, 'ntest': 1821}, 'SST5': {'devacc': 35.15, 'acc': 37.42, 'ndev': 1101, 'ntest': 2210}}\n"
     ]
    },
    {
     "name": "stderr",
     "output_type": "stream",
     "text": [
      "Some weights of the model checkpoint at ./finetuned-scrumbled-wikitext2-3e-4/checkpoint-3600 were not used when initializing BertForSequenceClassification: ['cls.predictions.decoder.bias', 'cls.predictions.transform.dense.weight', 'cls.predictions.transform.LayerNorm.bias', 'cls.predictions.transform.LayerNorm.weight', 'cls.predictions.bias', 'cls.predictions.decoder.weight', 'cls.predictions.transform.dense.bias']\n",
      "- This IS expected if you are initializing BertForSequenceClassification from the checkpoint of a model trained on another task or with another architecture (e.g. initializing a BertForSequenceClassification model from a BertForPreTraining model).\n",
      "- This IS NOT expected if you are initializing BertForSequenceClassification from the checkpoint of a model that you expect to be exactly identical (initializing a BertForSequenceClassification model from a BertForSequenceClassification model).\n",
      "Some weights of BertForSequenceClassification were not initialized from the model checkpoint at ./finetuned-scrumbled-wikitext2-3e-4/checkpoint-3600 and are newly initialized: ['bert.pooler.dense.weight', 'bert.pooler.dense.bias', 'classifier.weight', 'classifier.bias']\n",
      "You should probably TRAIN this model on a down-stream task to be able to use it for predictions and inference.\n"
     ]
    },
    {
     "name": "stdout",
     "output_type": "stream",
     "text": [
      "{'CR': {'devacc': 74.61, 'acc': 75.76, 'ndev': 3775, 'ntest': 3775}, 'MR': {'devacc': 70.28, 'acc': 70.67, 'ndev': 10662, 'ntest': 10662}, 'MPQA': {'devacc': 82.47, 'acc': 82.81, 'ndev': 10606, 'ntest': 10606}, 'SUBJ': {'devacc': 90.25, 'acc': 90.67, 'ndev': 10000, 'ntest': 10000}, 'SST2': {'devacc': 75.23, 'acc': 74.35, 'ndev': 872, 'ntest': 1821}, 'SST5': {'devacc': 37.87, 'acc': 37.74, 'ndev': 1101, 'ntest': 2210}}\n"
     ]
    },
    {
     "name": "stderr",
     "output_type": "stream",
     "text": [
      "Some weights of the model checkpoint at ./finetuned-scrumbled-wikitext2-3e-4/checkpoint-3680 were not used when initializing BertForSequenceClassification: ['cls.predictions.decoder.bias', 'cls.predictions.transform.dense.weight', 'cls.predictions.transform.LayerNorm.bias', 'cls.predictions.transform.LayerNorm.weight', 'cls.predictions.bias', 'cls.predictions.decoder.weight', 'cls.predictions.transform.dense.bias']\n",
      "- This IS expected if you are initializing BertForSequenceClassification from the checkpoint of a model trained on another task or with another architecture (e.g. initializing a BertForSequenceClassification model from a BertForPreTraining model).\n",
      "- This IS NOT expected if you are initializing BertForSequenceClassification from the checkpoint of a model that you expect to be exactly identical (initializing a BertForSequenceClassification model from a BertForSequenceClassification model).\n",
      "Some weights of BertForSequenceClassification were not initialized from the model checkpoint at ./finetuned-scrumbled-wikitext2-3e-4/checkpoint-3680 and are newly initialized: ['bert.pooler.dense.weight', 'bert.pooler.dense.bias', 'classifier.weight', 'classifier.bias']\n",
      "You should probably TRAIN this model on a down-stream task to be able to use it for predictions and inference.\n"
     ]
    },
    {
     "name": "stdout",
     "output_type": "stream",
     "text": [
      "{'CR': {'devacc': 72.93, 'acc': 73.27, 'ndev': 3775, 'ntest': 3775}, 'MR': {'devacc': 69.45, 'acc': 69.73, 'ndev': 10662, 'ntest': 10662}, 'MPQA': {'devacc': 83.46, 'acc': 84.1, 'ndev': 10606, 'ntest': 10606}, 'SUBJ': {'devacc': 89.68, 'acc': 90.05, 'ndev': 10000, 'ntest': 10000}, 'SST2': {'devacc': 73.97, 'acc': 73.86, 'ndev': 872, 'ntest': 1821}, 'SST5': {'devacc': 37.97, 'acc': 38.01, 'ndev': 1101, 'ntest': 2210}}\n"
     ]
    },
    {
     "name": "stderr",
     "output_type": "stream",
     "text": [
      "Some weights of the model checkpoint at ./finetuned-scrumbled-wikitext2-3e-4/checkpoint-3760 were not used when initializing BertForSequenceClassification: ['cls.predictions.decoder.bias', 'cls.predictions.transform.dense.weight', 'cls.predictions.transform.LayerNorm.bias', 'cls.predictions.transform.LayerNorm.weight', 'cls.predictions.bias', 'cls.predictions.decoder.weight', 'cls.predictions.transform.dense.bias']\n",
      "- This IS expected if you are initializing BertForSequenceClassification from the checkpoint of a model trained on another task or with another architecture (e.g. initializing a BertForSequenceClassification model from a BertForPreTraining model).\n",
      "- This IS NOT expected if you are initializing BertForSequenceClassification from the checkpoint of a model that you expect to be exactly identical (initializing a BertForSequenceClassification model from a BertForSequenceClassification model).\n",
      "Some weights of BertForSequenceClassification were not initialized from the model checkpoint at ./finetuned-scrumbled-wikitext2-3e-4/checkpoint-3760 and are newly initialized: ['bert.pooler.dense.weight', 'bert.pooler.dense.bias', 'classifier.weight', 'classifier.bias']\n",
      "You should probably TRAIN this model on a down-stream task to be able to use it for predictions and inference.\n"
     ]
    },
    {
     "name": "stdout",
     "output_type": "stream",
     "text": [
      "{'CR': {'devacc': 73.62, 'acc': 74.54, 'ndev': 3775, 'ntest': 3775}, 'MR': {'devacc': 70.32, 'acc': 70.76, 'ndev': 10662, 'ntest': 10662}, 'MPQA': {'devacc': 81.78, 'acc': 82.15, 'ndev': 10606, 'ntest': 10606}, 'SUBJ': {'devacc': 89.95, 'acc': 90.51, 'ndev': 10000, 'ntest': 10000}, 'SST2': {'devacc': 76.61, 'acc': 75.07, 'ndev': 872, 'ntest': 1821}, 'SST5': {'devacc': 39.15, 'acc': 37.38, 'ndev': 1101, 'ntest': 2210}}\n"
     ]
    },
    {
     "name": "stderr",
     "output_type": "stream",
     "text": [
      "Some weights of the model checkpoint at ./finetuned-scrumbled-wikitext2-3e-4/checkpoint-3840 were not used when initializing BertForSequenceClassification: ['cls.predictions.decoder.bias', 'cls.predictions.transform.dense.weight', 'cls.predictions.transform.LayerNorm.bias', 'cls.predictions.transform.LayerNorm.weight', 'cls.predictions.bias', 'cls.predictions.decoder.weight', 'cls.predictions.transform.dense.bias']\n",
      "- This IS expected if you are initializing BertForSequenceClassification from the checkpoint of a model trained on another task or with another architecture (e.g. initializing a BertForSequenceClassification model from a BertForPreTraining model).\n",
      "- This IS NOT expected if you are initializing BertForSequenceClassification from the checkpoint of a model that you expect to be exactly identical (initializing a BertForSequenceClassification model from a BertForSequenceClassification model).\n",
      "Some weights of BertForSequenceClassification were not initialized from the model checkpoint at ./finetuned-scrumbled-wikitext2-3e-4/checkpoint-3840 and are newly initialized: ['bert.pooler.dense.weight', 'bert.pooler.dense.bias', 'classifier.weight', 'classifier.bias']\n",
      "You should probably TRAIN this model on a down-stream task to be able to use it for predictions and inference.\n"
     ]
    },
    {
     "name": "stdout",
     "output_type": "stream",
     "text": [
      "{'CR': {'devacc': 72.74, 'acc': 73.86, 'ndev': 3775, 'ntest': 3775}, 'MR': {'devacc': 69.12, 'acc': 69.21, 'ndev': 10662, 'ntest': 10662}, 'MPQA': {'devacc': 82.74, 'acc': 83.51, 'ndev': 10606, 'ntest': 10606}, 'SUBJ': {'devacc': 90.04, 'acc': 90.63, 'ndev': 10000, 'ntest': 10000}, 'SST2': {'devacc': 75.34, 'acc': 73.86, 'ndev': 872, 'ntest': 1821}, 'SST5': {'devacc': 37.33, 'acc': 36.65, 'ndev': 1101, 'ntest': 2210}}\n"
     ]
    },
    {
     "name": "stderr",
     "output_type": "stream",
     "text": [
      "Some weights of the model checkpoint at ./finetuned-scrumbled-wikitext2-3e-4/checkpoint-3920 were not used when initializing BertForSequenceClassification: ['cls.predictions.decoder.bias', 'cls.predictions.transform.dense.weight', 'cls.predictions.transform.LayerNorm.bias', 'cls.predictions.transform.LayerNorm.weight', 'cls.predictions.bias', 'cls.predictions.decoder.weight', 'cls.predictions.transform.dense.bias']\n",
      "- This IS expected if you are initializing BertForSequenceClassification from the checkpoint of a model trained on another task or with another architecture (e.g. initializing a BertForSequenceClassification model from a BertForPreTraining model).\n",
      "- This IS NOT expected if you are initializing BertForSequenceClassification from the checkpoint of a model that you expect to be exactly identical (initializing a BertForSequenceClassification model from a BertForSequenceClassification model).\n",
      "Some weights of BertForSequenceClassification were not initialized from the model checkpoint at ./finetuned-scrumbled-wikitext2-3e-4/checkpoint-3920 and are newly initialized: ['bert.pooler.dense.weight', 'bert.pooler.dense.bias', 'classifier.weight', 'classifier.bias']\n",
      "You should probably TRAIN this model on a down-stream task to be able to use it for predictions and inference.\n"
     ]
    },
    {
     "name": "stdout",
     "output_type": "stream",
     "text": [
      "{'CR': {'devacc': 73.32, 'acc': 74.49, 'ndev': 3775, 'ntest': 3775}, 'MR': {'devacc': 69.7, 'acc': 70.44, 'ndev': 10662, 'ntest': 10662}, 'MPQA': {'devacc': 83.75, 'acc': 84.27, 'ndev': 10606, 'ntest': 10606}, 'SUBJ': {'devacc': 89.51, 'acc': 89.61, 'ndev': 10000, 'ntest': 10000}, 'SST2': {'devacc': 76.03, 'acc': 74.9, 'ndev': 872, 'ntest': 1821}, 'SST5': {'devacc': 36.78, 'acc': 38.37, 'ndev': 1101, 'ntest': 2210}}\n"
     ]
    },
    {
     "name": "stderr",
     "output_type": "stream",
     "text": [
      "Some weights of the model checkpoint at ./finetuned-scrumbled-wikitext2-3e-4/checkpoint-4000 were not used when initializing BertForSequenceClassification: ['cls.predictions.decoder.bias', 'cls.predictions.transform.dense.weight', 'cls.predictions.transform.LayerNorm.bias', 'cls.predictions.transform.LayerNorm.weight', 'cls.predictions.bias', 'cls.predictions.decoder.weight', 'cls.predictions.transform.dense.bias']\n",
      "- This IS expected if you are initializing BertForSequenceClassification from the checkpoint of a model trained on another task or with another architecture (e.g. initializing a BertForSequenceClassification model from a BertForPreTraining model).\n",
      "- This IS NOT expected if you are initializing BertForSequenceClassification from the checkpoint of a model that you expect to be exactly identical (initializing a BertForSequenceClassification model from a BertForSequenceClassification model).\n",
      "Some weights of BertForSequenceClassification were not initialized from the model checkpoint at ./finetuned-scrumbled-wikitext2-3e-4/checkpoint-4000 and are newly initialized: ['bert.pooler.dense.weight', 'bert.pooler.dense.bias', 'classifier.weight', 'classifier.bias']\n",
      "You should probably TRAIN this model on a down-stream task to be able to use it for predictions and inference.\n"
     ]
    },
    {
     "name": "stdout",
     "output_type": "stream",
     "text": [
      "{'CR': {'devacc': 74.13, 'acc': 74.68, 'ndev': 3775, 'ntest': 3775}, 'MR': {'devacc': 69.89, 'acc': 70.01, 'ndev': 10662, 'ntest': 10662}, 'MPQA': {'devacc': 83.56, 'acc': 84.08, 'ndev': 10606, 'ntest': 10606}, 'SUBJ': {'devacc': 89.81, 'acc': 90.25, 'ndev': 10000, 'ntest': 10000}, 'SST2': {'devacc': 76.61, 'acc': 74.85, 'ndev': 872, 'ntest': 1821}, 'SST5': {'devacc': 38.96, 'acc': 38.51, 'ndev': 1101, 'ntest': 2210}}\n"
     ]
    },
    {
     "name": "stderr",
     "output_type": "stream",
     "text": [
      "Some weights of the model checkpoint at ./finetuned-scrumbled-wikitext2-3e-4/checkpoint-4080 were not used when initializing BertForSequenceClassification: ['cls.predictions.decoder.bias', 'cls.predictions.transform.dense.weight', 'cls.predictions.transform.LayerNorm.bias', 'cls.predictions.transform.LayerNorm.weight', 'cls.predictions.bias', 'cls.predictions.decoder.weight', 'cls.predictions.transform.dense.bias']\n",
      "- This IS expected if you are initializing BertForSequenceClassification from the checkpoint of a model trained on another task or with another architecture (e.g. initializing a BertForSequenceClassification model from a BertForPreTraining model).\n",
      "- This IS NOT expected if you are initializing BertForSequenceClassification from the checkpoint of a model that you expect to be exactly identical (initializing a BertForSequenceClassification model from a BertForSequenceClassification model).\n",
      "Some weights of BertForSequenceClassification were not initialized from the model checkpoint at ./finetuned-scrumbled-wikitext2-3e-4/checkpoint-4080 and are newly initialized: ['bert.pooler.dense.weight', 'bert.pooler.dense.bias', 'classifier.weight', 'classifier.bias']\n",
      "You should probably TRAIN this model on a down-stream task to be able to use it for predictions and inference.\n"
     ]
    },
    {
     "name": "stdout",
     "output_type": "stream",
     "text": [
      "{'CR': {'devacc': 73.64, 'acc': 73.99, 'ndev': 3775, 'ntest': 3775}, 'MR': {'devacc': 69.84, 'acc': 69.95, 'ndev': 10662, 'ntest': 10662}, 'MPQA': {'devacc': 84.02, 'acc': 84.03, 'ndev': 10606, 'ntest': 10606}, 'SUBJ': {'devacc': 90.11, 'acc': 90.59, 'ndev': 10000, 'ntest': 10000}, 'SST2': {'devacc': 73.51, 'acc': 74.85, 'ndev': 872, 'ntest': 1821}, 'SST5': {'devacc': 37.78, 'acc': 37.69, 'ndev': 1101, 'ntest': 2210}}\n"
     ]
    },
    {
     "name": "stderr",
     "output_type": "stream",
     "text": [
      "Some weights of the model checkpoint at ./finetuned-scrumbled-wikitext2-3e-4/checkpoint-4160 were not used when initializing BertForSequenceClassification: ['cls.predictions.decoder.bias', 'cls.predictions.transform.dense.weight', 'cls.predictions.transform.LayerNorm.bias', 'cls.predictions.transform.LayerNorm.weight', 'cls.predictions.bias', 'cls.predictions.decoder.weight', 'cls.predictions.transform.dense.bias']\n",
      "- This IS expected if you are initializing BertForSequenceClassification from the checkpoint of a model trained on another task or with another architecture (e.g. initializing a BertForSequenceClassification model from a BertForPreTraining model).\n",
      "- This IS NOT expected if you are initializing BertForSequenceClassification from the checkpoint of a model that you expect to be exactly identical (initializing a BertForSequenceClassification model from a BertForSequenceClassification model).\n",
      "Some weights of BertForSequenceClassification were not initialized from the model checkpoint at ./finetuned-scrumbled-wikitext2-3e-4/checkpoint-4160 and are newly initialized: ['bert.pooler.dense.weight', 'bert.pooler.dense.bias', 'classifier.weight', 'classifier.bias']\n",
      "You should probably TRAIN this model on a down-stream task to be able to use it for predictions and inference.\n"
     ]
    },
    {
     "name": "stdout",
     "output_type": "stream",
     "text": [
      "{'CR': {'devacc': 76.57, 'acc': 76.87, 'ndev': 3775, 'ntest': 3775}, 'MR': {'devacc': 70.85, 'acc': 70.93, 'ndev': 10662, 'ntest': 10662}, 'MPQA': {'devacc': 84.0, 'acc': 84.44, 'ndev': 10606, 'ntest': 10606}, 'SUBJ': {'devacc': 89.83, 'acc': 90.42, 'ndev': 10000, 'ntest': 10000}, 'SST2': {'devacc': 75.57, 'acc': 76.33, 'ndev': 872, 'ntest': 1821}, 'SST5': {'devacc': 38.15, 'acc': 40.72, 'ndev': 1101, 'ntest': 2210}}\n"
     ]
    },
    {
     "name": "stderr",
     "output_type": "stream",
     "text": [
      "Some weights of the model checkpoint at ./finetuned-scrumbled-wikitext2-3e-4/checkpoint-4240 were not used when initializing BertForSequenceClassification: ['cls.predictions.decoder.bias', 'cls.predictions.transform.dense.weight', 'cls.predictions.transform.LayerNorm.bias', 'cls.predictions.transform.LayerNorm.weight', 'cls.predictions.bias', 'cls.predictions.decoder.weight', 'cls.predictions.transform.dense.bias']\n",
      "- This IS expected if you are initializing BertForSequenceClassification from the checkpoint of a model trained on another task or with another architecture (e.g. initializing a BertForSequenceClassification model from a BertForPreTraining model).\n",
      "- This IS NOT expected if you are initializing BertForSequenceClassification from the checkpoint of a model that you expect to be exactly identical (initializing a BertForSequenceClassification model from a BertForSequenceClassification model).\n",
      "Some weights of BertForSequenceClassification were not initialized from the model checkpoint at ./finetuned-scrumbled-wikitext2-3e-4/checkpoint-4240 and are newly initialized: ['bert.pooler.dense.weight', 'bert.pooler.dense.bias', 'classifier.weight', 'classifier.bias']\n",
      "You should probably TRAIN this model on a down-stream task to be able to use it for predictions and inference.\n"
     ]
    },
    {
     "name": "stdout",
     "output_type": "stream",
     "text": [
      "{'CR': {'devacc': 74.53, 'acc': 75.04, 'ndev': 3775, 'ntest': 3775}, 'MR': {'devacc': 70.18, 'acc': 70.31, 'ndev': 10662, 'ntest': 10662}, 'MPQA': {'devacc': 83.55, 'acc': 83.88, 'ndev': 10606, 'ntest': 10606}, 'SUBJ': {'devacc': 89.81, 'acc': 90.34, 'ndev': 10000, 'ntest': 10000}, 'SST2': {'devacc': 74.77, 'acc': 75.89, 'ndev': 872, 'ntest': 1821}, 'SST5': {'devacc': 37.24, 'acc': 37.6, 'ndev': 1101, 'ntest': 2210}}\n"
     ]
    },
    {
     "name": "stderr",
     "output_type": "stream",
     "text": [
      "Some weights of the model checkpoint at ./finetuned-scrumbled-wikitext2-3e-4/checkpoint-4320 were not used when initializing BertForSequenceClassification: ['cls.predictions.decoder.bias', 'cls.predictions.transform.dense.weight', 'cls.predictions.transform.LayerNorm.bias', 'cls.predictions.transform.LayerNorm.weight', 'cls.predictions.bias', 'cls.predictions.decoder.weight', 'cls.predictions.transform.dense.bias']\n",
      "- This IS expected if you are initializing BertForSequenceClassification from the checkpoint of a model trained on another task or with another architecture (e.g. initializing a BertForSequenceClassification model from a BertForPreTraining model).\n",
      "- This IS NOT expected if you are initializing BertForSequenceClassification from the checkpoint of a model that you expect to be exactly identical (initializing a BertForSequenceClassification model from a BertForSequenceClassification model).\n",
      "Some weights of BertForSequenceClassification were not initialized from the model checkpoint at ./finetuned-scrumbled-wikitext2-3e-4/checkpoint-4320 and are newly initialized: ['bert.pooler.dense.weight', 'bert.pooler.dense.bias', 'classifier.weight', 'classifier.bias']\n",
      "You should probably TRAIN this model on a down-stream task to be able to use it for predictions and inference.\n"
     ]
    },
    {
     "name": "stdout",
     "output_type": "stream",
     "text": [
      "{'CR': {'devacc': 74.52, 'acc': 75.44, 'ndev': 3775, 'ntest': 3775}, 'MR': {'devacc': 70.27, 'acc': 70.58, 'ndev': 10662, 'ntest': 10662}, 'MPQA': {'devacc': 83.95, 'acc': 84.26, 'ndev': 10606, 'ntest': 10606}, 'SUBJ': {'devacc': 89.93, 'acc': 90.43, 'ndev': 10000, 'ntest': 10000}, 'SST2': {'devacc': 75.46, 'acc': 74.63, 'ndev': 872, 'ntest': 1821}, 'SST5': {'devacc': 36.06, 'acc': 38.46, 'ndev': 1101, 'ntest': 2210}}\n"
     ]
    },
    {
     "name": "stderr",
     "output_type": "stream",
     "text": [
      "Some weights of the model checkpoint at ./finetuned-scrumbled-wikitext2-3e-4/checkpoint-4400 were not used when initializing BertForSequenceClassification: ['cls.predictions.decoder.bias', 'cls.predictions.transform.dense.weight', 'cls.predictions.transform.LayerNorm.bias', 'cls.predictions.transform.LayerNorm.weight', 'cls.predictions.bias', 'cls.predictions.decoder.weight', 'cls.predictions.transform.dense.bias']\n",
      "- This IS expected if you are initializing BertForSequenceClassification from the checkpoint of a model trained on another task or with another architecture (e.g. initializing a BertForSequenceClassification model from a BertForPreTraining model).\n",
      "- This IS NOT expected if you are initializing BertForSequenceClassification from the checkpoint of a model that you expect to be exactly identical (initializing a BertForSequenceClassification model from a BertForSequenceClassification model).\n",
      "Some weights of BertForSequenceClassification were not initialized from the model checkpoint at ./finetuned-scrumbled-wikitext2-3e-4/checkpoint-4400 and are newly initialized: ['bert.pooler.dense.weight', 'bert.pooler.dense.bias', 'classifier.weight', 'classifier.bias']\n",
      "You should probably TRAIN this model on a down-stream task to be able to use it for predictions and inference.\n"
     ]
    },
    {
     "name": "stdout",
     "output_type": "stream",
     "text": [
      "{'CR': {'devacc': 75.17, 'acc': 75.2, 'ndev': 3775, 'ntest': 3775}, 'MR': {'devacc': 70.09, 'acc': 69.92, 'ndev': 10662, 'ntest': 10662}, 'MPQA': {'devacc': 83.8, 'acc': 84.18, 'ndev': 10606, 'ntest': 10606}, 'SUBJ': {'devacc': 89.79, 'acc': 89.99, 'ndev': 10000, 'ntest': 10000}, 'SST2': {'devacc': 75.23, 'acc': 75.07, 'ndev': 872, 'ntest': 1821}, 'SST5': {'devacc': 37.69, 'acc': 38.6, 'ndev': 1101, 'ntest': 2210}}\n"
     ]
    },
    {
     "name": "stderr",
     "output_type": "stream",
     "text": [
      "Some weights of the model checkpoint at ./finetuned-scrumbled-wikitext2-3e-4/checkpoint-4480 were not used when initializing BertForSequenceClassification: ['cls.predictions.decoder.bias', 'cls.predictions.transform.dense.weight', 'cls.predictions.transform.LayerNorm.bias', 'cls.predictions.transform.LayerNorm.weight', 'cls.predictions.bias', 'cls.predictions.decoder.weight', 'cls.predictions.transform.dense.bias']\n",
      "- This IS expected if you are initializing BertForSequenceClassification from the checkpoint of a model trained on another task or with another architecture (e.g. initializing a BertForSequenceClassification model from a BertForPreTraining model).\n",
      "- This IS NOT expected if you are initializing BertForSequenceClassification from the checkpoint of a model that you expect to be exactly identical (initializing a BertForSequenceClassification model from a BertForSequenceClassification model).\n",
      "Some weights of BertForSequenceClassification were not initialized from the model checkpoint at ./finetuned-scrumbled-wikitext2-3e-4/checkpoint-4480 and are newly initialized: ['bert.pooler.dense.weight', 'bert.pooler.dense.bias', 'classifier.weight', 'classifier.bias']\n",
      "You should probably TRAIN this model on a down-stream task to be able to use it for predictions and inference.\n"
     ]
    },
    {
     "name": "stdout",
     "output_type": "stream",
     "text": [
      "{'CR': {'devacc': 74.08, 'acc': 75.44, 'ndev': 3775, 'ntest': 3775}, 'MR': {'devacc': 70.36, 'acc': 70.41, 'ndev': 10662, 'ntest': 10662}, 'MPQA': {'devacc': 85.06, 'acc': 85.57, 'ndev': 10606, 'ntest': 10606}, 'SUBJ': {'devacc': 89.6, 'acc': 90.04, 'ndev': 10000, 'ntest': 10000}, 'SST2': {'devacc': 75.34, 'acc': 74.74, 'ndev': 872, 'ntest': 1821}, 'SST5': {'devacc': 37.15, 'acc': 37.74, 'ndev': 1101, 'ntest': 2210}}\n"
     ]
    },
    {
     "name": "stderr",
     "output_type": "stream",
     "text": [
      "Some weights of the model checkpoint at ./finetuned-scrumbled-wikitext2-3e-4/checkpoint-4560 were not used when initializing BertForSequenceClassification: ['cls.predictions.decoder.bias', 'cls.predictions.transform.dense.weight', 'cls.predictions.transform.LayerNorm.bias', 'cls.predictions.transform.LayerNorm.weight', 'cls.predictions.bias', 'cls.predictions.decoder.weight', 'cls.predictions.transform.dense.bias']\n",
      "- This IS expected if you are initializing BertForSequenceClassification from the checkpoint of a model trained on another task or with another architecture (e.g. initializing a BertForSequenceClassification model from a BertForPreTraining model).\n",
      "- This IS NOT expected if you are initializing BertForSequenceClassification from the checkpoint of a model that you expect to be exactly identical (initializing a BertForSequenceClassification model from a BertForSequenceClassification model).\n",
      "Some weights of BertForSequenceClassification were not initialized from the model checkpoint at ./finetuned-scrumbled-wikitext2-3e-4/checkpoint-4560 and are newly initialized: ['bert.pooler.dense.weight', 'bert.pooler.dense.bias', 'classifier.weight', 'classifier.bias']\n",
      "You should probably TRAIN this model on a down-stream task to be able to use it for predictions and inference.\n"
     ]
    },
    {
     "name": "stdout",
     "output_type": "stream",
     "text": [
      "{'CR': {'devacc': 74.52, 'acc': 76.13, 'ndev': 3775, 'ntest': 3775}, 'MR': {'devacc': 70.18, 'acc': 70.08, 'ndev': 10662, 'ntest': 10662}, 'MPQA': {'devacc': 84.0, 'acc': 84.74, 'ndev': 10606, 'ntest': 10606}, 'SUBJ': {'devacc': 89.98, 'acc': 90.78, 'ndev': 10000, 'ntest': 10000}, 'SST2': {'devacc': 74.08, 'acc': 75.4, 'ndev': 872, 'ntest': 1821}, 'SST5': {'devacc': 37.42, 'acc': 38.82, 'ndev': 1101, 'ntest': 2210}}\n"
     ]
    },
    {
     "name": "stderr",
     "output_type": "stream",
     "text": [
      "Some weights of the model checkpoint at ./finetuned-scrumbled-wikitext2-3e-4/checkpoint-4640 were not used when initializing BertForSequenceClassification: ['cls.predictions.decoder.bias', 'cls.predictions.transform.dense.weight', 'cls.predictions.transform.LayerNorm.bias', 'cls.predictions.transform.LayerNorm.weight', 'cls.predictions.bias', 'cls.predictions.decoder.weight', 'cls.predictions.transform.dense.bias']\n",
      "- This IS expected if you are initializing BertForSequenceClassification from the checkpoint of a model trained on another task or with another architecture (e.g. initializing a BertForSequenceClassification model from a BertForPreTraining model).\n",
      "- This IS NOT expected if you are initializing BertForSequenceClassification from the checkpoint of a model that you expect to be exactly identical (initializing a BertForSequenceClassification model from a BertForSequenceClassification model).\n",
      "Some weights of BertForSequenceClassification were not initialized from the model checkpoint at ./finetuned-scrumbled-wikitext2-3e-4/checkpoint-4640 and are newly initialized: ['bert.pooler.dense.weight', 'bert.pooler.dense.bias', 'classifier.weight', 'classifier.bias']\n",
      "You should probably TRAIN this model on a down-stream task to be able to use it for predictions and inference.\n"
     ]
    },
    {
     "name": "stdout",
     "output_type": "stream",
     "text": [
      "{'CR': {'devacc': 74.12, 'acc': 75.71, 'ndev': 3775, 'ntest': 3775}, 'MR': {'devacc': 70.26, 'acc': 70.6, 'ndev': 10662, 'ntest': 10662}, 'MPQA': {'devacc': 83.92, 'acc': 84.73, 'ndev': 10606, 'ntest': 10606}, 'SUBJ': {'devacc': 89.86, 'acc': 90.55, 'ndev': 10000, 'ntest': 10000}, 'SST2': {'devacc': 74.2, 'acc': 75.51, 'ndev': 872, 'ntest': 1821}, 'SST5': {'devacc': 37.51, 'acc': 39.05, 'ndev': 1101, 'ntest': 2210}}\n"
     ]
    },
    {
     "name": "stderr",
     "output_type": "stream",
     "text": [
      "Some weights of the model checkpoint at ./finetuned-scrumbled-wikitext2-3e-4/checkpoint-4720 were not used when initializing BertForSequenceClassification: ['cls.predictions.decoder.bias', 'cls.predictions.transform.dense.weight', 'cls.predictions.transform.LayerNorm.bias', 'cls.predictions.transform.LayerNorm.weight', 'cls.predictions.bias', 'cls.predictions.decoder.weight', 'cls.predictions.transform.dense.bias']\n",
      "- This IS expected if you are initializing BertForSequenceClassification from the checkpoint of a model trained on another task or with another architecture (e.g. initializing a BertForSequenceClassification model from a BertForPreTraining model).\n",
      "- This IS NOT expected if you are initializing BertForSequenceClassification from the checkpoint of a model that you expect to be exactly identical (initializing a BertForSequenceClassification model from a BertForSequenceClassification model).\n",
      "Some weights of BertForSequenceClassification were not initialized from the model checkpoint at ./finetuned-scrumbled-wikitext2-3e-4/checkpoint-4720 and are newly initialized: ['bert.pooler.dense.weight', 'bert.pooler.dense.bias', 'classifier.weight', 'classifier.bias']\n",
      "You should probably TRAIN this model on a down-stream task to be able to use it for predictions and inference.\n"
     ]
    },
    {
     "name": "stdout",
     "output_type": "stream",
     "text": [
      "{'CR': {'devacc': 74.22, 'acc': 75.92, 'ndev': 3775, 'ntest': 3775}, 'MR': {'devacc': 70.11, 'acc': 70.57, 'ndev': 10662, 'ntest': 10662}, 'MPQA': {'devacc': 82.92, 'acc': 83.42, 'ndev': 10606, 'ntest': 10606}, 'SUBJ': {'devacc': 89.21, 'acc': 89.62, 'ndev': 10000, 'ntest': 10000}, 'SST2': {'devacc': 75.0, 'acc': 75.23, 'ndev': 872, 'ntest': 1821}, 'SST5': {'devacc': 37.42, 'acc': 38.51, 'ndev': 1101, 'ntest': 2210}}\n"
     ]
    },
    {
     "name": "stderr",
     "output_type": "stream",
     "text": [
      "Some weights of the model checkpoint at ./finetuned-scrumbled-wikitext2-3e-4/checkpoint-4800 were not used when initializing BertForSequenceClassification: ['cls.predictions.decoder.bias', 'cls.predictions.transform.dense.weight', 'cls.predictions.transform.LayerNorm.bias', 'cls.predictions.transform.LayerNorm.weight', 'cls.predictions.bias', 'cls.predictions.decoder.weight', 'cls.predictions.transform.dense.bias']\n",
      "- This IS expected if you are initializing BertForSequenceClassification from the checkpoint of a model trained on another task or with another architecture (e.g. initializing a BertForSequenceClassification model from a BertForPreTraining model).\n",
      "- This IS NOT expected if you are initializing BertForSequenceClassification from the checkpoint of a model that you expect to be exactly identical (initializing a BertForSequenceClassification model from a BertForSequenceClassification model).\n",
      "Some weights of BertForSequenceClassification were not initialized from the model checkpoint at ./finetuned-scrumbled-wikitext2-3e-4/checkpoint-4800 and are newly initialized: ['bert.pooler.dense.weight', 'bert.pooler.dense.bias', 'classifier.weight', 'classifier.bias']\n",
      "You should probably TRAIN this model on a down-stream task to be able to use it for predictions and inference.\n"
     ]
    },
    {
     "name": "stdout",
     "output_type": "stream",
     "text": [
      "{'CR': {'devacc': 73.47, 'acc': 73.51, 'ndev': 3775, 'ntest': 3775}, 'MR': {'devacc': 69.49, 'acc': 70.09, 'ndev': 10662, 'ntest': 10662}, 'MPQA': {'devacc': 84.3, 'acc': 84.6, 'ndev': 10606, 'ntest': 10606}, 'SUBJ': {'devacc': 89.62, 'acc': 89.95, 'ndev': 10000, 'ntest': 10000}, 'SST2': {'devacc': 73.74, 'acc': 75.01, 'ndev': 872, 'ntest': 1821}, 'SST5': {'devacc': 36.42, 'acc': 37.33, 'ndev': 1101, 'ntest': 2210}}\n"
     ]
    },
    {
     "name": "stderr",
     "output_type": "stream",
     "text": [
      "Some weights of the model checkpoint at ./finetuned-scrumbled-wikitext2-3e-4/checkpoint-4880 were not used when initializing BertForSequenceClassification: ['cls.predictions.decoder.bias', 'cls.predictions.transform.dense.weight', 'cls.predictions.transform.LayerNorm.bias', 'cls.predictions.transform.LayerNorm.weight', 'cls.predictions.bias', 'cls.predictions.decoder.weight', 'cls.predictions.transform.dense.bias']\n",
      "- This IS expected if you are initializing BertForSequenceClassification from the checkpoint of a model trained on another task or with another architecture (e.g. initializing a BertForSequenceClassification model from a BertForPreTraining model).\n",
      "- This IS NOT expected if you are initializing BertForSequenceClassification from the checkpoint of a model that you expect to be exactly identical (initializing a BertForSequenceClassification model from a BertForSequenceClassification model).\n",
      "Some weights of BertForSequenceClassification were not initialized from the model checkpoint at ./finetuned-scrumbled-wikitext2-3e-4/checkpoint-4880 and are newly initialized: ['bert.pooler.dense.weight', 'bert.pooler.dense.bias', 'classifier.weight', 'classifier.bias']\n",
      "You should probably TRAIN this model on a down-stream task to be able to use it for predictions and inference.\n"
     ]
    },
    {
     "name": "stdout",
     "output_type": "stream",
     "text": [
      "{'CR': {'devacc': 73.87, 'acc': 74.99, 'ndev': 3775, 'ntest': 3775}, 'MR': {'devacc': 69.22, 'acc': 69.89, 'ndev': 10662, 'ntest': 10662}, 'MPQA': {'devacc': 83.42, 'acc': 84.22, 'ndev': 10606, 'ntest': 10606}, 'SUBJ': {'devacc': 89.53, 'acc': 89.86, 'ndev': 10000, 'ntest': 10000}, 'SST2': {'devacc': 74.08, 'acc': 74.41, 'ndev': 872, 'ntest': 1821}, 'SST5': {'devacc': 36.06, 'acc': 37.06, 'ndev': 1101, 'ntest': 2210}}\n"
     ]
    },
    {
     "name": "stderr",
     "output_type": "stream",
     "text": [
      "Some weights of the model checkpoint at ./finetuned-scrumbled-wikitext2-3e-4/checkpoint-4960 were not used when initializing BertForSequenceClassification: ['cls.predictions.decoder.bias', 'cls.predictions.transform.dense.weight', 'cls.predictions.transform.LayerNorm.bias', 'cls.predictions.transform.LayerNorm.weight', 'cls.predictions.bias', 'cls.predictions.decoder.weight', 'cls.predictions.transform.dense.bias']\n",
      "- This IS expected if you are initializing BertForSequenceClassification from the checkpoint of a model trained on another task or with another architecture (e.g. initializing a BertForSequenceClassification model from a BertForPreTraining model).\n",
      "- This IS NOT expected if you are initializing BertForSequenceClassification from the checkpoint of a model that you expect to be exactly identical (initializing a BertForSequenceClassification model from a BertForSequenceClassification model).\n",
      "Some weights of BertForSequenceClassification were not initialized from the model checkpoint at ./finetuned-scrumbled-wikitext2-3e-4/checkpoint-4960 and are newly initialized: ['bert.pooler.dense.weight', 'bert.pooler.dense.bias', 'classifier.weight', 'classifier.bias']\n",
      "You should probably TRAIN this model on a down-stream task to be able to use it for predictions and inference.\n"
     ]
    },
    {
     "name": "stdout",
     "output_type": "stream",
     "text": [
      "{'CR': {'devacc': 73.36, 'acc': 74.86, 'ndev': 3775, 'ntest': 3775}, 'MR': {'devacc': 69.52, 'acc': 69.68, 'ndev': 10662, 'ntest': 10662}, 'MPQA': {'devacc': 84.37, 'acc': 84.81, 'ndev': 10606, 'ntest': 10606}, 'SUBJ': {'devacc': 89.51, 'acc': 90.03, 'ndev': 10000, 'ntest': 10000}, 'SST2': {'devacc': 73.28, 'acc': 74.57, 'ndev': 872, 'ntest': 1821}, 'SST5': {'devacc': 36.42, 'acc': 38.14, 'ndev': 1101, 'ntest': 2210}}\n"
     ]
    },
    {
     "name": "stderr",
     "output_type": "stream",
     "text": [
      "Some weights of the model checkpoint at ./finetuned-scrumbled-wikitext2-3e-4/checkpoint-5040 were not used when initializing BertForSequenceClassification: ['cls.predictions.decoder.bias', 'cls.predictions.transform.dense.weight', 'cls.predictions.transform.LayerNorm.bias', 'cls.predictions.transform.LayerNorm.weight', 'cls.predictions.bias', 'cls.predictions.decoder.weight', 'cls.predictions.transform.dense.bias']\n",
      "- This IS expected if you are initializing BertForSequenceClassification from the checkpoint of a model trained on another task or with another architecture (e.g. initializing a BertForSequenceClassification model from a BertForPreTraining model).\n",
      "- This IS NOT expected if you are initializing BertForSequenceClassification from the checkpoint of a model that you expect to be exactly identical (initializing a BertForSequenceClassification model from a BertForSequenceClassification model).\n",
      "Some weights of BertForSequenceClassification were not initialized from the model checkpoint at ./finetuned-scrumbled-wikitext2-3e-4/checkpoint-5040 and are newly initialized: ['bert.pooler.dense.weight', 'bert.pooler.dense.bias', 'classifier.weight', 'classifier.bias']\n",
      "You should probably TRAIN this model on a down-stream task to be able to use it for predictions and inference.\n"
     ]
    },
    {
     "name": "stdout",
     "output_type": "stream",
     "text": [
      "{'CR': {'devacc': 75.02, 'acc': 75.68, 'ndev': 3775, 'ntest': 3775}, 'MR': {'devacc': 70.24, 'acc': 70.37, 'ndev': 10662, 'ntest': 10662}, 'MPQA': {'devacc': 82.61, 'acc': 83.21, 'ndev': 10606, 'ntest': 10606}, 'SUBJ': {'devacc': 89.65, 'acc': 89.9, 'ndev': 10000, 'ntest': 10000}, 'SST2': {'devacc': 75.57, 'acc': 74.9, 'ndev': 872, 'ntest': 1821}, 'SST5': {'devacc': 36.78, 'acc': 38.01, 'ndev': 1101, 'ntest': 2210}}\n"
     ]
    },
    {
     "name": "stderr",
     "output_type": "stream",
     "text": [
      "Some weights of the model checkpoint at ./finetuned-scrumbled-wikitext2-3e-4/checkpoint-5120 were not used when initializing BertForSequenceClassification: ['cls.predictions.decoder.bias', 'cls.predictions.transform.dense.weight', 'cls.predictions.transform.LayerNorm.bias', 'cls.predictions.transform.LayerNorm.weight', 'cls.predictions.bias', 'cls.predictions.decoder.weight', 'cls.predictions.transform.dense.bias']\n",
      "- This IS expected if you are initializing BertForSequenceClassification from the checkpoint of a model trained on another task or with another architecture (e.g. initializing a BertForSequenceClassification model from a BertForPreTraining model).\n",
      "- This IS NOT expected if you are initializing BertForSequenceClassification from the checkpoint of a model that you expect to be exactly identical (initializing a BertForSequenceClassification model from a BertForSequenceClassification model).\n",
      "Some weights of BertForSequenceClassification were not initialized from the model checkpoint at ./finetuned-scrumbled-wikitext2-3e-4/checkpoint-5120 and are newly initialized: ['bert.pooler.dense.weight', 'bert.pooler.dense.bias', 'classifier.weight', 'classifier.bias']\n",
      "You should probably TRAIN this model on a down-stream task to be able to use it for predictions and inference.\n"
     ]
    },
    {
     "name": "stdout",
     "output_type": "stream",
     "text": [
      "{'CR': {'devacc': 74.99, 'acc': 76.05, 'ndev': 3775, 'ntest': 3775}, 'MR': {'devacc': 70.22, 'acc': 70.37, 'ndev': 10662, 'ntest': 10662}, 'MPQA': {'devacc': 82.9, 'acc': 83.95, 'ndev': 10606, 'ntest': 10606}, 'SUBJ': {'devacc': 89.97, 'acc': 90.23, 'ndev': 10000, 'ntest': 10000}, 'SST2': {'devacc': 73.51, 'acc': 76.0, 'ndev': 872, 'ntest': 1821}, 'SST5': {'devacc': 39.15, 'acc': 38.64, 'ndev': 1101, 'ntest': 2210}}\n"
     ]
    },
    {
     "name": "stderr",
     "output_type": "stream",
     "text": [
      "Some weights of the model checkpoint at ./finetuned-scrumbled-wikitext2-3e-4/checkpoint-5200 were not used when initializing BertForSequenceClassification: ['cls.predictions.decoder.bias', 'cls.predictions.transform.dense.weight', 'cls.predictions.transform.LayerNorm.bias', 'cls.predictions.transform.LayerNorm.weight', 'cls.predictions.bias', 'cls.predictions.decoder.weight', 'cls.predictions.transform.dense.bias']\n",
      "- This IS expected if you are initializing BertForSequenceClassification from the checkpoint of a model trained on another task or with another architecture (e.g. initializing a BertForSequenceClassification model from a BertForPreTraining model).\n",
      "- This IS NOT expected if you are initializing BertForSequenceClassification from the checkpoint of a model that you expect to be exactly identical (initializing a BertForSequenceClassification model from a BertForSequenceClassification model).\n",
      "Some weights of BertForSequenceClassification were not initialized from the model checkpoint at ./finetuned-scrumbled-wikitext2-3e-4/checkpoint-5200 and are newly initialized: ['bert.pooler.dense.weight', 'bert.pooler.dense.bias', 'classifier.weight', 'classifier.bias']\n",
      "You should probably TRAIN this model on a down-stream task to be able to use it for predictions and inference.\n"
     ]
    },
    {
     "name": "stdout",
     "output_type": "stream",
     "text": [
      "{'CR': {'devacc': 74.74, 'acc': 75.58, 'ndev': 3775, 'ntest': 3775}, 'MR': {'devacc': 69.83, 'acc': 70.25, 'ndev': 10662, 'ntest': 10662}, 'MPQA': {'devacc': 83.12, 'acc': 83.36, 'ndev': 10606, 'ntest': 10606}, 'SUBJ': {'devacc': 89.97, 'acc': 90.46, 'ndev': 10000, 'ntest': 10000}, 'SST2': {'devacc': 73.39, 'acc': 73.64, 'ndev': 872, 'ntest': 1821}, 'SST5': {'devacc': 38.96, 'acc': 36.65, 'ndev': 1101, 'ntest': 2210}}\n"
     ]
    },
    {
     "name": "stderr",
     "output_type": "stream",
     "text": [
      "Some weights of the model checkpoint at ./finetuned-scrumbled-wikitext2-3e-4/checkpoint-5280 were not used when initializing BertForSequenceClassification: ['cls.predictions.decoder.bias', 'cls.predictions.transform.dense.weight', 'cls.predictions.transform.LayerNorm.bias', 'cls.predictions.transform.LayerNorm.weight', 'cls.predictions.bias', 'cls.predictions.decoder.weight', 'cls.predictions.transform.dense.bias']\n",
      "- This IS expected if you are initializing BertForSequenceClassification from the checkpoint of a model trained on another task or with another architecture (e.g. initializing a BertForSequenceClassification model from a BertForPreTraining model).\n",
      "- This IS NOT expected if you are initializing BertForSequenceClassification from the checkpoint of a model that you expect to be exactly identical (initializing a BertForSequenceClassification model from a BertForSequenceClassification model).\n",
      "Some weights of BertForSequenceClassification were not initialized from the model checkpoint at ./finetuned-scrumbled-wikitext2-3e-4/checkpoint-5280 and are newly initialized: ['bert.pooler.dense.weight', 'bert.pooler.dense.bias', 'classifier.weight', 'classifier.bias']\n",
      "You should probably TRAIN this model on a down-stream task to be able to use it for predictions and inference.\n"
     ]
    },
    {
     "name": "stdout",
     "output_type": "stream",
     "text": [
      "{'CR': {'devacc': 75.18, 'acc': 76.03, 'ndev': 3775, 'ntest': 3775}, 'MR': {'devacc': 70.7, 'acc': 71.14, 'ndev': 10662, 'ntest': 10662}, 'MPQA': {'devacc': 83.04, 'acc': 83.52, 'ndev': 10606, 'ntest': 10606}, 'SUBJ': {'devacc': 89.84, 'acc': 90.45, 'ndev': 10000, 'ntest': 10000}, 'SST2': {'devacc': 73.85, 'acc': 74.46, 'ndev': 872, 'ntest': 1821}, 'SST5': {'devacc': 35.69, 'acc': 37.1, 'ndev': 1101, 'ntest': 2210}}\n"
     ]
    },
    {
     "name": "stderr",
     "output_type": "stream",
     "text": [
      "Some weights of the model checkpoint at ./finetuned-scrumbled-wikitext2-3e-4/checkpoint-5360 were not used when initializing BertForSequenceClassification: ['cls.predictions.decoder.bias', 'cls.predictions.transform.dense.weight', 'cls.predictions.transform.LayerNorm.bias', 'cls.predictions.transform.LayerNorm.weight', 'cls.predictions.bias', 'cls.predictions.decoder.weight', 'cls.predictions.transform.dense.bias']\n",
      "- This IS expected if you are initializing BertForSequenceClassification from the checkpoint of a model trained on another task or with another architecture (e.g. initializing a BertForSequenceClassification model from a BertForPreTraining model).\n",
      "- This IS NOT expected if you are initializing BertForSequenceClassification from the checkpoint of a model that you expect to be exactly identical (initializing a BertForSequenceClassification model from a BertForSequenceClassification model).\n",
      "Some weights of BertForSequenceClassification were not initialized from the model checkpoint at ./finetuned-scrumbled-wikitext2-3e-4/checkpoint-5360 and are newly initialized: ['bert.pooler.dense.weight', 'bert.pooler.dense.bias', 'classifier.weight', 'classifier.bias']\n",
      "You should probably TRAIN this model on a down-stream task to be able to use it for predictions and inference.\n"
     ]
    },
    {
     "name": "stdout",
     "output_type": "stream",
     "text": [
      "{'CR': {'devacc': 74.87, 'acc': 75.71, 'ndev': 3775, 'ntest': 3775}, 'MR': {'devacc': 70.59, 'acc': 70.63, 'ndev': 10662, 'ntest': 10662}, 'MPQA': {'devacc': 82.99, 'acc': 83.41, 'ndev': 10606, 'ntest': 10606}, 'SUBJ': {'devacc': 89.91, 'acc': 90.65, 'ndev': 10000, 'ntest': 10000}, 'SST2': {'devacc': 74.54, 'acc': 74.74, 'ndev': 872, 'ntest': 1821}, 'SST5': {'devacc': 37.69, 'acc': 39.1, 'ndev': 1101, 'ntest': 2210}}\n"
     ]
    },
    {
     "name": "stderr",
     "output_type": "stream",
     "text": [
      "Some weights of the model checkpoint at ./finetuned-scrumbled-wikitext2-3e-4/checkpoint-5440 were not used when initializing BertForSequenceClassification: ['cls.predictions.decoder.bias', 'cls.predictions.transform.dense.weight', 'cls.predictions.transform.LayerNorm.bias', 'cls.predictions.transform.LayerNorm.weight', 'cls.predictions.bias', 'cls.predictions.decoder.weight', 'cls.predictions.transform.dense.bias']\n",
      "- This IS expected if you are initializing BertForSequenceClassification from the checkpoint of a model trained on another task or with another architecture (e.g. initializing a BertForSequenceClassification model from a BertForPreTraining model).\n",
      "- This IS NOT expected if you are initializing BertForSequenceClassification from the checkpoint of a model that you expect to be exactly identical (initializing a BertForSequenceClassification model from a BertForSequenceClassification model).\n",
      "Some weights of BertForSequenceClassification were not initialized from the model checkpoint at ./finetuned-scrumbled-wikitext2-3e-4/checkpoint-5440 and are newly initialized: ['bert.pooler.dense.weight', 'bert.pooler.dense.bias', 'classifier.weight', 'classifier.bias']\n",
      "You should probably TRAIN this model on a down-stream task to be able to use it for predictions and inference.\n"
     ]
    },
    {
     "name": "stdout",
     "output_type": "stream",
     "text": [
      "{'CR': {'devacc': 74.25, 'acc': 75.58, 'ndev': 3775, 'ntest': 3775}, 'MR': {'devacc': 70.4, 'acc': 70.53, 'ndev': 10662, 'ntest': 10662}, 'MPQA': {'devacc': 83.04, 'acc': 83.36, 'ndev': 10606, 'ntest': 10606}, 'SUBJ': {'devacc': 89.88, 'acc': 90.63, 'ndev': 10000, 'ntest': 10000}, 'SST2': {'devacc': 74.77, 'acc': 74.46, 'ndev': 872, 'ntest': 1821}, 'SST5': {'devacc': 36.88, 'acc': 37.96, 'ndev': 1101, 'ntest': 2210}}\n"
     ]
    },
    {
     "name": "stderr",
     "output_type": "stream",
     "text": [
      "Some weights of the model checkpoint at ./finetuned-scrumbled-wikitext2-3e-4/checkpoint-5520 were not used when initializing BertForSequenceClassification: ['cls.predictions.decoder.bias', 'cls.predictions.transform.dense.weight', 'cls.predictions.transform.LayerNorm.bias', 'cls.predictions.transform.LayerNorm.weight', 'cls.predictions.bias', 'cls.predictions.decoder.weight', 'cls.predictions.transform.dense.bias']\n",
      "- This IS expected if you are initializing BertForSequenceClassification from the checkpoint of a model trained on another task or with another architecture (e.g. initializing a BertForSequenceClassification model from a BertForPreTraining model).\n",
      "- This IS NOT expected if you are initializing BertForSequenceClassification from the checkpoint of a model that you expect to be exactly identical (initializing a BertForSequenceClassification model from a BertForSequenceClassification model).\n",
      "Some weights of BertForSequenceClassification were not initialized from the model checkpoint at ./finetuned-scrumbled-wikitext2-3e-4/checkpoint-5520 and are newly initialized: ['bert.pooler.dense.weight', 'bert.pooler.dense.bias', 'classifier.weight', 'classifier.bias']\n",
      "You should probably TRAIN this model on a down-stream task to be able to use it for predictions and inference.\n"
     ]
    },
    {
     "name": "stdout",
     "output_type": "stream",
     "text": [
      "{'CR': {'devacc': 74.93, 'acc': 75.97, 'ndev': 3775, 'ntest': 3775}, 'MR': {'devacc': 69.84, 'acc': 70.51, 'ndev': 10662, 'ntest': 10662}, 'MPQA': {'devacc': 82.7, 'acc': 83.32, 'ndev': 10606, 'ntest': 10606}, 'SUBJ': {'devacc': 89.94, 'acc': 90.39, 'ndev': 10000, 'ntest': 10000}, 'SST2': {'devacc': 73.74, 'acc': 73.86, 'ndev': 872, 'ntest': 1821}, 'SST5': {'devacc': 36.15, 'acc': 37.06, 'ndev': 1101, 'ntest': 2210}}\n"
     ]
    },
    {
     "name": "stderr",
     "output_type": "stream",
     "text": [
      "Some weights of the model checkpoint at ./finetuned-scrumbled-wikitext2-3e-4/checkpoint-5600 were not used when initializing BertForSequenceClassification: ['cls.predictions.decoder.bias', 'cls.predictions.transform.dense.weight', 'cls.predictions.transform.LayerNorm.bias', 'cls.predictions.transform.LayerNorm.weight', 'cls.predictions.bias', 'cls.predictions.decoder.weight', 'cls.predictions.transform.dense.bias']\n",
      "- This IS expected if you are initializing BertForSequenceClassification from the checkpoint of a model trained on another task or with another architecture (e.g. initializing a BertForSequenceClassification model from a BertForPreTraining model).\n",
      "- This IS NOT expected if you are initializing BertForSequenceClassification from the checkpoint of a model that you expect to be exactly identical (initializing a BertForSequenceClassification model from a BertForSequenceClassification model).\n",
      "Some weights of BertForSequenceClassification were not initialized from the model checkpoint at ./finetuned-scrumbled-wikitext2-3e-4/checkpoint-5600 and are newly initialized: ['bert.pooler.dense.weight', 'bert.pooler.dense.bias', 'classifier.weight', 'classifier.bias']\n",
      "You should probably TRAIN this model on a down-stream task to be able to use it for predictions and inference.\n"
     ]
    }
   ],
   "source": [
    "import numpy as np\n",
    "import senteval\n",
    "def prepare(params, samples):\n",
    "    return \n",
    "\n",
    "def batcher(_, batch):\n",
    "    batch = [\" \".join(sts) for sts in batch]\n",
    "    inputs = tokenizer(batch, return_tensors=\"pt\",\n",
    "            add_special_tokens=True,\n",
    "            pad_to_max_length=True,         # Pad sentence to max length\n",
    "            truncation=True)\n",
    "    for k in inputs:\n",
    "        inputs[k] = inputs[k].to(\"cuda\")\n",
    "    res = model(**inputs)[\"hidden_states\"]\n",
    "    res = res[-1][:, 0].detach().cpu().numpy()\n",
    "    return res\n",
    "\n",
    "\n",
    "models = [\"bert-base-uncased\"] + [f\"./finetuned-scrumbled-wikitext2-3e-4/checkpoint-{i}\" for i in range(5520 + 80, 40000, 80)]\n",
    "device='cuda'\n",
    "\n",
    "for model_name in models:\n",
    "    model = BertForSequenceClassification.from_pretrained(model_name, output_hidden_states=True)\n",
    "    model = model.to(device)\n",
    "\n",
    "    model = model.to(device)\n",
    "    PATH_TO_DATA = \"SentEval/data\"\n",
    "    PARAMS = {'task_path': PATH_TO_DATA, 'usepytorch': False, 'kfold': 3, 'batch_size': 8}\n",
    "    PARAMS['classifier'] = {'max_iter': 10000, 'nhid': 768}\n",
    "    transfer_tasks = ['CR', 'MR', 'MPQA', 'SUBJ', 'SST2', 'SST5']\n",
    "    import warnings\n",
    "    def fxn():\n",
    "        warnings.warn(\"deprecated\", DeprecationWarning)\n",
    "\n",
    "    with warnings.catch_warnings():\n",
    "        warnings.simplefilter(\"ignore\")\n",
    "        se = senteval.engine.SE(PARAMS, batcher, prepare)\n",
    "        results = se.eval(transfer_tasks)\n",
    "    with open(\"probing_res.txt\", \"a\") as fout:\n",
    "        print(model_name, results, sep=\"\\t\", file=fout)"
   ]
  }
 ],
 "metadata": {
  "kernelspec": {
   "display_name": "Python 3 (ipykernel)",
   "language": "python",
   "name": "python3"
  },
  "language_info": {
   "codemirror_mode": {
    "name": "ipython",
    "version": 3
   },
   "file_extension": ".py",
   "mimetype": "text/x-python",
   "name": "python",
   "nbconvert_exporter": "python",
   "pygments_lexer": "ipython3",
   "version": "3.9.16"
  },
  "vscode": {
   "interpreter": {
    "hash": "46242d4576570c8c82d7fb56e00e670e22fb52831ef677247d21ad598b3c01cb"
   }
  }
 },
 "nbformat": 4,
 "nbformat_minor": 2
}
